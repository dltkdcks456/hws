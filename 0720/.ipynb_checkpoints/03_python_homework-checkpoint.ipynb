{
 "cells": [
  {
   "cell_type": "markdown",
   "id": "9e703e5d",
   "metadata": {},
   "source": [
    "# Python 03. 제어문과 함수"
   ]
  },
  {
   "cell_type": "markdown",
   "id": "b45bb414",
   "metadata": {},
   "source": [
    "## 1. Built-in 함수\n",
    "Python에서 기본으로 사용할 수 있는 built-in 함수를 최소 5가지 이상 작성하시오."
   ]
  },
  {
   "cell_type": "code",
   "execution_count": 9,
   "id": "2c483b41",
   "metadata": {
    "scrolled": true
   },
   "outputs": [
    {
     "name": "stdout",
     "output_type": "stream",
     "text": [
      "sum(), len(), range(), print(), list()\n"
     ]
    }
   ],
   "source": [
    "print('sum(), len(), range(), print(), list()')"
   ]
  },
  {
   "cell_type": "markdown",
   "id": "0a99d83d",
   "metadata": {},
   "source": [
    "## 2. 홀수만 담기\n",
    "range와 slicing을 활용하여 1부터 50까지의 숫자 중,\n",
    "홀수로만 이루어진 리스트를 만드시오"
   ]
  },
  {
   "cell_type": "code",
   "execution_count": 4,
   "id": "a0f8cfe7",
   "metadata": {},
   "outputs": [
    {
     "name": "stdout",
     "output_type": "stream",
     "text": [
      "[1, 3, 5, 7, 9, 11, 13, 15, 17, 19, 21, 23, 25, 27, 29, 31, 33, 35, 37, 39, 41, 43, 45, 47, 49]\n"
     ]
    }
   ],
   "source": [
    "num_list = list(range(1,51))\n",
    "print(num_list[::2])"
   ]
  },
  {
   "cell_type": "markdown",
   "id": "0491323c",
   "metadata": {},
   "source": [
    "## 3. 반복문으로 네모 출력\n",
    "두 개의 정수 n과 m이 주어졌을 때, 가로의 길이가 n, 세로의 길이가 m인 직사각형 형태를\n",
    "별(*) 문자를 이용하여 출력하시오. 단, 반복문을 사용하여 작성하시오."
   ]
  },
  {
   "cell_type": "code",
   "execution_count": 5,
   "id": "6ab3d992",
   "metadata": {},
   "outputs": [
    {
     "name": "stdout",
     "output_type": "stream",
     "text": [
      "*****\n",
      "*****\n",
      "*****\n",
      "*****\n",
      "*****\n",
      "*****\n",
      "*****\n",
      "*****\n",
      "*****\n"
     ]
    }
   ],
   "source": [
    "n = 5\n",
    "m = 9\n",
    "for i in range(9):\n",
    "    print('*'*n)"
   ]
  },
  {
   "cell_type": "markdown",
   "id": "891d7fb9",
   "metadata": {},
   "source": [
    "## 4. 조건 표현식\n",
    "주어진 코드의 조건문을 조건 표현식으로 바꾸어 작성하시오.<br>temp = 36.5<br>\n",
    "if temp >= 37.5:<br>\n",
    "    </t>print('입실 불가')<br>\n",
    "else:<br>\n",
    "    </t>print('입실 가능')<br>"
   ]
  },
  {
   "cell_type": "code",
   "execution_count": 6,
   "id": "5dadc481",
   "metadata": {},
   "outputs": [
    {
     "name": "stdout",
     "output_type": "stream",
     "text": [
      "입실 가능\n"
     ]
    }
   ],
   "source": [
    "temp = 36.5\n",
    "print('입실 불가' if temp >= 37.5 else '입실 가능')"
   ]
  },
  {
   "cell_type": "markdown",
   "id": "b6e17fe8",
   "metadata": {},
   "source": [
    "## 5. 정중앙 문자\n",
    "문자열을 전달 받아 해당 문자열의 정중앙 문자를 반환하는 get_middle_char 함수를\n",
    "작성하시오. 단, 문자열의 길이가 짝수일 경우에는 정중앙 문자 2개를 반환한다.<br>get_middle_char('ssafy’) # => a<br>\n",
    "get_middle_char('coding’) # => d"
   ]
  },
  {
   "cell_type": "code",
   "execution_count": 8,
   "id": "2b7c0518",
   "metadata": {},
   "outputs": [
    {
     "name": "stdout",
     "output_type": "stream",
     "text": [
      "coding\n",
      "di\n"
     ]
    }
   ],
   "source": [
    "text = input().strip()\n",
    "\n",
    "def get_middle_char(a):\n",
    "    count_char = len(a)\n",
    "    if count_char % 2:\n",
    "        print(a[count_char//2])\n",
    "    else:\n",
    "        print(a[count_char//2-1:count_char//2+1])\n",
    "\n",
    "get_middle_char(text)"
   ]
  }
 ],
 "metadata": {
  "kernelspec": {
   "display_name": "Python 3 (ipykernel)",
   "language": "python",
   "name": "python3"
  },
  "language_info": {
   "codemirror_mode": {
    "name": "ipython",
    "version": 3
   },
   "file_extension": ".py",
   "mimetype": "text/x-python",
   "name": "python",
   "nbconvert_exporter": "python",
   "pygments_lexer": "ipython3",
   "version": "3.9.13"
  }
 },
 "nbformat": 4,
 "nbformat_minor": 5
}
