{
 "cells": [
  {
   "cell_type": "markdown",
   "id": "6560336a",
   "metadata": {},
   "source": [
    "# Python 08. 객체 지향 프로그래밍"
   ]
  },
  {
   "cell_type": "markdown",
   "id": "59876b43",
   "metadata": {},
   "source": [
    "## 1. 도형 만들기\n",
    "아래의 명세를 읽고 Python 클래스를 활용하여 점(Point)과 사각형(Rectangle)을\n",
    "표현하시오."
   ]
  },
  {
   "cell_type": "code",
   "execution_count": 1,
   "id": "33d2b472",
   "metadata": {},
   "outputs": [],
   "source": [
    "class Point:\n",
    "    def __init__(self, x, y):\n",
    "        self.x = x\n",
    "        self.y = y"
   ]
  },
  {
   "cell_type": "code",
   "execution_count": 2,
   "id": "4b4ddf75",
   "metadata": {},
   "outputs": [
    {
     "name": "stdout",
     "output_type": "stream",
     "text": [
      "4 3\n"
     ]
    }
   ],
   "source": [
    "p1 = Point(4, 3)\n",
    "print(p1.x, p1.y)"
   ]
  },
  {
   "cell_type": "code",
   "execution_count": 31,
   "id": "18ffd7f6",
   "metadata": {},
   "outputs": [],
   "source": [
    "class Point:\n",
    "    def __init__(self, x, y):\n",
    "        self.x = x\n",
    "        self.y = y\n",
    "        \n",
    "class Rectangle:\n",
    "    def __init__(self, r1, r2):\n",
    "        self.p1 = r1\n",
    "        self.p2 = r2\n",
    "        \n",
    "    def get_area(self):\n",
    "        return abs(self.p1.x - self.p2.x) * abs(self.p1.y - self.p2.y)\n",
    "    \n",
    "    def get_perimeter(self):\n",
    "        return abs(self.p1.x - self.p2.x) * 2 + abs(self.p1.y - self.p2.y) * 2\n",
    "    \n",
    "    '''def is_square(self):\n",
    "        if abs(self.p1.x - self.p2.x) == abs(self.p1.y - self.p2.y):\n",
    "            return True\n",
    "        else:\n",
    "            return False'''\n",
    "\n",
    "    def is_square(self):\n",
    "        return True if abs(self.p1.x - self.p2.x) == abs(self.p1.y - self.p2.y) else False\n",
    "        "
   ]
  },
  {
   "cell_type": "code",
   "execution_count": 32,
   "id": "3b51ea54",
   "metadata": {},
   "outputs": [
    {
     "name": "stdout",
     "output_type": "stream",
     "text": [
      "4\n",
      "8\n",
      "True\n",
      "9\n",
      "12\n",
      "True\n"
     ]
    }
   ],
   "source": [
    "p1 = Point(1, 3)\n",
    "p2 = Point(3, 1)\n",
    "r1 = Rectangle(p1, p2)\n",
    "print(r1.get_area())\n",
    "print(r1.get_perimeter())\n",
    "print(r1.is_square())\n",
    "p3 = Point(3, 7)\n",
    "p4 = Point(6, 4)\n",
    "r2 = Rectangle(p3, p4)\n",
    "print(r2.get_area())\n",
    "print(r2.get_perimeter())\n",
    "print(r2.is_square())"
   ]
  },
  {
   "cell_type": "code",
   "execution_count": null,
   "id": "3d46eb17",
   "metadata": {},
   "outputs": [],
   "source": []
  }
 ],
 "metadata": {
  "kernelspec": {
   "display_name": "Python 3 (ipykernel)",
   "language": "python",
   "name": "python3"
  },
  "language_info": {
   "codemirror_mode": {
    "name": "ipython",
    "version": 3
   },
   "file_extension": ".py",
   "mimetype": "text/x-python",
   "name": "python",
   "nbconvert_exporter": "python",
   "pygments_lexer": "ipython3",
   "version": "3.9.13"
  },
  "toc": {
   "base_numbering": 1,
   "nav_menu": {},
   "number_sections": true,
   "sideBar": true,
   "skip_h1_title": false,
   "title_cell": "Table of Contents",
   "title_sidebar": "Contents",
   "toc_cell": false,
   "toc_position": {},
   "toc_section_display": true,
   "toc_window_display": false
  }
 },
 "nbformat": 4,
 "nbformat_minor": 5
}
