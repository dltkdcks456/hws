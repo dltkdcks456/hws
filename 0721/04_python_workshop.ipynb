{
 "cells": [
  {
   "cell_type": "markdown",
   "id": "84765036",
   "metadata": {},
   "source": [
    "# Python 04. 함수"
   ]
  },
  {
   "cell_type": "markdown",
   "id": "9e9ab271",
   "metadata": {},
   "source": [
    "## 1. 간단한 N의 약수 (SWEA #1933)\n",
    "입력으로 1개의 정수 N이 주어진다. 정수 N의 약수를 오름차순으로 출력하는\n",
    "프로그램을 작성하시오<br>\n",
    "[제약 사항]<br>\n",
    "N은 1이상 1,000이하의 정수이다. (1 ≤ N ≤ 1,000)<br>\n",
    "[입력]<br>\n",
    "입력으로 정수 N이 주어진다.<br>\n",
    "[출력]<br>\n",
    "정수 N의 모든 약수를 오름차순으로 출력한다.<br>\n",
    "[입력 예시]<br>\n",
    "10<br>\n",
    "[출력 예시]<br>\n",
    "1 2 5 10<br>\n"
   ]
  },
  {
   "cell_type": "code",
   "execution_count": 3,
   "id": "525ddafc",
   "metadata": {},
   "outputs": [
    {
     "name": "stdout",
     "output_type": "stream",
     "text": [
      "10\n",
      "1 2 5 10\n"
     ]
    }
   ],
   "source": [
    "number = int(input())\n",
    "list1 = list()\n",
    "for i in range(1, number+1):\n",
    "    if number % i:\n",
    "        continue\n",
    "    else:\n",
    "        list1.append(i)\n",
    "print(*list1)"
   ]
  },
  {
   "cell_type": "code",
   "execution_count": 16,
   "id": "e2f9a084",
   "metadata": {},
   "outputs": [
    {
     "name": "stdout",
     "output_type": "stream",
     "text": [
      "10\n",
      "1 2 5 10 "
     ]
    }
   ],
   "source": [
    "n = int(input())\n",
    "for i in range(1, n+1):\n",
    "    if n % i == 0:\n",
    "        print(i, end= ' ')"
   ]
  },
  {
   "cell_type": "markdown",
   "id": "42d3a24b",
   "metadata": {},
   "source": [
    "## 2. List의 합 구하기\n",
    "정수로만 이루어진 list를 전달 받아 해당 list의 모든 요소들의 합을 반환하는\n",
    "list_sum 함수를 built-in 함수인 sum() 함수를 사용하지 않고 작성하시오.<br>\n",
    "list_sum([1, 2, 3, 4, 5]) "
   ]
  },
  {
   "cell_type": "code",
   "execution_count": 4,
   "id": "22e46ada",
   "metadata": {},
   "outputs": [
    {
     "name": "stdout",
     "output_type": "stream",
     "text": [
      "15\n"
     ]
    }
   ],
   "source": [
    "def list_sum(numbers):\n",
    "    total = 0\n",
    "    for i in numbers:\n",
    "        total += i\n",
    "    return total\n",
    "print(list_sum([1, 2, 3, 4, 5]))"
   ]
  },
  {
   "cell_type": "markdown",
   "id": "ae9cc12a",
   "metadata": {},
   "source": [
    "## 3. Dictionary로 이루어진 List의 합 구하기\n",
    "Dictionary로 이루어진 list를 전달 받아 모든 dictionary의 'age' key에 해당하는 value\n",
    "들의 합을 반환하는 dict_list_sum 함수를 built-in 함수인 sum() 함수를 사용하지 않고\n",
    "작성하시오"
   ]
  },
  {
   "cell_type": "code",
   "execution_count": 1,
   "id": "8e796331",
   "metadata": {},
   "outputs": [
    {
     "name": "stdout",
     "output_type": "stream",
     "text": [
      "16\n"
     ]
    }
   ],
   "source": [
    "def dict_list_sum(dic):\n",
    "    total = 0\n",
    "    for i in dic:\n",
    "        total = total + i['age']\n",
    "    return total\n",
    "print(dict_list_sum([{'name': 'kim', 'age': 12}, {'name': 'lee', 'age': 4}]) )"
   ]
  },
  {
   "cell_type": "markdown",
   "id": "95793efd",
   "metadata": {},
   "source": [
    "## 4. 2차원 List의 전체 합 구하기\n",
    "정수로만 이루어진 2차원 list를 전달 받아 해당 list의 모든 요소들의 합을 반환하는\n",
    "all_list_sum 함수를 built-in 함수인 sum() 함수를 사용하지 않고 작성하시오."
   ]
  },
  {
   "cell_type": "code",
   "execution_count": 25,
   "id": "e04651ba",
   "metadata": {},
   "outputs": [
    {
     "name": "stdout",
     "output_type": "stream",
     "text": [
      "55\n"
     ]
    }
   ],
   "source": [
    "def sum_list(list1):\n",
    "    total = 0\n",
    "    for i in list1:\n",
    "        total += i\n",
    "    return total\n",
    "\n",
    "def all_list_sum(anything_list):\n",
    "    total_all = 0\n",
    "    for j in anything_list:\n",
    "        total_all += sum_list(j)\n",
    "    return total_all\n",
    "\n",
    "print(all_list_sum([[1], [2, 3], [4, 5, 6], [7, 8, 9, 10]]))"
   ]
  },
  {
   "cell_type": "code",
   "execution_count": 27,
   "id": "2c3a874a",
   "metadata": {},
   "outputs": [
    {
     "name": "stdout",
     "output_type": "stream",
     "text": [
      "55\n"
     ]
    }
   ],
   "source": [
    "def all_list_sum(list1):\n",
    "    total = 0\n",
    "    for i in list1:\n",
    "        for j in i:\n",
    "            total = total + j\n",
    "    return total\n",
    "print(all_list_sum([[1], [2, 3], [4, 5, 6], [7, 8, 9, 10]]))"
   ]
  },
  {
   "cell_type": "markdown",
   "id": "dbdbd89c",
   "metadata": {},
   "source": [
    "## 5. 숫자의 의미\n",
    "정수로 이루어진 list를 전달 받아, 각 정수에 대응되는 아스키 문자를 이어붙인\n",
    "문자열을 반환하는 get_secret_word 함수를 작성하시오. \n",
    "단, list는 65이상 90이하 그리고 97이상 122이하의 정수로만 구성되어 있다."
   ]
  },
  {
   "cell_type": "code",
   "execution_count": 23,
   "id": "3746ce1b",
   "metadata": {},
   "outputs": [
    {
     "name": "stdout",
     "output_type": "stream",
     "text": [
      "SsAfY\n"
     ]
    }
   ],
   "source": [
    "def get_secret_word(a):\n",
    "    for i in a:\n",
    "        a[a.index(i)] = chr(i)\n",
    "    return print(*a,sep='')\n",
    "get_secret_word([83, 115, 65, 102, 89])"
   ]
  },
  {
   "cell_type": "code",
   "execution_count": 29,
   "id": "cd98a70c",
   "metadata": {},
   "outputs": [
    {
     "name": "stdout",
     "output_type": "stream",
     "text": [
      "SsAfY\n"
     ]
    }
   ],
   "source": [
    "def get_secret_word(a):\n",
    "    word = ''\n",
    "    for i in a:\n",
    "        word += chr(i)\n",
    "    return word\n",
    "print(get_secret_word([83, 115, 65, 102, 89]))"
   ]
  },
  {
   "cell_type": "markdown",
   "id": "8fa7415f",
   "metadata": {},
   "source": [
    "## 6. 내 이름은 몇일까?\n",
    "문자열을 전달 받아 해당 문자열의 각 문자에 대응되는 아스키 숫자들의 합을 반환하는\n",
    "get_secret_number 함수를 작성하시오. 단, 문자열은 A~Z, a~z로만 구성되어 있다."
   ]
  },
  {
   "cell_type": "code",
   "execution_count": 37,
   "id": "24a0adab",
   "metadata": {},
   "outputs": [
    {
     "name": "stdout",
     "output_type": "stream",
     "text": [
      "546\n"
     ]
    }
   ],
   "source": [
    "def get_secret_number(text):\n",
    "    li=[]\n",
    "    for i in text:\n",
    "        li.append(ord(i))\n",
    "    return sum(li)\n",
    "print(get_secret_number('happy'))"
   ]
  },
  {
   "cell_type": "code",
   "execution_count": 36,
   "id": "0176f856",
   "metadata": {},
   "outputs": [
    {
     "name": "stdout",
     "output_type": "stream",
     "text": [
      "546\n"
     ]
    }
   ],
   "source": [
    "def get_secret_number(text):\n",
    "    total = 0\n",
    "    for i in text:\n",
    "        total = total + ord(i)\n",
    "    return total\n",
    "print(get_secret_number('happy'))"
   ]
  },
  {
   "cell_type": "markdown",
   "id": "e1ab9671",
   "metadata": {},
   "source": [
    "## 7. 강한 이름\n",
    "문자열 2개를 전달 받아 두 문자열의 각 문자에 대응되는 아스키 숫자들의 합을\n",
    "비교하여 더 큰 합을 가진 문자열을 반환하는 get_strong_word 함수를 작성하시오.\n",
    "단, 두 문자열의 아스키 숫자의 합이 같은 경우, 둘 다 반환하세요"
   ]
  },
  {
   "cell_type": "code",
   "execution_count": 39,
   "id": "058e8b3c",
   "metadata": {},
   "outputs": [
    {
     "name": "stdout",
     "output_type": "stream",
     "text": [
      "z\n",
      "delilah\n"
     ]
    }
   ],
   "source": [
    "def get_strong_word(word1, word2):\n",
    "    word1_total = 0\n",
    "    word2_total = 0\n",
    "    \n",
    "    for i in word1:\n",
    "        word1_total = word1_total + ord(i)\n",
    "    \n",
    "    for j in word2:\n",
    "        word2_total = word2_total + ord(j)\n",
    "        \n",
    "    if word1_total > word2_total:\n",
    "        return word1\n",
    "    elif word1_total < word2_total:\n",
    "        return word2\n",
    "    else:\n",
    "        return word1, word2\n",
    "print(get_strong_word('z', 'a') )\n",
    "print(get_strong_word('delilah', 'dixon'))"
   ]
  },
  {
   "cell_type": "code",
   "execution_count": null,
   "id": "8c09cf12",
   "metadata": {},
   "outputs": [],
   "source": []
  }
 ],
 "metadata": {
  "kernelspec": {
   "display_name": "Python 3 (ipykernel)",
   "language": "python",
   "name": "python3"
  },
  "language_info": {
   "codemirror_mode": {
    "name": "ipython",
    "version": 3
   },
   "file_extension": ".py",
   "mimetype": "text/x-python",
   "name": "python",
   "nbconvert_exporter": "python",
   "pygments_lexer": "ipython3",
   "version": "3.9.13"
  },
  "toc": {
   "base_numbering": 1,
   "nav_menu": {},
   "number_sections": true,
   "sideBar": true,
   "skip_h1_title": false,
   "title_cell": "Table of Contents",
   "title_sidebar": "Contents",
   "toc_cell": false,
   "toc_position": {},
   "toc_section_display": true,
   "toc_window_display": false
  }
 },
 "nbformat": 4,
 "nbformat_minor": 5
}
