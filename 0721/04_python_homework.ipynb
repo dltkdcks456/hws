{
 "cells": [
  {
   "cell_type": "markdown",
   "id": "ba898e8d",
   "metadata": {},
   "source": [
    "# Python 04. 함수 심화"
   ]
  },
  {
   "cell_type": "markdown",
   "id": "b6bcac11",
   "metadata": {},
   "source": [
    "## 위치 인자와 키워드 인자\n",
    "다음과 같이 함수가 선언되어 있을 때, 보기 (1)~(4) 중에서 실행 시\n",
    "오류가 발생하는 코드를 고르시오."
   ]
  },
  {
   "cell_type": "code",
   "execution_count": 14,
   "id": "c69c7c03",
   "metadata": {},
   "outputs": [],
   "source": [
    "def ssafy(name, location='서울'):\n",
    "    print(f'{name}의 지역은 {location}입니다.')"
   ]
  },
  {
   "cell_type": "code",
   "execution_count": null,
   "id": "69af9900",
   "metadata": {},
   "outputs": [],
   "source": [
    "'#4번 오류발생: 키워드 인자가 위치 인자보다 우선적으로 사용되어 오류가 발생한다.'"
   ]
  },
  {
   "cell_type": "markdown",
   "id": "ea3bb7e3",
   "metadata": {},
   "source": [
    "## 가변 인자 리스트\n",
    "가변 인자 리스트를 사용하여, 개수가 정해지지 않은 여러 정수들을 전달 받아\n",
    "해당 정수들의 평균 값을 반환하는 my_avg 함수를 작성하시오"
   ]
  },
  {
   "cell_type": "code",
   "execution_count": 16,
   "id": "236122cd",
   "metadata": {},
   "outputs": [
    {
     "name": "stdout",
     "output_type": "stream",
     "text": [
      "81.0\n"
     ]
    }
   ],
   "source": [
    "def my_avg(*scores):\n",
    "    total = 0\n",
    "    cnt = 0\n",
    "    for i in scores:\n",
    "        total += i\n",
    "        cnt +=1\n",
    "    return total/cnt\n",
    "\n",
    "print(my_avg(77, 83, 95, 80, 70))"
   ]
  },
  {
   "cell_type": "markdown",
   "id": "54127b8d",
   "metadata": {},
   "source": [
    "## 3. 반환값\n",
    "다음과 같이 함수를 선언하고 호출하였을 때, 변수 result에 저장된 값과\n",
    "그 값이 나온 이유를 작성하시오."
   ]
  },
  {
   "cell_type": "code",
   "execution_count": 15,
   "id": "87a9389f",
   "metadata": {},
   "outputs": [
    {
     "name": "stdout",
     "output_type": "stream",
     "text": [
      "10\n"
     ]
    }
   ],
   "source": [
    "def my_func(a, b):\n",
    "    c = a + b\n",
    "    print(c)\n",
    "result = my_func(3, 7)"
   ]
  },
  {
   "cell_type": "markdown",
   "id": "9d00fed4",
   "metadata": {},
   "source": [
    "'my_func에 들어간 함수는 위치 인자입니다. 그렇기에 a라는 지역 변수에 3, b라는 지역 변수에 7이 입력되어 함수 내부의 덧셈 연산이 진행되고 그 결과값이 print를 통해 출력되었습니다. 단, return된 값은 아니므로 결과값이 입력되진 않았습니다.'"
   ]
  },
  {
   "cell_type": "markdown",
   "id": "620f4575",
   "metadata": {},
   "source": [
    "## 4. 이름 공간(Namespace)\n",
    "Python에서 변수를 찾을 때 접근하는 이름 공간을 순서대로 작성하시오."
   ]
  },
  {
   "cell_type": "code",
   "execution_count": 17,
   "id": "cae348ba",
   "metadata": {},
   "outputs": [
    {
     "data": {
      "text/plain": [
       "'Local scope -> Enclosed scope -> Global scope -> built-in scope 순으로 이름 공간을 거치면서 변수에 접근한다. 단, 함수 내에서 바깥 scope의 변수에 접근 가능하나 수정은 할 수 없음'"
      ]
     },
     "execution_count": 17,
     "metadata": {},
     "output_type": "execute_result"
    }
   ],
   "source": [
    "'Local scope -> Enclosed scope -> Global scope -> built-in scope 순으로 이름 공간을 거치면서 변수에 접근한다. 단, 함수 내에서 바깥 scope의 변수에 접근 가능하나 수정은 할 수 없음'"
   ]
  },
  {
   "cell_type": "markdown",
   "id": "baf2601b",
   "metadata": {},
   "source": [
    "## 5. 매개변수와 인자, 그리고 반환\n",
    "아래의 보기 (1) ~ (4) 중에서, 옳지 않은 것을 고르시오.<br>\n",
    "(1) 함수는 오직 하나의 객체만 반환할 수 있으므로<br>\n",
    "'return a, b＇와 같이 쓸 수 없다.<br>\n",
    "(2) 함수에서 return을 작성하지 않으면 None 값을 반환한다.<br>\n",
    "(3) 함수의 매개변수(parameter)는 함수를 선언할 때 설정한 값이며,<br>\n",
    "전달 인자(argument)는 함수를 호출할 때 넘겨주는 값이다.<br>\n",
    "(4) 가변 인자를 설정할 때는 함수 선언 시 매개변수 앞에 * 을 붙이고, <br>\n",
    "이 때는 함수내에서 tuple로 처리 된다.<br>"
   ]
  },
  {
   "cell_type": "code",
   "execution_count": null,
   "id": "3dfe3094",
   "metadata": {},
   "outputs": [],
   "source": [
    "'(1): 함수는 여러 개의 객체를 반환할 수 있다. return a, b는 가능하다'"
   ]
  },
  {
   "cell_type": "markdown",
   "id": "3f431f57",
   "metadata": {},
   "source": [
    "## 6. 재귀 함수\n",
    "재귀 함수를 사용했을 때 얻을 수 있는 장점과 단점을 반복문과 비교하여 작성하시오"
   ]
  },
  {
   "cell_type": "code",
   "execution_count": null,
   "id": "61dc6f82",
   "metadata": {},
   "outputs": [],
   "source": [
    "'''\n",
    "> 장점\n",
    "1. 변수의 사용을 줄일 수 있다.\n",
    "2. 간결하게 작성하여 가독성을 높일 수 있다.\n",
    "3. 알고리즘 구현에 유용하게 사용된다.\n",
    "\n",
    "> 단점\n",
    "1. 반복문보다 실행 속도가 느리다.\n",
    "2. 함수가 호출될 때마다 메모리 공간에 쌓여 메모리 스택이 넘치거나 프로그램 실행 속도가 늘어지는 단점이 있다.\n",
    "(이를 방지하기 위해 1000번이 넘어가게 되면 더 이상 함수를 호출하지 않고, 종료)\n",
    "'''"
   ]
  }
 ],
 "metadata": {
  "kernelspec": {
   "display_name": "Python 3 (ipykernel)",
   "language": "python",
   "name": "python3"
  },
  "language_info": {
   "codemirror_mode": {
    "name": "ipython",
    "version": 3
   },
   "file_extension": ".py",
   "mimetype": "text/x-python",
   "name": "python",
   "nbconvert_exporter": "python",
   "pygments_lexer": "ipython3",
   "version": "3.9.13"
  },
  "toc": {
   "base_numbering": 1,
   "nav_menu": {},
   "number_sections": true,
   "sideBar": true,
   "skip_h1_title": false,
   "title_cell": "Table of Contents",
   "title_sidebar": "Contents",
   "toc_cell": false,
   "toc_position": {},
   "toc_section_display": true,
   "toc_window_display": false
  }
 },
 "nbformat": 4,
 "nbformat_minor": 5
}
