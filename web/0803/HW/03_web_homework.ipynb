{
 "cells": [
  {
   "cell_type": "markdown",
   "id": "1ad9e642",
   "metadata": {},
   "source": [
    "# Web 03. Grid System & Responsive Web"
   ]
  },
  {
   "cell_type": "markdown",
   "id": "ff2402c4",
   "metadata": {},
   "source": [
    "## 1. Button 만들기\n",
    "아래 Button을 만들기 위해 (a), (b)에 들어갈 알맞은 Components를 작성하시오."
   ]
  },
  {
   "cell_type": "markdown",
   "id": "21e2f5d3",
   "metadata": {},
   "source": [
    "(a): btn<br>(b): btn-primary"
   ]
  },
  {
   "cell_type": "markdown",
   "id": "ba6516f5",
   "metadata": {},
   "source": [
    "## 2. Navbar 만들기\n",
    "아래 Navbar을 만들기 위해 (a), (b), (c)에 들어갈 알맞은 Components를 작성하시오."
   ]
  },
  {
   "cell_type": "markdown",
   "id": "aab66535",
   "metadata": {},
   "source": [
    "(a): light<br>(b): navbar-nav<br>(c): navbarBreakfast"
   ]
  },
  {
   "cell_type": "markdown",
   "id": "b01742a9",
   "metadata": {},
   "source": [
    "## 3. Pagination 만들기\n",
    "아래 Pagination을 만들기 위해 (a), (b), (c)에 들어갈 알맞은 Components를 작성하시오."
   ]
  },
  {
   "cell_type": "markdown",
   "id": "64524f17",
   "metadata": {},
   "source": [
    "(a): pagination<br>(b):disabled<br>(c):active"
   ]
  }
 ],
 "metadata": {
  "kernelspec": {
   "display_name": "Python 3 (ipykernel)",
   "language": "python",
   "name": "python3"
  },
  "language_info": {
   "codemirror_mode": {
    "name": "ipython",
    "version": 3
   },
   "file_extension": ".py",
   "mimetype": "text/x-python",
   "name": "python",
   "nbconvert_exporter": "python",
   "pygments_lexer": "ipython3",
   "version": "3.9.13"
  }
 },
 "nbformat": 4,
 "nbformat_minor": 5
}
