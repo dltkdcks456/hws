{
 "cells": [
  {
   "cell_type": "markdown",
   "id": "8a340503",
   "metadata": {},
   "source": [
    "# Web 04. Grid System & Responsive Web\n"
   ]
  },
  {
   "cell_type": "markdown",
   "id": "2deb1851",
   "metadata": {},
   "source": [
    "## 1. CSS flex-direction\n",
    "Flex box의 주축을 변경하는 flex-direction의 4가지 값과 각각의 특징을 작성하시오."
   ]
  },
  {
   "cell_type": "markdown",
   "id": "8ea38c2d",
   "metadata": {},
   "source": [
    "1) flex-direction: row;: main 축이 왼쪽에서 오른쪽으로 향한다.<br>2)flex-direction: row-reverse: main축이 오른쪽에서 왼쪽으로 향함;<br>3)flex-direction: column;:main 축이 위에서 아래로 향함<br>4)flex-direction: column-reverse;: main 축이 아래에서 위쪽으로 향함"
   ]
  },
  {
   "cell_type": "markdown",
   "id": "09cac4de",
   "metadata": {},
   "source": [
    "## 2. Bootstrap flex-direction\n",
    "flex-direction의 4가지 요소와 대응하는 bootstrap 클래스를 작성하시오."
   ]
  },
  {
   "cell_type": "markdown",
   "id": "9ed9df79",
   "metadata": {},
   "source": [
    "1) class=\"d-flex flex-row\"<br>2)class=\"d-flex flex-row-reverse<br>3)class=\"d-flex flex-column<br>4)class=\"d-flex flex-column-reverse"
   ]
  },
  {
   "cell_type": "markdown",
   "id": "bc63221f",
   "metadata": {},
   "source": [
    "## 3. align-items\n",
    "align-items 속성의 4가지 값과 각각의 특징을 작성하시오."
   ]
  },
  {
   "cell_type": "markdown",
   "id": "88c28934",
   "metadata": {},
   "source": [
    "1) align-items: center;:각 요소들이 가운데를 기준으로 정렬<br>2) align-items: flex-start;: 각 요소들이 위쪽을 기준으로 정렬<br>3) align-items: flex-end;: 각 요소들이 아래쪽에 기준으로 정렬<br>4) align-items: stretch;: 요소들의 크기가 늘어남.<br>"
   ]
  },
  {
   "cell_type": "markdown",
   "id": "17acb266",
   "metadata": {},
   "source": [
    "## 4. flex-flow\n",
    "flex-flow 속성은 두가지 속성의 축약형이다. 올바르게 짝지어진 것을 고르시오.\n"
   ]
  },
  {
   "cell_type": "markdown",
   "id": "fd17661f",
   "metadata": {},
   "source": [
    "(1) flex-direction, flex-wrap"
   ]
  },
  {
   "cell_type": "markdown",
   "id": "657fe404",
   "metadata": {},
   "source": [
    "## 5. Bootstrap Grid System\n",
    "상단 코드에 Bootstrap Grid System을 적용시키고자한다.\n",
    "(a), (b) 각각에 입력해야 할 클래스 이름을 작성하시오."
   ]
  },
  {
   "cell_type": "markdown",
   "id": "a0c457a5",
   "metadata": {},
   "source": [
    "(a): container<br>(b): row 요소를 배치하는 것 중 하나, 약속은 container쓰고 row를 쓰고 12개의 칼럼으로 나눔"
   ]
  },
  {
   "cell_type": "markdown",
   "id": "5be2e050",
   "metadata": {},
   "source": [
    "## 6. Breakpoint prefix (5번 문제 연계)\n",
    "Bootstrap Grid System에서 요소의 크기를 지정하기 위해서는 상단 코드와 같은 형태로\n",
    "클래스 이름을 지정해야 한다. \n",
    "1) (c) 에 들어갈 수 있는 값들과 그 값들이 가지는 의미를 작성하시오.<br>\n",
    "2) (d) 에 들어갈 수 있는 값들과 그 값들이 가지는 의미를 작성하시오."
   ]
  },
  {
   "cell_type": "markdown",
   "id": "7d80060f",
   "metadata": {},
   "source": [
    "1) c에는 grid를 설정할 수 있는 화면 크기에 따른 breakpoint가 존재한다.<br>\n",
    "Extra small (xs): < 576px<br>\n",
    "Small (sm): >= 576px<br>\n",
    "Medium (md): >= 768px<br>\n",
    "Large (lg): >= 992px<br>\n",
    "Extra large (xl): >= 1200px<br>\n",
    "Extra extra large (xxl): >= 1400px<br>"
   ]
  },
  {
   "cell_type": "markdown",
   "id": "f965d7f0",
   "metadata": {},
   "source": [
    "2) d에는 가질 수 있는 12개의 칼럼 중에 차지할 공간을 의미한다<br>`<div class=\"col-4\"></div>`는 12개 중 4칸을 차지한다는 의미이다."
   ]
  }
 ],
 "metadata": {
  "kernelspec": {
   "display_name": "Python 3 (ipykernel)",
   "language": "python",
   "name": "python3"
  },
  "language_info": {
   "codemirror_mode": {
    "name": "ipython",
    "version": 3
   },
   "file_extension": ".py",
   "mimetype": "text/x-python",
   "name": "python",
   "nbconvert_exporter": "python",
   "pygments_lexer": "ipython3",
   "version": "3.9.13"
  }
 },
 "nbformat": 4,
 "nbformat_minor": 5
}
