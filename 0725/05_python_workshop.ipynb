{
 "cells": [
  {
   "cell_type": "markdown",
   "id": "5514bd5c",
   "metadata": {},
   "source": [
    "# Python 05. 데이터 구조와 복사"
   ]
  },
  {
   "cell_type": "markdown",
   "id": "f279156d",
   "metadata": {},
   "source": [
    "## 1. 평균 점수 구하기\n",
    "key 값으로 과목명, value 값으로 점수를 가지는 dictionary를 전달 받아, 전체 과목의\n",
    "평균 점수를 반환하는 함수 get_dict_avg 함수를 작성하시오."
   ]
  },
  {
   "cell_type": "code",
   "execution_count": 4,
   "id": "4d864760",
   "metadata": {},
   "outputs": [
    {
     "name": "stdout",
     "output_type": "stream",
     "text": [
      "85.5\n"
     ]
    }
   ],
   "source": [
    "def get_dict_avg(scores):\n",
    "    return sum(scores.values())/len(scores.values()) # value의 합과 개수로 평균 구하기\n",
    "print(get_dict_avg({\n",
    "'python' : 80,\n",
    "'web' : 83,\n",
    "'algorithm' : 90,\n",
    "'django' : 89,\n",
    "}))"
   ]
  },
  {
   "cell_type": "markdown",
   "id": "7c08af26",
   "metadata": {},
   "source": [
    "## 2. 혈액형 분류하기\n",
    "여러 사람의 혈액형(A, B, AB, O)에 대한 정보가 담긴 list를 전달 받아, key는 혈액형의\n",
    "종류, value는 사람 수인 dictionary를 반환하는 count_blood 함수를 작성하시오."
   ]
  },
  {
   "cell_type": "code",
   "execution_count": 9,
   "id": "8e12cdf7",
   "metadata": {},
   "outputs": [
    {
     "name": "stdout",
     "output_type": "stream",
     "text": [
      "{'A': 3, 'B': 3, 'O': 3, 'AB': 3}\n"
     ]
    }
   ],
   "source": [
    "def count_blood(data):\n",
    "    data_list = ['A', 'B', 'O', 'AB'] # key값 설정\n",
    "    data_dict = {} # key, value를 담을 공간\n",
    "    for i in data_list: # data에 담긴 정보를 활용해 딕셔너리에 개수 카운트 추가\n",
    "        data_dict[i] = data.count(i)\n",
    "    return data_dict\n",
    "\n",
    "print(count_blood([\n",
    "'A', 'B', 'A', 'O', 'AB', 'AB',\n",
    "'O', 'A', 'B', 'O', 'B', 'AB',\n",
    "]))"
   ]
  }
 ],
 "metadata": {
  "kernelspec": {
   "display_name": "Python 3 (ipykernel)",
   "language": "python",
   "name": "python3"
  },
  "language_info": {
   "codemirror_mode": {
    "name": "ipython",
    "version": 3
   },
   "file_extension": ".py",
   "mimetype": "text/x-python",
   "name": "python",
   "nbconvert_exporter": "python",
   "pygments_lexer": "ipython3",
   "version": "3.9.13"
  }
 },
 "nbformat": 4,
 "nbformat_minor": 5
}
