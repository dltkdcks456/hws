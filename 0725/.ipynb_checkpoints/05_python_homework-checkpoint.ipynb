{
 "cells": [
  {
   "cell_type": "markdown",
   "id": "36809423",
   "metadata": {},
   "source": [
    "# Python 05. 데이터 구조 및 활용"
   ]
  },
  {
   "cell_type": "markdown",
   "id": "873b4612",
   "metadata": {},
   "source": [
    "## 1. 모음은 몇 개나 있을까?\n",
    "문자열을 전달 받아 해당 문자열의 모음 갯수를 반환하는 count_vowels 함수를\n",
    "작성하시오. .count() 메서드를 활용하여 작성하시오."
   ]
  },
  {
   "cell_type": "code",
   "execution_count": 5,
   "id": "1ce2af32",
   "metadata": {},
   "outputs": [],
   "source": [
    "def count_vowels(text):\n",
    "    chr = 'aeiou' # 알파벳 모음\n",
    "    cnt = 0 # 모음 개수\n",
    "    for i in text: # 입력된 text의 문자마다 모음인지 검사 진행\n",
    "        if i in chr:\n",
    "            cnt = cnt + 1\n",
    "    return cnt"
   ]
  },
  {
   "cell_type": "code",
   "execution_count": null,
   "id": "df4ee31f",
   "metadata": {},
   "outputs": [],
   "source": []
  }
 ],
 "metadata": {
  "kernelspec": {
   "display_name": "Python 3 (ipykernel)",
   "language": "python",
   "name": "python3"
  },
  "language_info": {
   "codemirror_mode": {
    "name": "ipython",
    "version": 3
   },
   "file_extension": ".py",
   "mimetype": "text/x-python",
   "name": "python",
   "nbconvert_exporter": "python",
   "pygments_lexer": "ipython3",
   "version": "3.9.13"
  }
 },
 "nbformat": 4,
 "nbformat_minor": 5
}
