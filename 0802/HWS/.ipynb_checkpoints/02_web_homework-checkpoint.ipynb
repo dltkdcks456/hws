{
 "cells": [
  {
   "cell_type": "markdown",
   "id": "c049cc44",
   "metadata": {},
   "source": [
    "# Web 02. HTML & CSS"
   ]
  },
  {
   "cell_type": "markdown",
   "id": "f425f365",
   "metadata": {},
   "source": [
    "## 1. Semantic Tag\n",
    "보기 중 콘텐츠의 의미를 명확히 하기 위해 HTML5에서 새롭게 추가된\n",
    "시맨틱(semantic) 태그를 모두 고르시오."
   ]
  },
  {
   "cell_type": "markdown",
   "id": "73d0f7af",
   "metadata": {},
   "source": [
    "- header, section, footer"
   ]
  },
  {
   "cell_type": "markdown",
   "id": "b8ef79c4",
   "metadata": {},
   "source": [
    "## 2. input Tag\n",
    "아래 이미지와 같이 로그인 Form을 생성하는 HTML코드를 작성하시오. \n",
    "단, USERNAME 글자를 클릭하면 아이디를 입력하는 input에,\n",
    "PWD 글자를 클릭하면 비밀번호를 입력하는 input에 focusing 되도록 하시오"
   ]
  },
  {
   "cell_type": "markdown",
   "id": "7f7b920c",
   "metadata": {},
   "source": [
    "<!DOCTYPE html>\n",
    "<html lang=\"en\">\n",
    "<head>\n",
    "    <meta charset=\"UTF-8\">\n",
    "    <meta http-equiv=\"X-UA-Compatible\" content=\"IE=edge\">\n",
    "    <meta name=\"viewport\" content=\"width=device-width, initial-scale=1.0\">\n",
    "    <title>Document</title>\n",
    "</head>\n",
    "<body>\n",
    "    <form>\n",
    "        <label for=\"username\">USERNAME: </label>\n",
    "        <input type=\"text\" id=\"username\" name=\"username\" placeholder=\"아이디를 입력 해 주세요.\" autofocus><br>\n",
    "        <label for=\"pwd\">PWD : </label>\n",
    "        <input type=\"password\" id=\"pwd\" name=\"password\">\n",
    "        <input type=\"submit\" value=\"로그인\">\n",
    "    </form>\n",
    "</body>\n",
    "</html>"
   ]
  },
  {
   "cell_type": "code",
   "execution_count": 2,
   "id": "8c7e4155",
   "metadata": {},
   "outputs": [
    {
     "ename": "SyntaxError",
     "evalue": "invalid syntax (1381110528.py, line 1)",
     "output_type": "error",
     "traceback": [
      "\u001b[1;36m  Input \u001b[1;32mIn [2]\u001b[1;36m\u001b[0m\n\u001b[1;33m    ```\u001b[0m\n\u001b[1;37m    ^\u001b[0m\n\u001b[1;31mSyntaxError\u001b[0m\u001b[1;31m:\u001b[0m invalid syntax\n"
     ]
    }
   ],
   "source": [
    "```\n",
    "<!DOCTYPE html>\n",
    "<html lang=\"en\">\n",
    "<head>\n",
    "    <meta charset=\"UTF-8\">\n",
    "    <meta http-equiv=\"X-UA-Compatible\" content=\"IE=edge\">\n",
    "    <meta name=\"viewport\" content=\"width=device-width, initial-scale=1.0\">\n",
    "    <title>Document</title>\n",
    "</head>\n",
    "<body>\n",
    "    <form>\n",
    "        <label for=\"username\">USERNAME: </label>\n",
    "        <input type=\"text\" id=\"username\" name=\"username\" placeholder=\"아이디를 입력 해 주세요.\" autofocus><br>\n",
    "        <label for=\"pwd\">PWD : </label>\n",
    "        <input type=\"password\" id=\"pwd\" name=\"password\">\n",
    "        <input type=\"submit\" value=\"로그인\">\n",
    "    </form>\n",
    "</body>\n",
    "</html>```"
   ]
  },
  {
   "cell_type": "markdown",
   "id": "3fd9146c",
   "metadata": {},
   "source": [
    "## 3. 크기 단위\n",
    "크기 단위 em은 요소에 지정된 상속된 사이즈나 기본 사이즈에 대해 상대적인 사이즈를\n",
    "설정한다. 즉, 상속의 영향으로 사이즈가 의도치 않게 변경될 수 있는데 이를 예방하기\n",
    "위해 HTML 최상위 요소의 사이즈를 기준으로 삼는 크기 단위는 무엇인가?"
   ]
  },
  {
   "cell_type": "markdown",
   "id": "098a2c10",
   "metadata": {},
   "source": [
    "rem"
   ]
  },
  {
   "cell_type": "markdown",
   "id": "d373d530",
   "metadata": {},
   "source": [
    "## 4. 선택자\n",
    "다음 예제를 통해 ‘자손 결합자’와 ‘자식 결합자’의 차이를 설명하시오."
   ]
  },
  {
   "cell_type": "markdown",
   "id": "9fc3d7d9",
   "metadata": {},
   "source": [
    "1. 자손 결합자: div 태그의 자손 중에 p tag 선택(깊이와 무관)\n",
    "2. 자식 결합자: 바로 다음 depth의 p 태그"
   ]
  }
 ],
 "metadata": {
  "kernelspec": {
   "display_name": "Python 3 (ipykernel)",
   "language": "python",
   "name": "python3"
  },
  "language_info": {
   "codemirror_mode": {
    "name": "ipython",
    "version": 3
   },
   "file_extension": ".py",
   "mimetype": "text/x-python",
   "name": "python",
   "nbconvert_exporter": "python",
   "pygments_lexer": "ipython3",
   "version": "3.9.13"
  },
  "toc": {
   "base_numbering": 1,
   "nav_menu": {},
   "number_sections": true,
   "sideBar": true,
   "skip_h1_title": false,
   "title_cell": "Table of Contents",
   "title_sidebar": "Contents",
   "toc_cell": false,
   "toc_position": {},
   "toc_section_display": true,
   "toc_window_display": false
  }
 },
 "nbformat": 4,
 "nbformat_minor": 5
}
