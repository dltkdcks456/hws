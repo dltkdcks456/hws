{
 "cells": [
  {
   "cell_type": "markdown",
   "id": "1219879e",
   "metadata": {},
   "source": [
    "# Python 06. 데이터 구조 및 활용"
   ]
  },
  {
   "cell_type": "markdown",
   "id": "a91289db",
   "metadata": {},
   "source": [
    "## 1. 무엇이 중복일까\n",
    "문자열을 전달 받아 해당 문자열에서 중복해서 나타난 문자들을 담은 list를 반환하는\n",
    "duplicated_letters 함수를 작성하시오."
   ]
  },
  {
   "cell_type": "code",
   "execution_count": 5,
   "id": "8d391f06",
   "metadata": {},
   "outputs": [],
   "source": [
    "# 문자열에서 해당 문자의 개수가 2이상이면 추출하는 함수\n",
    "# set을 활용해 중복을 제거한 후 다시 리스트 함수를 걸어주면서 결과값 출력\n",
    "def duplicated_letters(text):\n",
    "    return list({i for i in text if text.count(i) >= 2})"
   ]
  },
  {
   "cell_type": "code",
   "execution_count": 2,
   "id": "1a565d63",
   "metadata": {},
   "outputs": [],
   "source": [
    "def duplicated_letters(words):\n",
    "    duplicates = []\n",
    "    for char in words:\n",
    "        if words.count(char) >= 2 and (char not in duplicates):\n",
    "            duplicates.append(char)            \n",
    "    return duplicates"
   ]
  },
  {
   "cell_type": "code",
   "execution_count": 3,
   "id": "489dc1ca",
   "metadata": {},
   "outputs": [
    {
     "name": "stdout",
     "output_type": "stream",
     "text": [
      "['p']\n",
      "['a', 'n']\n"
     ]
    }
   ],
   "source": [
    "print(duplicated_letters('apple'))\n",
    "print(duplicated_letters('banana'))"
   ]
  },
  {
   "cell_type": "markdown",
   "id": "c7694f4f",
   "metadata": {},
   "source": [
    "## 2. 소대소대\n",
    "문자열을 전달 받아 해당 문자열을 소문자와 대문자가 번갈아 나타나도록 변환하여\n",
    "반환하는 low_and_up 함수를 작성하시오. \n",
    "이때, 전달 받는 문자열은 알파벳으로만 구성된다."
   ]
  },
  {
   "cell_type": "code",
   "execution_count": 17,
   "id": "a04a3fba",
   "metadata": {},
   "outputs": [
    {
     "name": "stdout",
     "output_type": "stream",
     "text": [
      "aPpLe\n",
      "bAnAnA\n"
     ]
    }
   ],
   "source": [
    "def low_and_up(text):\n",
    "    n_text = ''\n",
    "    for i in range(len(text)):\n",
    "        if i % 2:\n",
    "            n_text += text[i].upper()\n",
    "        else:\n",
    "            n_text += text[i]\n",
    "    return n_text\n",
    "print(low_and_up('apple'))\n",
    "print(low_and_up('banana'))"
   ]
  },
  {
   "cell_type": "code",
   "execution_count": 8,
   "id": "b50fb469",
   "metadata": {},
   "outputs": [
    {
     "name": "stdout",
     "output_type": "stream",
     "text": [
      "aPpLe\n"
     ]
    }
   ],
   "source": [
    "def low_and_up(word):\n",
    "    changed_word = ''\n",
    "    for idx, char in enumerate(word):\n",
    "        if idx % 2 ==1:\n",
    "            changed_word = changed_word + char.upper()\n",
    "        else:\n",
    "            changed_word = changed_word + char.lower()\n",
    "    return changed_word\n",
    "print(low_and_up('apple'))"
   ]
  },
  {
   "cell_type": "code",
   "execution_count": 6,
   "id": "ce7afa3a",
   "metadata": {},
   "outputs": [
    {
     "name": "stdout",
     "output_type": "stream",
     "text": [
      "aPpLe\n"
     ]
    }
   ],
   "source": [
    "def low_and_up(word):\n",
    "    changed_word = [char.upper() if idx % 2 == 1 else char.lower() for idx, char in enumerate(word)]\n",
    "    return ''.join(changed_word)\n",
    "\n",
    "print(low_and_up('apple'))"
   ]
  },
  {
   "cell_type": "markdown",
   "id": "6f2a1d50",
   "metadata": {},
   "source": [
    "## 3. 솔로 천국 만들기\n",
    "정수 0부터 9까지로 이루어진 list를 전달 받아, 연속적으로 나타나는 숫자는 하나만 남\n",
    "기고 제거한 list를 반환하는 lonely 함수를 작성하시오. \n",
    "이때, 제거된 후 남은 수들이 담긴 list의 요소들은 기존의 순서를 유지해야 한다."
   ]
  },
  {
   "cell_type": "code",
   "execution_count": 19,
   "id": "a7b68a67",
   "metadata": {},
   "outputs": [
    {
     "name": "stdout",
     "output_type": "stream",
     "text": [
      "[1, 3, 0, 1]\n",
      "[4, 3]\n"
     ]
    }
   ],
   "source": [
    "def lonely(num_list):\n",
    "    solo_list = [num_list[0]]\n",
    "    for i in range(1, len(num_list)):\n",
    "        if num_list[i] != num_list[i-1]:\n",
    "            solo_list.append(num_list[i])\n",
    "    return solo_list\n",
    "print(lonely([1, 1, 3, 3, 0, 1, 1]))\n",
    "print(lonely([4, 4, 4, 3, 3]))"
   ]
  },
  {
   "cell_type": "code",
   "execution_count": 9,
   "id": "351ac473",
   "metadata": {},
   "outputs": [
    {
     "name": "stdout",
     "output_type": "stream",
     "text": [
      "[1, 3, 0, 1]\n",
      "[4, 3]\n"
     ]
    }
   ],
   "source": [
    "def lonely(numbers):\n",
    "    result = []\n",
    "    for idx, num in enumerate(numbers):\n",
    "        if idx == 0:\n",
    "            result.append(numbers[idx])\n",
    "        elif result[-1] != num:\n",
    "            result.append(num)\n",
    "    return result\n",
    "print(lonely([1, 1, 3, 3, 0, 1, 1]))\n",
    "print(lonely([4, 4, 4, 3, 3]))"
   ]
  },
  {
   "cell_type": "code",
   "execution_count": 10,
   "id": "e860ccf8",
   "metadata": {},
   "outputs": [
    {
     "name": "stdout",
     "output_type": "stream",
     "text": [
      "[1, 3, 0, 1]\n",
      "[4, 3]\n"
     ]
    }
   ],
   "source": [
    "def lonely(numbers):\n",
    "    result = [numbers[0]]\n",
    "    for num in numbers:\n",
    "        if result[-1] != num:\n",
    "            result.append(num)\n",
    "    return result\n",
    "print(lonely([1, 1, 3, 3, 0, 1, 1]))\n",
    "print(lonely([4, 4, 4, 3, 3]))"
   ]
  },
  {
   "cell_type": "code",
   "execution_count": null,
   "id": "d8bbaee6",
   "metadata": {},
   "outputs": [],
   "source": []
  }
 ],
 "metadata": {
  "kernelspec": {
   "display_name": "Python 3 (ipykernel)",
   "language": "python",
   "name": "python3"
  },
  "language_info": {
   "codemirror_mode": {
    "name": "ipython",
    "version": 3
   },
   "file_extension": ".py",
   "mimetype": "text/x-python",
   "name": "python",
   "nbconvert_exporter": "python",
   "pygments_lexer": "ipython3",
   "version": "3.9.13"
  },
  "toc": {
   "base_numbering": 1,
   "nav_menu": {},
   "number_sections": true,
   "sideBar": true,
   "skip_h1_title": false,
   "title_cell": "Table of Contents",
   "title_sidebar": "Contents",
   "toc_cell": false,
   "toc_position": {},
   "toc_section_display": true,
   "toc_window_display": false
  }
 },
 "nbformat": 4,
 "nbformat_minor": 5
}
