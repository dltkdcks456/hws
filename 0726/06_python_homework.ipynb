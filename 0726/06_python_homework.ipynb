{
 "cells": [
  {
   "cell_type": "markdown",
   "id": "dde675a2",
   "metadata": {},
   "source": [
    "# Python 06. 데이터 구조 및 활용"
   ]
  },
  {
   "cell_type": "markdown",
   "id": "96c2495a",
   "metadata": {},
   "source": [
    "## 1. Built-in 함수와 메서드\n",
    "sorted()와 .sort()의 차이점을 코드의 실행 결과를 활용하여 설명하시오"
   ]
  },
  {
   "cell_type": "code",
   "execution_count": 1,
   "id": "f070cd7d",
   "metadata": {},
   "outputs": [
    {
     "name": "stdout",
     "output_type": "stream",
     "text": [
      "[1, 2, 3, 4, 5, 6]\n"
     ]
    }
   ],
   "source": [
    "a = [1, 3, 5, 6, 2, 4] \n",
    "b = sorted(a) # sorted함수는 리스트 a를 변화시키지 않고 새롭게 반환\n",
    "print(b)"
   ]
  },
  {
   "cell_type": "code",
   "execution_count": 2,
   "id": "6a8220c8",
   "metadata": {},
   "outputs": [
    {
     "name": "stdout",
     "output_type": "stream",
     "text": [
      "None\n",
      "[1, 2, 3, 4, 5, 6]\n"
     ]
    }
   ],
   "source": [
    "a = [1, 3, 5, 6, 2, 4]\n",
    "print(a.sort()) # sort는 리스트 자체를 정렬\n",
    "print(a)"
   ]
  },
  {
   "cell_type": "markdown",
   "id": "2a93ef0c",
   "metadata": {},
   "source": [
    "## 2. .extend()와 .append()\n",
    ".extend()와 .append()의 차이점을 코드의 실행 결과를 활용하여 설명하시오."
   ]
  },
  {
   "cell_type": "code",
   "execution_count": 4,
   "id": "61010801",
   "metadata": {},
   "outputs": [
    {
     "name": "stdout",
     "output_type": "stream",
     "text": [
      "['사과', '배', '바나나', '포도', '복', '숭', '아']\n",
      "['사과', '배', '바나나', '포도', '복', '숭', '아', '파인애플']\n"
     ]
    }
   ],
   "source": [
    "fruits = ['사과', '배', '바나나', '포도']\n",
    "fruits.extend('복숭아')\n",
    "print(fruits)\n",
    "fruits.extend(['파인애플'])\n",
    "print(fruits)\n",
    "# append는 입력 인자를 그대로\n",
    "# extend는 iterable한 인자를 순회하면서 삽입"
   ]
  },
  {
   "cell_type": "code",
   "execution_count": 6,
   "id": "5ac6c988",
   "metadata": {},
   "outputs": [
    {
     "name": "stdout",
     "output_type": "stream",
     "text": [
      "['사과', '배', '바나나', '포도', '파인애플']\n",
      "['사과', '배', '바나나', '포도', '파인애플', ['파인애플']]\n"
     ]
    }
   ],
   "source": [
    "fruits = ['사과', '배', '바나나', '포도']\n",
    "fruits.append('파인애플')\n",
    "print(fruits)\n",
    "fruits.append(['파인애플'])\n",
    "print(fruits)"
   ]
  },
  {
   "cell_type": "markdown",
   "id": "904e8681",
   "metadata": {},
   "source": [
    "## 3. 복사가 잘 된 건가?\n",
    "아래의 코드를 실행 하였을 때, 변수 a와 b에 담긴 list의 요소가 같은지 혹은 다른지\n",
    "여부를 판단하고 그 이유를 작성하시오."
   ]
  },
  {
   "cell_type": "code",
   "execution_count": 7,
   "id": "0a5b417c",
   "metadata": {},
   "outputs": [
    {
     "name": "stdout",
     "output_type": "stream",
     "text": [
      "[1, 2, 5, 4, 5]\n",
      "[1, 2, 5, 4, 5]\n"
     ]
    }
   ],
   "source": [
    "a = [1, 2, 3, 4, 5]\n",
    "b = a\n",
    "\n",
    "a[2] = 5\n",
    "\n",
    "print(a)\n",
    "print(b)"
   ]
  },
  {
   "cell_type": "code",
   "execution_count": 8,
   "id": "cc6365a3",
   "metadata": {},
   "outputs": [],
   "source": [
    "# a와 b라는 객체는 같은 주소로 생성된 리스트를 가지기 때문에 해당 리스트 요소가 바뀌게 되면 둘 다 같이 바뀌게 된다."
   ]
  }
 ],
 "metadata": {
  "kernelspec": {
   "display_name": "Python 3 (ipykernel)",
   "language": "python",
   "name": "python3"
  },
  "language_info": {
   "codemirror_mode": {
    "name": "ipython",
    "version": 3
   },
   "file_extension": ".py",
   "mimetype": "text/x-python",
   "name": "python",
   "nbconvert_exporter": "python",
   "pygments_lexer": "ipython3",
   "version": "3.9.13"
  },
  "toc": {
   "base_numbering": 1,
   "nav_menu": {},
   "number_sections": true,
   "sideBar": true,
   "skip_h1_title": false,
   "title_cell": "Table of Contents",
   "title_sidebar": "Contents",
   "toc_cell": false,
   "toc_position": {},
   "toc_section_display": true,
   "toc_window_display": false
  }
 },
 "nbformat": 4,
 "nbformat_minor": 5
}
