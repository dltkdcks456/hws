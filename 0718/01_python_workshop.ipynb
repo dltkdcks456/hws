{
 "cells": [
  {
   "cell_type": "markdown",
   "id": "c1bea229",
   "metadata": {},
   "source": [
    "# Python 01. 기초문법과 데이터의 입•출력"
   ]
  },
  {
   "cell_type": "markdown",
   "id": "cf4a2a30",
   "metadata": {},
   "source": [
    "## 1. 문자 print\n",
    "`It’s SSAFY 8` 을 출력하는 프로그램을 작성하시오. (중간에 작은따옴표가 있다.) "
   ]
  },
  {
   "cell_type": "code",
   "execution_count": 1,
   "id": "f6e11926",
   "metadata": {},
   "outputs": [
    {
     "name": "stdout",
     "output_type": "stream",
     "text": [
      "It's SSAFY 8\n"
     ]
    }
   ],
   "source": [
    "print(\"It's SSAFY 8\")"
   ]
  },
  {
   "cell_type": "markdown",
   "id": "c5f67584",
   "metadata": {},
   "source": [
    "## 2. 숫자 print\n",
    "`458345 + 623576` 를 계산하여 출력하는 프로그램을 작성하시오."
   ]
  },
  {
   "cell_type": "code",
   "execution_count": 2,
   "id": "2d471020",
   "metadata": {},
   "outputs": [
    {
     "name": "stdout",
     "output_type": "stream",
     "text": [
      "1081921\n"
     ]
    }
   ],
   "source": [
    "print(458345 + 623576)"
   ]
  },
  {
   "cell_type": "markdown",
   "id": "3bde0b8f",
   "metadata": {},
   "source": [
    "## 3. 변수를 사용해서 데이터 출력하기\n",
    "두 변수 greeting, month를 사용해서 `Hello July` 를 출력하는\n",
    "프로그램을 작성하시오."
   ]
  },
  {
   "cell_type": "code",
   "execution_count": 5,
   "id": "ded9bff7",
   "metadata": {},
   "outputs": [
    {
     "name": "stdout",
     "output_type": "stream",
     "text": [
      "Hello July\n"
     ]
    }
   ],
   "source": [
    "greeting = 'Hello'\n",
    "month = 'July'\n",
    "print(greeting,month)"
   ]
  },
  {
   "cell_type": "markdown",
   "id": "563bcc4f",
   "metadata": {},
   "source": [
    "## 4. 문자형의 입력과 출력\n",
    "입력 받은 문자를 출력하는 프로그램을 작성하시오.\n",
    "(힌트 : input() 함수를 활용하여 데이터를 입력받을 수 있다.)"
   ]
  },
  {
   "cell_type": "code",
   "execution_count": null,
   "id": "6c21c2f5",
   "metadata": {},
   "outputs": [],
   "source": [
    "hello = input()\n",
    "print(hello)"
   ]
  }
 ],
 "metadata": {
  "kernelspec": {
   "display_name": "Python 3 (ipykernel)",
   "language": "python",
   "name": "python3"
  },
  "language_info": {
   "codemirror_mode": {
    "name": "ipython",
    "version": 3
   },
   "file_extension": ".py",
   "mimetype": "text/x-python",
   "name": "python",
   "nbconvert_exporter": "python",
   "pygments_lexer": "ipython3",
   "version": "3.9.13"
  }
 },
 "nbformat": 4,
 "nbformat_minor": 5
}
