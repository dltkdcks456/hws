{
 "cells": [
  {
   "cell_type": "markdown",
   "id": "ff5d285f",
   "metadata": {},
   "source": [
    "# Python 05. 데이터 구조 및 활용"
   ]
  },
  {
   "cell_type": "markdown",
   "id": "eb84030e",
   "metadata": {},
   "source": [
    "## 1. 모음은 몇 개나 있을까?\n",
    "문자열을 전달 받아 해당 문자열의 모음 갯수를 반환하는 count_vowels 함수를\n",
    "작성하시오. .count() 메서드를 활용하여 작성하시오."
   ]
  },
  {
   "cell_type": "code",
   "execution_count": 5,
   "id": "28be5c4a",
   "metadata": {},
   "outputs": [],
   "source": [
    "def count_vowels(text):\n",
    "    chr = 'aeiou' # 알파벳 모음\n",
    "    cnt = 0 # 모음 개수\n",
    "    for i in text: # 입력된 text의 문자마다 모음인지 검사 진행\n",
    "        if i in chr:\n",
    "            cnt = cnt + 1\n",
    "    return cnt"
   ]
  },
  {
   "cell_type": "markdown",
   "id": "88504302",
   "metadata": {},
   "source": [
    "## 2. 문자열 조작\n",
    "다음 중, 문자열(string)을 조작하는 방법으로 옳지 않은 것을 고르시오."
   ]
  },
  {
   "cell_type": "code",
   "execution_count": 6,
   "id": "813280fb",
   "metadata": {},
   "outputs": [],
   "source": [
    "# '4': strip()에 특정 문자를 지정하지 않으면 공백이 제거된다."
   ]
  },
  {
   "cell_type": "markdown",
   "id": "ecd5f91a",
   "metadata": {},
   "source": [
    "## 3. 정사각형만 만들기\n",
    "각각 너비와 높이의 값으로 이루어진 2개의 list를 전달 받아, 각각의 값들을 조합하여\n",
    "만들 수 있는 정사각형만의 넓이를 담은 list를 반환하는 only_square_area 함수를\n",
    "작성하시오"
   ]
  },
  {
   "cell_type": "code",
   "execution_count": 11,
   "id": "18b4a632",
   "metadata": {},
   "outputs": [
    {
     "name": "stdout",
     "output_type": "stream",
     "text": [
      "[1024, 3025]\n"
     ]
    }
   ],
   "source": [
    "def only_square_area(x, y):\n",
    "    area = list() # 넓이를 담을 리스트\n",
    "    for i in x:\n",
    "        for j in y:\n",
    "            if i == j: # 너비와 높이가 같을 경우만 area 리스트에 추가\n",
    "                area.append(i * j)\n",
    "    return area\n",
    "print(only_square_area([32, 55, 63], [13, 32, 40, 55]))"
   ]
  }
 ],
 "metadata": {
  "kernelspec": {
   "display_name": "Python 3 (ipykernel)",
   "language": "python",
   "name": "python3"
  },
  "language_info": {
   "codemirror_mode": {
    "name": "ipython",
    "version": 3
   },
   "file_extension": ".py",
   "mimetype": "text/x-python",
   "name": "python",
   "nbconvert_exporter": "python",
   "pygments_lexer": "ipython3",
   "version": "3.9.13"
  }
 },
 "nbformat": 4,
 "nbformat_minor": 5
}
