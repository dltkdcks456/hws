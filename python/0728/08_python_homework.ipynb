{
 "cells": [
  {
   "cell_type": "markdown",
   "id": "328151d5",
   "metadata": {},
   "source": [
    "# Python 08. 객체 지향 프로그래밍"
   ]
  },
  {
   "cell_type": "markdown",
   "id": "8553ba7d",
   "metadata": {},
   "source": [
    "## 1. Circle 인스턴스 만들기\n",
    "아래와 같은 Circle 클래스가 있을 때, 반지름이 3이고 x, y좌표가 (2, 4)인\n",
    "Circle 인스턴스를 만들어 넓이와 둘레를 출력하시오."
   ]
  },
  {
   "cell_type": "code",
   "execution_count": 1,
   "id": "da097384",
   "metadata": {},
   "outputs": [],
   "source": [
    "class Circle:\n",
    "    pi = 3.14\n",
    "    def __init__(self, r, x, y):\n",
    "        self.r = r\n",
    "        self.x = x\n",
    "        self.y = y\n",
    "    def area(self):\n",
    "        return Circle.pi * self.r * self.r\n",
    "    def circumference(self):\n",
    "        return 2 * Circle.pi * self.r\n",
    "    def center(self):\n",
    "        return (self.x, self.y)"
   ]
  },
  {
   "cell_type": "code",
   "execution_count": 10,
   "id": "2b7d2f98",
   "metadata": {},
   "outputs": [
    {
     "name": "stdout",
     "output_type": "stream",
     "text": [
      "28.26 18.84\n"
     ]
    }
   ],
   "source": [
    "circle_new = Circle(3, 2, 4)\n",
    "print(round(circle_new.area(), 2), circle_new.circumference())"
   ]
  },
  {
   "cell_type": "markdown",
   "id": "747e1013",
   "metadata": {},
   "source": [
    "## 2. Dog과 Bird는 Animal이다\n",
    "다음과 같이 Animal 클래스가 주어질 때, 해당 클래스를 상속 받아 아래의 보기와 같이\n",
    "동작하는 Dog 클래스와 Bird 클래스를 작성하시오"
   ]
  },
  {
   "cell_type": "code",
   "execution_count": 5,
   "id": "b839bd2f",
   "metadata": {},
   "outputs": [],
   "source": [
    "class Animal:\n",
    "    def __init__(self, name):\n",
    "        self.name = name\n",
    "    def walk(self):\n",
    "        print(f'{self.name}! 걷는다!')\n",
    "    def eat(self):\n",
    "        print(f'{self.name}! 먹는다!')"
   ]
  },
  {
   "cell_type": "code",
   "execution_count": 11,
   "id": "d37aef8c",
   "metadata": {},
   "outputs": [],
   "source": [
    "class Dog(Animal):\n",
    "    def run(self):\n",
    "        print(f'{self.name}! 달린다!')\n",
    "    def bark(self):\n",
    "        print(f'{self.name}! 짖는다!')\n",
    "        \n",
    "class Bird(Animal):\n",
    "    def fly(self):\n",
    "        print(f'{self.name}! 푸드덕!')"
   ]
  },
  {
   "cell_type": "code",
   "execution_count": 12,
   "id": "8f1eff9d",
   "metadata": {},
   "outputs": [
    {
     "name": "stdout",
     "output_type": "stream",
     "text": [
      "꼽이! 달린다!\n",
      "꼽이! 짖는다!\n",
      "구구! 걷는다!\n",
      "구구! 먹는다!\n",
      "구구! 푸드덕!\n"
     ]
    }
   ],
   "source": [
    "dog = Dog('꼽이')\n",
    "dog.run() # 꼽이! 달린다! \n",
    "dog.bark() # 꼽이! 짖는다!\n",
    "\n",
    "bird = Bird('구구')\n",
    "bird.walk() # 구구! 걷는다! \n",
    "bird.eat() # 구구! 먹는다! \n",
    "bird.fly() # 구구! 푸드덕! "
   ]
  },
  {
   "cell_type": "markdown",
   "id": "2b8a06b1",
   "metadata": {},
   "source": [
    "## 3. Module Import"
   ]
  },
  {
   "cell_type": "code",
   "execution_count": 8,
   "id": "4849d318",
   "metadata": {},
   "outputs": [],
   "source": [
    "# fibo.py\n",
    "def fibo_recursion(n):\n",
    "    if n < 2:\n",
    "        return n\n",
    "    else:\n",
    "        return fibo_recursion(n-1) + fibo_recursion(n-2)"
   ]
  },
  {
   "cell_type": "markdown",
   "id": "bb680ed4",
   "metadata": {},
   "source": [
    "위와 같은 코드가 같은 폴더 안의 fibo.py 파일에 작성되어 있을 때, 아래와 같은 형태로<br>\n",
    "함수를 실행 할 수 있도록 하는 import 문을 빈칸 (a), (b), (c)를 채워 넣어 완성하시오."
   ]
  },
  {
   "cell_type": "code",
   "execution_count": 9,
   "id": "2d651a42",
   "metadata": {},
   "outputs": [
    {
     "ename": "ModuleNotFoundError",
     "evalue": "No module named 'fibo'",
     "output_type": "error",
     "traceback": [
      "\u001b[1;31m---------------------------------------------------------------------------\u001b[0m",
      "\u001b[1;31mModuleNotFoundError\u001b[0m                       Traceback (most recent call last)",
      "Input \u001b[1;32mIn [9]\u001b[0m, in \u001b[0;36m<cell line: 1>\u001b[1;34m()\u001b[0m\n\u001b[1;32m----> 1\u001b[0m \u001b[38;5;28;01mfrom\u001b[39;00m \u001b[38;5;21;01mfibo\u001b[39;00m \u001b[38;5;28;01mimport\u001b[39;00m fibo_recursion \u001b[38;5;28;01mas\u001b[39;00m recursion\n\u001b[0;32m      2\u001b[0m recursion(\u001b[38;5;241m4\u001b[39m)\n",
      "\u001b[1;31mModuleNotFoundError\u001b[0m: No module named 'fibo'"
     ]
    }
   ],
   "source": [
    "from fibo import fibo_recursion as recursion\n",
    "recursion(4)"
   ]
  }
 ],
 "metadata": {
  "kernelspec": {
   "display_name": "Python 3 (ipykernel)",
   "language": "python",
   "name": "python3"
  },
  "language_info": {
   "codemirror_mode": {
    "name": "ipython",
    "version": 3
   },
   "file_extension": ".py",
   "mimetype": "text/x-python",
   "name": "python",
   "nbconvert_exporter": "python",
   "pygments_lexer": "ipython3",
   "version": "3.9.13"
  },
  "toc": {
   "base_numbering": 1,
   "nav_menu": {},
   "number_sections": true,
   "sideBar": true,
   "skip_h1_title": false,
   "title_cell": "Table of Contents",
   "title_sidebar": "Contents",
   "toc_cell": false,
   "toc_position": {},
   "toc_section_display": true,
   "toc_window_display": false
  }
 },
 "nbformat": 4,
 "nbformat_minor": 5
}
