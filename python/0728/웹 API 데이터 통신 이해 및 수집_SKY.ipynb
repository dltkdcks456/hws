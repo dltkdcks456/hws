{
 "cells": [
  {
   "cell_type": "markdown",
   "id": "f154fd1e",
   "metadata": {},
   "source": [
    "## 웹 API의 이해\n",
    "- API란 Application Programming Interface 의 약자로 컴퓨팅 처리를 쉽게 해주는 기능을 말합니다.\n",
    "    - 조금 더 설명하면, 두 소프트웨어가 서로 통신할 수 있도록 연결 시켜주는 기능이고,\n",
    "    - 한 마디로 줄이면, API는 기능입니다.\n",
    "    - 즉, 우리가 브라우저를 통해 서버에게 정보를 요청한 것이 api를 사용한 것\n",
    "\n",
    "### 웹 API의 데이터 획득 과정\n",
    "    - 요청과 응답\n",
    "    - 요청: reqeust - python의 경우 requests 라이브러리\n",
    "        - url 만들기(경로 추가, 매개 변수 추가)\n",
    "    - 응답: response - html, json\n",
    "\n",
    "\n",
    "### 웹 API의 인증 방식\n",
    "     - key를 사용하지 않는 경우 - url = 'https://api.agify.io/?name=jun', url = 'http://api.open-notify.org/iss-now.json'\n",
    "     - key(a.k.a api_key)를 사용하는 경우\n",
    "\n",
    "\n",
    "### 응답 데이터의 형식 및 처리\n",
    "    - html, json, xml\n",
    "\n",
    "#### JSON 형식의 데이터 처리\n",
    "\n",
    "* 파이썬 딕셔너리를 Json으로 변환: json.dump()\n",
    "* Json을 파이썬 딕셔너리로 변환: json.load()"
   ]
  },
  {
   "cell_type": "code",
   "execution_count": 1,
   "id": "60f89d25",
   "metadata": {},
   "outputs": [],
   "source": [
    "import requests #!pip install requests"
   ]
  },
  {
   "cell_type": "markdown",
   "id": "5d1194ff",
   "metadata": {},
   "source": [
    "## 요청을 위한 형식 만들기(url, 경로 추가, 매개 변수 추가)"
   ]
  },
  {
   "cell_type": "code",
   "execution_count": 2,
   "id": "4d400ae9",
   "metadata": {},
   "outputs": [],
   "source": [
    "import requests"
   ]
  },
  {
   "cell_type": "code",
   "execution_count": 5,
   "id": "c0e562af",
   "metadata": {},
   "outputs": [
    {
     "data": {
      "text/plain": [
       "'{\"message\":\"Requires authentication\",\"documentation_url\":\"https://docs.github.com/rest/reference/users#get-the-authenticated-user\"}'"
      ]
     },
     "execution_count": 5,
     "metadata": {},
     "output_type": "execute_result"
    }
   ],
   "source": [
    "base_url = 'https://api.github.com/'\n",
    "sub_url = 'user'\n",
    "\n",
    "url = base_url + sub_url\n",
    "url\n",
    "\n",
    "requests.get(url).text"
   ]
  },
  {
   "cell_type": "code",
   "execution_count": 7,
   "id": "b746ea7b",
   "metadata": {},
   "outputs": [],
   "source": [
    "#!pip install bs4\n",
    "from bs4 import BeautifulSoup"
   ]
  },
  {
   "cell_type": "code",
   "execution_count": 18,
   "id": "ad40b4c2",
   "metadata": {},
   "outputs": [
    {
     "data": {
      "text/plain": [
       "'https://google.com/search?q=파이썬&hl=ko&gl=KR&ceid=KR:ko'"
      ]
     },
     "execution_count": 18,
     "metadata": {},
     "output_type": "execute_result"
    }
   ],
   "source": [
    "# 다양한 요청\n",
    "# 구글 뉴스\n",
    "import requests # 앞에 했으면 메모리에 requests가 저장되어 있다\n",
    "\n",
    "from bs4 import BeautifulSoup\n",
    "\n",
    "base_url = 'https://google.com/'\n",
    "search_url = \"search?q=\" + \"파이썬\" + \"&hl=ko&gl=KR&ceid=KR:ko\"\n",
    "\n",
    "url = base_url + search_url\n",
    "url"
   ]
  },
  {
   "cell_type": "code",
   "execution_count": 19,
   "id": "9b6ffd00",
   "metadata": {},
   "outputs": [
    {
     "data": {
      "text/plain": [
       "'<!doctype html><html lang=\"ko\"><head><meta charset=\"UTF-8\"><meta content=\"/images/branding/googleg/1x/googleg_standard_color_128dp.png\" itemprop=\"image\"><title>파이썬 - Google 검색</title><script nonce=\"IrUxpkpPW-5tuhdmUGNaIw\">(function(){\\ndocument.documentElement.addEventListener(\"submit\",function(b){var a;if(a=b.target){var c=a.getAttribute(\"data-submitfalse\");a=\"1\"===c||\"q\"===c&&!a.elements.q.value?!0:!1}else a=!1;a&&(b.preventDefault(),b.stopPropagation())},!0);document.documentElement.addEventListener(\"click\",function(b){var a;a:{for(a=b.target;a&&a!==document.documentElement;a=a.parentElement)if(\"A\"===a.tagName){a=\"1\"===a.getAttribute(\"data-nohref\");break a}a=!1}a&&b.preventDefault()},!0);}).call(this);(function(){\\nvar a=window.performance;window.start=Date.now();a:{var b=window;if(a){var c=a.timing;if(c){var d=c.navigationStart,f=c.responseStart;if(f>d&&f<=window.start){window.start=f;b.wsrt=f-d;break a}}a.now&&(b.wsrt=Math.floor(a.now()))}}window.google=window.google||{};var h=function(g){g&&g.target.setAttribute(\"data-iml\",Date.now())};document.documentElement.addEventListener(\"load\",h,!0);google.rglh=function(){document.documentElement.removeEventListener(\"load\",h,!0)};}).call(this);(function(){window._noJsad=1;})();(function(){window._skwEvts=[\\'qVMfkc:QwZQbe\\',\\'WTAWSe:WVopDd\\'];})();(function(){window.google.erd={jsr:1,bv:1625,de:true};})();(function(){var sdo=false;var mei=10;\\nvar f=this||self;var g,h=null!=(g=f.mei)?g:1,m,n=null!=(m=f.sdo)?m:!0,p=0,q,r=google.erd,u=r.jsr;google.ml=function(a,b,d,k,c){c=void 0===c?2:c;b&&(q=a&&a.message);if(google.dl)return google.dl(a,c,d),null;if(0>u){window.console&&console.error(a,d);if(-2===u)throw a;b=!1}else b=!a||!a.message||\"Error loading script\"===a.message||p>=h&&!k?!1:!0;if(!b)return null;p++;d=d||{};var e=c;c=encodeURIComponent;b=\"/gen_204?atyp=i&ei=\"+c(google.kEI);google.kEXPI&&(b+=\"&jexpid=\"+c(google.kEXPI));b+=\"&srcpg=\"+c(google.sn)+\"&jsr=\"+c(r.jsr)+\"&bver=\"+c(r.bv)+(\"&jsel=\"+e);e=a.lineNumber;void 0!==e&&(b+=\"&line=\"+\\ne);var l=a.fileName;l&&(b+=\"&script=\"+c(l),e&&l===window.location.href&&(e=document.documentElement.outerHTML.split(\"\\\\n\")[e],b+=\"&cad=\"+c(e?e.substring(0,300):\"No script found.\")));for(var t in d)b+=\"&\",b+=c(t),b+=\"=\",b+=c(d[t]);b=b+\"&emsg=\"+c(a.name+\": \"+a.message);b=b+\"&jsst=\"+c(a.stack||\"N/A\");12288<=b.length&&(b=b.substr(0,12288));a=b;k||google.log(0,\"\",a);return a};window.onerror=function(a,b,d,k,c){q!==a&&(a=c instanceof Error?c:Error(a),void 0===d||\"lineNumber\"in a||(a.lineNumber=d),void 0===b||\"fileName\"in a||(a.fileName=b),google.ml(a,!1,void 0,!1,\"SyntaxError\"===a.name||\"SyntaxError\"===a.message.substring(0,11)||0<a.message.indexOf(\"Script error\")?2:0));q=null;n&&p>=h&&(window.onerror=null)};})();(function(){\\nvar c=[],e=0;window.ping=function(b){-1==b.indexOf(\"&zx\")&&(b+=\"&zx=\"+Date.now());var a=new Image,d=e++;c[d]=a;a.onerror=a.onload=a.onabort=function(){delete c[d]};a.src=b};}).call(this);</script><style>body{margin:0 auto;max-width:652px;padding:0 8px;}a{color:#1a0dab;text-decoration:none;tap-highlight-color:rgba(0,0,0,.10)}a:visited{color:#4b11a8}a:hover{text-decoration:underline}img{border:0}html{font-family:arial,sans-serif;font-size:14px;line-height:20px;text-size-adjust:100%;color:#3c4043;word-wrap:break-word;background-color:#fff}.bRsWnc{background-color:#fff;border-top:1px solid #dadce0;height:39px;overflow:hidden}.N6RWV{height:51px;overflow-scrolling:touch;overflow-x:auto;overflow-y:hidden}.Uv67qb{box-pack:justify;font-size:12px;line-height:37px;justify-content:space-between;justify-content:space-between}.Uv67qb a,.Uv67qb span{color:#70757a;display:block;flex:none;padding:0 16px;text-align:center;text-transform:uppercase;}span.OXXup{border-bottom:2px solid #4285f4;color:#4285f4;font-weight:bold}a.eZt8xd:visited{color:#70757a}.FElbsf{border-left:1px solid rgba(0,0,0,.12)}header article{overflow:visible}.Pg70bf{height:39px;display:box;display:flex;display:flex;width:100%}.H0PQec{position:relative;flex:1}.sbc{display:flex;width:100%}.Pg70bf input{margin:2px 4px 2px 8px;}.x{width:26px;color:#70757a;font:27px/38px arial, sans-serif;line-height:40px;}#qdClwb{flex:0 0 auto;width:39px;height:39px;border-bottom:0;padding:0;border-top-right-radius:8px;background-color:#1a73e8;border:1px solid #1558d6;background-image:url(data:image/gif;base64,R0lGODdhJAAjAPIHAODr/nCk+MPZ/FmV96zK+/7+/5K5+kqL9iwAAAAAJAAjAEADani63P4wykmbKcQRXDscQAEMXmmeaLQVLCukzyC09AjfeK7v/MAajACLhPMVAgwjsUcEiZa8xgAYrVqv2Kx2iwsIAAABknfBBAKrTE4IcMyot8ur8datqIbQfJdnAfo2WE6BV05wXIiJigkAOw==);}.sc{font-size:16px;position:absolute;top:39px;left:0;right:0;box-shadow:0 2px 5px rgba(0,0,0,.2);z-index:2;background-color:#fff}.sc>div{padding:10px 10px;padding-left:16px;padding-left:14px;border-top:1px solid #dfe1e5;}.scs{background-color:#fafafa;}.noHIxc{display:block;font-size:16px;padding:0 0 0 8px;flex:1;height:35px;outline:none;border:none;width:100%;-webkit-tap-highlight-color:rgba(0,0,0,.00);overflow:hidden;}.sbc input[type=text]{background:none}.bz1lBb{background-color:#fff;border-radius:8px 8px 0 0;box-shadow:0 0 0 1px #dfe1e5;margin-top:24px;}.KP7LCb{border-radius:0 0 8px 8px;box-shadow:0px 1px 0px 1px #dfe1e5;margin-bottom:30px;overflow:hidden}html{background-color:#fff}body{margin:0 auto 0 156px;max-width:652px;min-width:652px}.cOl4Id{letter-spacing:-1px;text-align:center;font:22pt Futura, Arial, sans-serif;height:37px;font-smoothing:antialiased;padding:32px 28px 0 24px;position:absolute;left:0;top:0}.cOl4Id span{display:inline-block}.V6gwVd{color:#4285f4}.iWkuvd{color:#ea4335}.cDrQ7{color:#fcc934}.ntlR9{color:#34a853}.tJ3Myc{-webkit-transform:rotate(-20deg);position:relative;left:-1px;display:inline-block}footer{text-align:center;margin-top:18px}footer a,footer a:visited,.smiUbb{color:#70757a}.xeDNfc{margin:0 13px;white-space:nowrap}#EOlPnc{margin-top:36px}#EOlPnc>div{margin:20px}.Srfpq{color:#70757a}</style></head><body jsmodel=\"hspDDf\"><header id=\"hdr\"><script nonce=\"IrUxpkpPW-5tuhdmUGNaIw\">(function(){\\nvar k=this||self,l=function(a){var b=typeof a;return\"object\"==b&&null!=a||\"function\"==b},m=function(a,b){function c(){}c.prototype=b.prototype;a.j=b.prototype;a.prototype=new c;a.prototype.constructor=a;a.l=function(d,e,f){for(var g=Array(arguments.length-2),h=2;h<arguments.length;h++)g[h-2]=arguments[h];return b.prototype[e].apply(d,g)}};var n=Array.prototype.indexOf?function(a,b){return Array.prototype.indexOf.call(a,b,void 0)}:function(a,b){if(\"string\"===typeof a)return\"string\"!==typeof b||1!=b.length?-1:a.indexOf(b,0);for(var c=0;c<a.length;c++)if(c in a&&a[c]===b)return c;return-1};var p=function(a){return\"string\"==typeof a.className?a.className:a.getAttribute&&a.getAttribute(\"class\")||\"\"},q=function(a,b){\"string\"==typeof a.className?a.className=b:a.setAttribute&&a.setAttribute(\"class\",b)},r=function(a,b){a.classList?b=a.classList.contains(b):(a=a.classList?a.classList:p(a).match(/\\\\S+/g)||[],b=0<=n(a,b));return b},v=function(){var a=t,b=u;a.classList?a.classList.remove(b):r(a,b)&&q(a,Array.prototype.filter.call(a.classList?a.classList:p(a).match(/\\\\S+/g)||[],function(c){return c!=\\nb}).join(\" \"))};function w(){var a=k.navigator;return a&&(a=a.userAgent)?a:\"\"};var x=function(a){x[\" \"](a);return a};x[\" \"]=function(){};var y=-1!=w().indexOf(\"Gecko\")&&!(-1!=w().toLowerCase().indexOf(\"webkit\")&&-1==w().indexOf(\"Edge\"))&&!(-1!=w().indexOf(\"Trident\")||-1!=w().indexOf(\"MSIE\"))&&-1==w().indexOf(\"Edge\");var z=function(a,b){this.type=a;this.target=b};z.prototype.g=function(){};var A=function(){if(!k.addEventListener||!Object.defineProperty)return!1;var a=!1,b=Object.defineProperty({},\"passive\",{get:function(){a=!0}});try{k.addEventListener(\"test\",function(){},b),k.removeEventListener(\"test\",function(){},b)}catch(c){}return a}();var C=function(a){z.call(this,a?a.type:\"\");this.relatedTarget=this.target=null;this.button=this.screenY=this.screenX=this.clientY=this.clientX=0;this.key=\"\";this.keyCode=0;this.metaKey=this.shiftKey=this.altKey=this.ctrlKey=!1;this.state=null;this.pointerId=0;this.pointerType=\"\";this.h=null;if(a){var b=this.type=a.type,c=a.changedTouches&&a.changedTouches.length?a.changedTouches[0]:null;this.target=a.target||a.srcElement;var d=a.relatedTarget;if(d){if(y){a:{try{x(d.nodeName);var e=!0;break a}catch(f){}e=\\n!1}e||(d=null)}}else\"mouseover\"==b?d=a.fromElement:\"mouseout\"==b&&(d=a.toElement);this.relatedTarget=d;c?(this.clientX=void 0!==c.clientX?c.clientX:c.pageX,this.clientY=void 0!==c.clientY?c.clientY:c.pageY,this.screenX=c.screenX||0,this.screenY=c.screenY||0):(this.clientX=void 0!==a.clientX?a.clientX:a.pageX,this.clientY=void 0!==a.clientY?a.clientY:a.pageY,this.screenX=a.screenX||0,this.screenY=a.screenY||0);this.button=a.button;this.keyCode=a.keyCode||0;this.key=a.key||\"\";this.ctrlKey=a.ctrlKey;this.altKey=a.altKey;this.shiftKey=a.shiftKey;this.metaKey=a.metaKey;this.pointerId=a.pointerId||0;this.pointerType=\"string\"===typeof a.pointerType?a.pointerType:B[a.pointerType]||\"\";this.state=a.state;this.h=a;a.defaultPrevented&&C.j.g.call(this)}};m(C,z);var B={2:\"touch\",3:\"pen\",4:\"mouse\"};C.prototype.g=function(){C.j.g.call(this);var a=this.h;a.preventDefault?a.preventDefault():a.returnValue=!1};var D=\"closure_listenable_\"+(1E6*Math.random()|0);var E=0;var F=function(a,b,c,d,e){this.listener=a;this.proxy=null;this.src=b;this.type=c;this.capture=!!d;this.h=e;this.key=++E;this.g=this.i=!1},G=function(a){a.g=!0;a.listener=null;a.proxy=null;a.src=null;a.h=null};var H=function(a){this.src=a;this.g={};this.h=0};H.prototype.add=function(a,b,c,d,e){var f=a.toString();a=this.g[f];a||(a=this.g[f]=[],this.h++);var g;a:{for(g=0;g<a.length;++g){var h=a[g];if(!h.g&&h.listener==b&&h.capture==!!d&&h.h==e)break a}g=-1}-1<g?(b=a[g],c||(b.i=!1)):(b=new F(b,this.src,f,!!d,e),b.i=c,a.push(b));return b};var I=\"closure_lm_\"+(1E6*Math.random()|0),J={},K=0,M=function(a,b,c,d,e){if(d&&d.once)return L(a,b,c,d,e);if(Array.isArray(b)){for(var f=0;f<b.length;f++)M(a,b[f],c,d,e);return null}c=N(c);return a&&a[D]?a.g(b,c,l(d)?!!d.capture:!!d,e):O(a,b,c,!1,d,e)},O=function(a,b,c,d,e,f){if(!b)throw Error(\"a\");var g=l(e)?!!e.capture:!!e,h=P(a);h||(a[I]=h=new H(a));c=h.add(b,c,d,g,f);if(c.proxy)return c;d=Q();c.proxy=d;d.src=a;d.listener=c;if(a.addEventListener)A||(e=g),void 0===e&&(e=!1),a.addEventListener(b.toString(),d,e);else if(a.attachEvent)a.attachEvent(R(b.toString()),d);else if(a.addListener&&a.removeListener)a.addListener(d);else throw Error(\"b\");K++;return c},Q=function(){var a=S,b=function(c){return a.call(b.src,b.listener,c)};return b},L=function(a,b,c,d,e){if(Array.isArray(b)){for(var f=0;f<b.length;f++)L(a,b[f],c,d,e);return null}c=N(c);return a&&a[D]?a.h(b,c,l(d)?!!d.capture:!!d,e):O(a,b,c,!0,d,e)},T=function(a){if(\"number\"!==typeof a&&a&&!a.g){var b=a.src;if(b&&b[D])b.o(a);else{var c=a.type,d=a.proxy;b.removeEventListener?b.removeEventListener(c,d,a.capture):b.detachEvent?b.detachEvent(R(c),d):b.addListener&&b.removeListener&&b.removeListener(d);K--;if(c=P(b)){d=a.type;if(d in c.g){var e=c.g[d],f=n(e,a),g;(g=0<=f)&&Array.prototype.splice.call(e,f,1);g&&(G(a),0==c.g[d].length&&(delete c.g[d],c.h--))}0==c.h&&(c.src=null,b[I]=null)}else G(a)}}},R=function(a){return a in J?J[a]:J[a]=\"on\"+a},S=function(a,b){if(a.g)a=!0;else{b=new C(b,this);var c=a.listener,d=a.h||a.src;a.i&&T(a);a=c.call(d,b)}return a},P=function(a){a=a[I];return a instanceof H?a:null},U=\"__closure_events_fn_\"+(1E9*Math.random()>>>0),N=function(a){if(\"function\"===typeof a)return a;a[U]||(a[U]=function(b){return a.handleEvent(b)});return a[U]};var u,t=document.documentElement,V;function W(){T(V);V=L(t,\"mousedown\",function(){v();X()},{capture:!0})}function X(){T(V);V=M(t,\"keydown\",function(a){if(9===a.keyCode){a=t;var b=u;if(a.classList)a.classList.add(b);else if(!r(a,b)){var c=p(a);q(a,c+(0<c.length?\" \"+b:b))}W()}})};u=\"zAoYTe\";X();}).call(this);</script><div class=\"cOl4Id\"><a href=\"/?sa=X&amp;ved=0ahUKEwijt76qjZv5AhXUKaYKHfk7C-IQOwgC\"><span class=\"V6gwVd\">G</span><span class=\"iWkuvd\">o</span><span class=\"cDrQ7\">o</span><span class=\"V6gwVd\">g</span><span class=\"ntlR9\">l</span><span class=\"iWkuvd tJ3Myc\">e</span></a></div><div class=\"bz1lBb\"><form class=\"Pg70bf\" id=\"sf\"><input name=\"hl\" value=\"ko\" type=\"hidden\"><input name=\"gl\" value=\"KR\" type=\"hidden\"><input name=\"ie\" value=\"EUC-KR\" type=\"hidden\"><div class=\"H0PQec\"><div class=\"sbc esbc\"><input class=\"noHIxc\" value=\"파이썬\" autocapitalize=\"none\" autocomplete=\"off\" name=\"q\" spellcheck=\"false\" type=\"text\"><input name=\"oq\" type=\"hidden\"><input name=\"aqs\" type=\"hidden\"><div class=\"x\">×</div><div class=\"sc\"></div></div></div><button id=\"qdClwb\" type=\"submit\"></button></form></div><noscript><meta content=\"0;url=/search?q=%ED%8C%8C%EC%9D%B4%EC%8D%AC&amp;hl=ko&amp;gl=KR&amp;ie=UTF-8&amp;gbv=1&amp;sei=ikDiYqPKF9TTmAX596yQDg\" http-equiv=\"refresh\"><style>table,div,span,p{display:none}</style><div style=\"display:block\">몇 초 안에 이동하지 않는 경우 <a href=\"/search?q=%ED%8C%8C%EC%9D%B4%EC%8D%AC&amp;hl=ko&amp;gl=KR&amp;ie=UTF-8&amp;gbv=1&amp;sei=ikDiYqPKF9TTmAX596yQDg\">여기</a>를 클릭하세요.</div></noscript></header><div id=\"main\"><div><div class=\"KP7LCb\"> <div class=\"bRsWnc\"> <div class=\"N6RWV\"> <div class=\"Pg70bf Uv67qb\"> <span class=\"OXXup\">전체</span><a class=\"eZt8xd\" href=\"/search?q=%ED%8C%8C%EC%9D%B4%EC%8D%AC&amp;hl=ko&amp;gl=KR&amp;ie=UTF-8&amp;source=lnms&amp;tbm=isch&amp;sa=X&amp;ved=0ahUKEwijt76qjZv5AhXUKaYKHfk7C-IQ_AUIBigB\">이미지</a><a class=\"eZt8xd\" href=\"/search?q=%ED%8C%8C%EC%9D%B4%EC%8D%AC&amp;hl=ko&amp;gl=KR&amp;ie=UTF-8&amp;source=lnms&amp;tbm=vid&amp;sa=X&amp;ved=0ahUKEwijt76qjZv5AhXUKaYKHfk7C-IQ_AUIBygC\">동영상</a><a class=\"eZt8xd\" href=\"/search?q=%ED%8C%8C%EC%9D%B4%EC%8D%AC&amp;hl=ko&amp;gl=KR&amp;ie=UTF-8&amp;source=lnms&amp;tbm=bks&amp;sa=X&amp;ved=0ahUKEwijt76qjZv5AhXUKaYKHfk7C-IQ_AUICCgD\">도서</a>  <a href=\"https://maps.google.com/maps?q=%ED%8C%8C%EC%9D%B4%EC%8D%AC&amp;hl=ko&amp;gl=KR&amp;um=1&amp;ie=UTF-8&amp;sa=X&amp;ved=0ahUKEwijt76qjZv5AhXUKaYKHfk7C-IQ_AUICSgE\">지도</a>  <a href=\"/search?q=%ED%8C%8C%EC%9D%B4%EC%8D%AC&amp;hl=ko&amp;gl=KR&amp;ie=UTF-8&amp;source=lnms&amp;tbm=nws&amp;sa=X&amp;ved=0ahUKEwijt76qjZv5AhXUKaYKHfk7C-IQ_AUICigF\">뉴스</a>  <a href=\"/search?q=%ED%8C%8C%EC%9D%B4%EC%8D%AC&amp;hl=ko&amp;gl=KR&amp;ie=UTF-8&amp;source=lnms&amp;tbm=shop&amp;sa=X&amp;ved=0ahUKEwijt76qjZv5AhXUKaYKHfk7C-IQ_AUICygG\">쇼핑</a>  <div class=\"FElbsf\"><a href=\"/advanced_search\" style=\"white-space:nowrap\" id=\"st-toggle\" role=\"button\">검색 도구</a></div> </div> </div> </div> </div><div class=\"Pg70bf wEsjbd Gx5Zad xpd EtOod pkphOe\" style=\"display:none\" id=\"st-card\"><style>.wEsjbd{background-color:#fff;height:44px;white-space:nowrap}.coPU8c{height:60px;overflow-scrolling:touch;overflow-x:auto;overflow-y:hidden}.Xj2aue{height:44px;overflow:hidden}.RnNGze{margin:11px 16px}.wEsjbd div,.wEsjbd a,.wEsjbd li{outline-width:0;outline:none}</style><div class=\"Xj2aue\"><div class=\"coPU8c\"><div class=\"RnNGze\"><style>.PA9J5{display:inline-block}.RXaOfd{display:inline-block;height:22px;position:relative;padding-top:0;padding-bottom:0;padding-right:16px;padding-left:0;line-height:22px;cursor:pointer;text-transform:uppercase;font-size:12px;color:#70757a}.sa1toc{background:#fff;display:none;position:absolute;border:1px solid #d6d6d6;box-shadow:0 2px 4px rgba(0,0,0,.3);margin:0;white-space:nowrap;z-index:103;line-height:17px;padding-top:5px;padding-bottom:5px;padding-left:0}.PA9J5:hover .sa1toc{display:block}.mGSy8d a:active,.RXaOfd:active{color:#4285f4}</style><div class=\"PA9J5\"><div class=\"RXaOfd\" role=\"button\" tabindex=\"0\"><style>.TWMOUc{display:inline-block;padding-right:14px;white-space:nowrap}.vQYuGf{font-weight:bold}.OmTIzf{border-color:#909090 transparent;border-style:solid;border-width:4px 4px 0 4px;width:0;height:0;margin-left:-10px;top:50%;margin-top:-2px;position:absolute}.RXaOfd:active .OmTIzf{border-color:#4285f4 transparent}</style><div class=\"TWMOUc\">모든 언어</div><span class=\"OmTIzf\"></span></div><ul class=\"sa1toc ozatM\"><style>.ozatM{font-size:12px;text-transform:uppercase}.ozatM .yNFsl,.ozatM li{list-style-type:none;list-style-position:outside;list-style-image:none}.yNFsl.SkUj4c,.yNFsl a{color:rgba(0,0,0,0.54);text-decoration:none;padding:6px 44px 6px 14px;line-height:17px;display:block}.SkUj4c{background-image:url(//ssl.gstatic.com/ui/v1/menu/checkmark2.png);background-position:right center;background-repeat:no-repeat}.SkUj4c:active{background-color:#f8f9fa}</style><li class=\"yNFsl SkUj4c\">모든 언어</li><li class=\"yNFsl\"><a href=\"/search?q=%ED%8C%8C%EC%9D%B4%EC%8D%AC&amp;hl=ko&amp;gl=KR&amp;ie=UTF-8&amp;source=lnt&amp;tbs=lr:lang_1ko&amp;lr=lang_ko&amp;sa=X&amp;ved=0ahUKEwijt76qjZv5AhXUKaYKHfk7C-IQpwUIDQ\">한국어 웹</a></li></ul></div><div class=\"PA9J5\"><div class=\"RXaOfd\" role=\"button\" tabindex=\"0\"><div class=\"TWMOUc\">모든 날짜</div><span class=\"OmTIzf\"></span></div><ul class=\"sa1toc ozatM\"><li class=\"yNFsl SkUj4c\">모든 날짜</li><li class=\"yNFsl\"><a href=\"/search?q=%ED%8C%8C%EC%9D%B4%EC%8D%AC&amp;hl=ko&amp;gl=KR&amp;ie=UTF-8&amp;source=lnt&amp;tbs=qdr:h&amp;sa=X&amp;ved=0ahUKEwijt76qjZv5AhXUKaYKHfk7C-IQpwUIDw\"> 지난 1시간</a></li><li class=\"yNFsl\"><a href=\"/search?q=%ED%8C%8C%EC%9D%B4%EC%8D%AC&amp;hl=ko&amp;gl=KR&amp;ie=UTF-8&amp;source=lnt&amp;tbs=qdr:d&amp;sa=X&amp;ved=0ahUKEwijt76qjZv5AhXUKaYKHfk7C-IQpwUIEA\"> 지난 1일</a></li><li class=\"yNFsl\"><a href=\"/search?q=%ED%8C%8C%EC%9D%B4%EC%8D%AC&amp;hl=ko&amp;gl=KR&amp;ie=UTF-8&amp;source=lnt&amp;tbs=qdr:w&amp;sa=X&amp;ved=0ahUKEwijt76qjZv5AhXUKaYKHfk7C-IQpwUIEQ\"> 지난 1주</a></li><li class=\"yNFsl\"><a href=\"/search?q=%ED%8C%8C%EC%9D%B4%EC%8D%AC&amp;hl=ko&amp;gl=KR&amp;ie=UTF-8&amp;source=lnt&amp;tbs=qdr:m&amp;sa=X&amp;ved=0ahUKEwijt76qjZv5AhXUKaYKHfk7C-IQpwUIEg\"> 지난 1개월</a></li><li class=\"yNFsl\"><a href=\"/search?q=%ED%8C%8C%EC%9D%B4%EC%8D%AC&amp;hl=ko&amp;gl=KR&amp;ie=UTF-8&amp;source=lnt&amp;tbs=qdr:y&amp;sa=X&amp;ved=0ahUKEwijt76qjZv5AhXUKaYKHfk7C-IQpwUIEw\"> 지난 1년</a></li></ul></div><div class=\"PA9J5\"><div class=\"RXaOfd\" role=\"button\" tabindex=\"0\"><div class=\"TWMOUc\">모든 결과</div><span class=\"OmTIzf\"></span></div><ul class=\"sa1toc ozatM\"><li class=\"yNFsl SkUj4c\">모든 결과</li><li class=\"yNFsl\"><a href=\"/search?q=%ED%8C%8C%EC%9D%B4%EC%8D%AC&amp;hl=ko&amp;gl=KR&amp;ie=UTF-8&amp;source=lnt&amp;tbs=li:1&amp;sa=X&amp;ved=0ahUKEwijt76qjZv5AhXUKaYKHfk7C-IQpwUIFQ\">완전일치</a></li></ul></div></div></div></div><script nonce=\"IrUxpkpPW-5tuhdmUGNaIw\">(function(){\\nvar a=document.getElementById(\"st-toggle\"),b=document.getElementById(\"st-card\");a&&b&&a.addEventListener(\"click\",function(c){b.style.display=b.style.display?\"\":\"none\";c.preventDefault()},!1);}).call(this);</script></div></div><style>.nGphre{float:right;padding-left:16px}.UykT9d{border-radius:8px;display:block}.nYT7Qb{clear:both}.Gx5Zad{background-color:#fff;margin-bottom:30px;box-shadow:0 0 0 1px #dfe1e5;border-radius:8px}.pkphOe{font-size:14px;line-height:22px;}.EtOod>*:first-child{border-top-left-radius:8px;border-top-right-radius:8px}.EtOod>*:last-child{border-bottom-left-radius:8px;border-bottom-right-radius:8px}.EtOod>.qxDOhb>*:first-child{border-top-left-radius:8px;border-top-right-radius:8px}.EtOod>.qxDOhb>*:last-child{border-bottom-left-radius:8px;border-bottom-right-radius:8px}.n3YsHb .n3YsHb{box-shadow:none;margin-bottom:0px}.kCrYT{padding:12px 16px 12px}.l97dzf{font-weight:400}.zBAuLc{line-height:normal;margin:0;padding:0}.BNeawe{white-space:pre-line;word-wrap:break-word}.deIvCb{font-size:16px;line-height:20px;font-weight:400}.deIvCb.HrGdeb{color:#fff}.deIvCb.AP7Wnd{color:#202124}.tAd8D{font-size:14px;line-height:20px}.tAd8D.HrGdeb{color:rgba(255,255,255,.70)}.tAd8D.AP7Wnd{color:#70757a}.Xdlr0d{overflow-x:auto;-webkit-overflow-scrolling:touch;margin:0 -8px;padding:2px 0 16px 24px;margin-top:-2px;transform:translate3d(0,0,0)}.idg8be{display:table;border-collapse:separate;border-spacing:8px 0;margin:0 -8px;padding-right:16px}.BVG0Nb{display:table-cell;vertical-align:top;background-color:#fff;border-radius:8px;box-shadow:0 0 0 1px #dfe1e5;overflow:hidden}a.fdYsqf{color:#4b11a8}.WddBJd{display:block;margin:0 auto}.RJI4s{vertical-align:middle}.mHhylf{display:table-cell;vertical-align:middle}.WZ5GJf{align-items:center;padding:0 20px;min-width:112px}.qN9Ked,.DXk5Me{margin:0 auto}.DXk5Me{cursor:pointer;margin-bottom:12px}.Dk7jOe{display:block;margin:0 auto}.Qi9Fd{background:#fff;border:0;border-radius:999px;display:block;height:56px;justify-content:center;width:56px;z-index:0}.Qi9Fd{box-shadow:0 0 0 1px #dfe1e5,inset 0 0 0 0 rgba(0,0,0,0.10),inset 0 0 0 0 rgba(255,255,255,0.50)}.Qi9Fd:focus{outline:none}.Qi9Fd .hWHuJ{display:block;margin:0 auto}.ji5jpf{text-align:center}.xpc .hwc,.xpx .hwx{display:none}.skVgpb{display:table;table-layout:fixed;width:100%}.VGHMXd{display:table-cell;vertical-align:middle;height:52px;text-align:center}.LpaDrb{margin:0 auto 8px;display:block}.vbShOe{padding-top:0}.x54gtf{height:1px;background-color:#dadce0;margin:0 16px}.Q0HXG{height:1px;background-color:#dadce0}.Ap5OSd{padding-bottom:12px}.s3v9rd{font-size:14px;line-height:22px}.s3v9rd.HrGdeb{color:#fff}.s3v9rd.AP7Wnd{color:#202124}.XLloXe{color:#1a0dab;font-size:14px;line-height:20px}a:visited .XLloXe,.XLloXe a:visited{color:#4b11a8}.XLloXe.HrGdeb{color:#fff}a:visited .XLloXe.HrGdeb,.XLloXe.HrGdeb a:visited{color:rgba(255,255,255,.70)}.AVsepf{padding-bottom:8px}.AVsepf.u2x1Od{padding-bottom:0}hr{border:0;border-bottom:1px solid #dadce0;margin:0}.BUybKe,.HsnFBf{margin-left:16px}.BUybKe,.oM2GA{margin-right:16px}.XO7rhc{margin-right:-16px;margin-left:-16px}.ZM7ZNb{margin-right:-16px}.HbX59e{margin-left:0px}.r2fjmd{margin-bottom:0px;margin-top:0px}.iIWm4b{box-sizing:border-box;min-height:48px}.fLtXsc{padding:14px;position:relative}.Lym8W{width:14px;height:20px;position:relative;margin:0 auto}.xCgLUe{position:absolute;right:16px;margin-top:-10px;top:50%}.Lym8W div{position:absolute;border-left:7px solid transparent;border-right:7px solid transparent;width:0;height:0;left:0}.IyYaEd{top:7px;border-top:7px solid #70757a}.ECUHQe{top:4px;border-top:7px solid #fff}.AeQQub{bottom:7px;border-bottom:7px solid #70757a}.YCU7eb{bottom:4px;border-bottom:7px solid #fff}.fP1Qef{background:transparent !important;box-shadow:none !important;border:none !important}.Gx5Zad.fP1Qef{margin-top:-12px;margin-bottom:18px}.rl7ilb{display:block;clear:both}.egMi0{margin-bottom:-22px}.vvjwJb{color:#1a0dab;font-size:20px;line-height:26px}a:visited .vvjwJb,.vvjwJb a:visited{color:#4b11a8}.vvjwJb.HrGdeb{color:#fff}a:visited .vvjwJb.HrGdeb,.vvjwJb.HrGdeb a:visited{color:rgba(255,255,255,.70)}.UPmit{font-size:14px;line-height:22px}.UPmit.HrGdeb{color:rgba(255,255,255,.70)}.UPmit.AP7Wnd{color:#0d652d}.mSx1Ee{padding-left:48px;margin:0}.v9i61e{padding-bottom:8px}.r0bn4c.tr0dw{color:rgba(255,255,255,.70)}.r0bn4c.rQMQod{color:#70757a}.ZTv9Bb{display:block}.nVTMpe{border-radius:8px}.FCUp0c{font-weight:bold}.X7NTVe{display:table;width:100%;padding-right:16px;box-sizing:border-box}.tHmfQe{display:table-cell;padding:12px 0 12px 16px}.UHtrk{width:72px}.HBTM6d{width:30px}.XS7yGd{display:table-cell;text-align:center;vertical-align:middle;padding:12px 0 12px 8px}.am3QBf{display:table;vertical-align:top}.Xb5VRe{color:#1a0dab}a:visited .Xb5VRe{color:#4b11a8}.Xb5VRe.tr0dw{color:#fff}a:visited .Xb5VRe.tr0dw{color:rgba(255,255,255,.70)}.aJyiOc{color:#006621}.lcJF1d{border-radius:8px;margin-left:16px;float:right;}.h1hFNe{display:inline-block;position:relative}.Q6Xouf{overflow:hidden}.G6SP0b{display:inline-block}.eeoFaf{position:relative}.oz9fhd{background-color:rgba(0,0,0,.12)}.S9HcI{bottom:0;left:0;margin:auto;position:absolute;right:0;top:0}.UhWgBb{background-image:url(data:image/png;base64,iVBORw0KGgoAAAANSUhEUgAAADAAAAAwCAQAAAD9CzEMAAABl0lEQVR4Ae2XveraUBiHY4xD3URx8F+9gHZW9EKEOgi9Cz8uQFtXiwRsobvgIoLXIfYCKrqoaadCk+Xp4HiSc15PQkvB512FB37xvB/Ok/8BXDqMWXMgICIi4MCaEW1cHFOZftBgxpkkTnygbi+osiTCRIhPxUbQ5wdSAnqPCQp84VF8PKmgyA4bthQlggI7bNnimQWfSYNvEvRJyzudoMpP0nKjnCxYkgWLJEFD+6ze8wsZIS/xghk6HN7wDRnTOIHLGR33F/IVCUdyqqCDHudewqhaqmAsEwijGqqCtUwgjGqlCg4ygTCqvSoIZAJhVFdVEMkEwqjCvyiwj+gt8oiy/8j/4G86QosSjZ6BKmhn2iqaqsDllFmz+x7X7Bw+ouMejYxJ/DyoZzRwflNLGpk+WTBPnskVAtJyoaRbW3qkpWtavHzS8Mm82XlssWVDXrb82ik2vJKu7x6+RTj5xw6QHjekXOjanFBlFoSCZzWnZH8EvmbKUdNzJtQER6ChXFoMWbHnSkjIlT0rBjTJyc/Y7OspkNYf1H6eRU02jH0AAAAASUVORK5CYII=);background-repeat:no-repeat;background-position:center}.oyqqef{background:rgba(32, 33, 36, 0.5);position:absolute;border-radius:4px;padding:2px 6px}.K8tyEc{padding-bottom:12px}.mEUgP{font-weight:bold;font-size:16px;color:#000;margin:0;padding:12px 16px 0 16px}.C7GS5b{margin-left:12px;display:table-cell;vertical-align:middle}.rkGIWe{padding:14px}.NtmAdb{width:40px;height:40px;overflow:hidden;margin-top:-10px;margin-bottom:-16px;margin-right:8px;border-radius:4px}.xpc .NtmAdb{display:inline-block}.xpx .NtmAdb{display:none}.Lt3Tzc{display:inline-block;padding-right:26px}.AzWLW .xpd{box-shadow:none;border:none;margin-bottom:0;margin-top:-16px}.FybcKc{padding-top:16px}.Iaa5if{overflow:hidden;position:relative}.l7d08{align-items:center;display:flex;flex-direction:column;justify-content:space-around}.P1NWSe{display:table;width:100%;padding-top:16px;padding-bottom:16px;margin-bottom:-12px}.wOMIed{display:table-cell;vertical-align:top}.nkPlDb{vertical-align:middle}.JhFlyf{color:#3c4043;font-size:14px;text-align:center}.VQFmSd{display:block;white-space:pre-line;word-wrap:break-word}.JhFlyf.VQFmSd{line-height:22px}.MHODM,.MHODM:visited{color:inherit}.f4J0H{padding:18px}.gGQDvd{padding:14px;position:relative}.Q71vJc{display:block;position:relative;width:100%}.kjGX2{position:absolute;left:48px;right:0;vertical-align:bottom;display:inline-block;color:#3c4043}.ieB2Dd{overflow:hidden;margin-top:-10px;margin-bottom:-16px;margin-right:8px;border-radius:4px;display:inline-block;border-radius:50%;padding:10px}.OEaqif{width:20px;height:20px;display:block}.lRVwie{text-overflow:ellipsis;white-space:nowrap;overflow:hidden}.rLshyf,.BmP5tf{padding-top:12px;padding-bottom:12px}.YOx3Ab{padding-left:16px;}.w1C3Le,.BmP5tf,.G5NbBd,.CS4w5b{padding-left:16px;padding-right:16px;}.G5NbBd{padding-bottom:12px}.CS4w5b{padding-top:12px}.nMymef{display:flex}.G5eFlf{flex:1;display:block}.nMymef span{text-align:center}.EYqSq{margin:6px 4px 9px 0;border-radius:100%;display:inline-block;height:10px;vertical-align:middle;width:10px}.dfB0uf{color:#3c4043;font-weight:bold}</style><div><!--SW_C_X--></div><div></div><div><div class=\"Gx5Zad xpd EtOod pkphOe\"><div class=\"kCrYT\"><span><h3 class=\"zBAuLc l97dzf\"><div class=\"BNeawe deIvCb AP7Wnd\">파이썬</div></h3></span><span><div class=\"BNeawe tAd8D AP7Wnd\">프로그래밍 언어</div></span></div><div><div><div><div class=\"Xdlr0d\"><div class=\"idg8be\"><a class=\"BVG0Nb\" href=\"/imgres?imgurl=https://blogthumb.pstatic.net/MjAxNzAyMTNfMjEg/MDAxNDg2OTcxNzM3NTE5.FKqf5HaO1eoFhgXkGE2jXVKKQ-jVdwXho4N8cIU6L-Ig.KOSZAUeaSF3L8rh1kjDgoQUDuFg5pEX6EsZKJ4lmASEg.JPEG.acornedu/01_%25C7%25C1%25B7%25CE%25B1%25D7%25B7%25A1%25B9%25D6%25BE%25F0%25BE%25EE.jpg?type%3Dw2&amp;imgrefurl=http://m.blog.naver.com/acornedu/220934409189&amp;h=495&amp;w=743&amp;tbnid=pu5Gya1Xs27_HM&amp;q=%ED%8C%8C%EC%9D%B4%EC%8D%AC&amp;tbnh=183&amp;tbnw=275&amp;usg=AI4_-kStih0oLWYXL40QcYgew0Qr3A1WSg&amp;vet=1&amp;docid=RsLhupeXjQG87M&amp;itg=1&amp;hl=ko&amp;sa=X&amp;ved=2ahUKEwijt76qjZv5AhXUKaYKHfk7C-IQ9QF6BAgLEAQ\"><div><img class=\"WddBJd\" style=\"max-width:none;height:128px;max-height:128px\" alt=\"blogthumb.pstatic.net/MjAxNzAyMTNfMjEg/MDAxNDg2OTc...\" src=\"data:image/gif;base64,R0lGODlhAQABAIAAAP///////yH5BAEKAAEALAAAAAABAAEAAAICTAEAOw==\" id=\"dimg_15\" data-deferred=\"1\"></div></a><a class=\"BVG0Nb\" href=\"/imgres?imgurl=https://upload.wikimedia.org/wikipedia/commons/thumb/e/e1/Python_add5_syntax.svg/400px-Python_add5_syntax.svg.png&amp;imgrefurl=https://ko.wikipedia.org/wiki/%25ED%258C%258C%25EC%259D%25B4%25EC%258D%25AC&amp;h=298&amp;w=400&amp;tbnid=HBBxgWllmJSdYM&amp;q=%ED%8C%8C%EC%9D%B4%EC%8D%AC&amp;tbnh=92&amp;tbnw=124&amp;usg=AI4_-kRJ4BSxLXst7a_1F43ESNT9RkocFg&amp;vet=1&amp;docid=OL25IRr7kSMLRM&amp;hl=ko&amp;sa=X&amp;ved=2ahUKEwijt76qjZv5AhXUKaYKHfk7C-IQ9QF6BAgLEAY\"><div><img class=\"WddBJd\" style=\"max-width:none;height:128px;max-height:128px\" alt=\"upload.wikimedia.org/wikipedia/commons/thumb/e/e1/...\" src=\"data:image/gif;base64,R0lGODlhAQABAIAAAP///////yH5BAEKAAEALAAAAAABAAEAAAICTAEAOw==\" id=\"dimg_19\" data-deferred=\"1\"></div></a><a class=\"BVG0Nb\" href=\"/imgres?imgurl=https://cdn.inflearn.com/public/courses/328050/cover/972705f5-14a9-4be1-b55a-c9247a6e435a/328050-eng.png&amp;imgrefurl=https://www.inflearn.com/course/%25ED%258C%258C%25EC%259D%25B4%25EC%258D%25AC-%25EA%25B8%25B0%25EC%25B4%2588%25EB%25B6%2580%25ED%2584%25B0-%25EC%258B%25A4%25EB%25AC%25B4%25EA%25B9%258C%25EC%25A7%2580-1&amp;h=781&amp;w=1200&amp;tbnid=TJDj0hWzOSeC1M&amp;q=%ED%8C%8C%EC%9D%B4%EC%8D%AC&amp;tbnh=98&amp;tbnw=150&amp;usg=AI4_-kT7YPnACPCcjYF2xFRkSM2yvZB1UA&amp;vet=1&amp;docid=pkJ2HvxZmlu3XM&amp;hl=ko&amp;sa=X&amp;ved=2ahUKEwijt76qjZv5AhXUKaYKHfk7C-IQ9QF6BAgLEAg\"><div><img class=\"WddBJd\" style=\"max-width:none;height:128px;max-height:128px\" alt=\"cdn.inflearn.com/public/courses/328050/cover/97270...\" src=\"data:image/gif;base64,R0lGODlhAQABAIAAAP///////yH5BAEKAAEALAAAAAABAAEAAAICTAEAOw==\" id=\"dimg_23\" data-deferred=\"1\"></div></a><a class=\"BVG0Nb\" href=\"/imgres?imgurl=https://s3.ap-northeast-2.amazonaws.com/grepp-cloudfront/programmers_imgs/learn/thumb-course-phthon-basic.jpg&amp;imgrefurl=https://school.programmers.co.kr/learn/courses/2/lessons/48&amp;h=440&amp;w=680&amp;tbnid=e9WQoajkZCQmtM&amp;q=%ED%8C%8C%EC%9D%B4%EC%8D%AC&amp;tbnh=90&amp;tbnw=139&amp;usg=AI4_-kSTsFMF7x5eDRK-1GuroO_aX9H3Dw&amp;vet=1&amp;docid=Dz_wlphhPEZajM&amp;hl=ko&amp;sa=X&amp;ved=2ahUKEwijt76qjZv5AhXUKaYKHfk7C-IQ9QF6BAgLEAo\"><div><img class=\"WddBJd\" style=\"max-width:none;height:128px;max-height:128px\" alt=\"s3.ap-northeast-2.amazonaws.com/grepp-cloudfront/p...\" src=\"data:image/gif;base64,R0lGODlhAQABAIAAAP///////yH5BAEKAAEALAAAAAABAAEAAAICTAEAOw==\" id=\"dimg_25\" data-deferred=\"1\"></div></a><div class=\"mHhylf\"><div class=\"WZ5GJf\"><a class=\"qN9Ked\" href=\"https://www.google.com/search?hl=ko&amp;gl=KR&amp;ie=UTF-8&amp;ei=ikDiYqPKF9TTmAX596yQDg&amp;q=%ED%8C%8C%EC%9D%B4%EC%8D%AC&amp;tbm=isch&amp;sa=X&amp;ved=2ahUKEwijt76qjZv5AhXUKaYKHfk7C-IQ7Al6BAgLEAw\"><button class=\"DXk5Me Qi9Fd\" tabindex=\"-1\"><span class=\"hWHuJ\"><img class=\"Dk7jOe\" alt=\"\" src=\"data:image/gif;base64,R0lGODlhAQABAIAAAP///////yH5BAEKAAEALAAAAAABAAEAAAICTAEAOw==\" style=\"max-width:24px;max-height:24px\" id=\"dimg_31\" data-deferred=\"1\"></span></button><div class=\"BNeawe ji5jpf tAd8D AP7Wnd\">모두 보기</div></a></div></div></div></div></div></div></div><div class=\"xpc\"><div><div class=\"Q0HXG\"></div><div class=\"kCrYT\"><div><div class=\"BNeawe s3v9rd AP7Wnd\"><div><div class=\"BNeawe s3v9rd AP7Wnd\">파이썬은 1991년 네덜란드계 프로그래머인 귀도 반 로섬이 발표한 고급 프로그래밍 언어로, 플랫폼에 독립적이며 인터프리터식, 객체지향적, 동적 타이핑 대화형 언어이다. 파이썬이라는 이름은 귀도가 좋아하는 코미디인〈Monty Python\\'s Flying Circus〉에서 따온 것이다. <span class=\"BNeawe\"><a href=\"/url?q=https://ko.wikipedia.org/wiki/%25ED%258C%258C%25EC%259D%25B4%25EC%258D%25AC&amp;sa=U&amp;ved=2ahUKEwijt76qjZv5AhXUKaYKHfk7C-IQmhN6BAgLEA4&amp;usg=AOvVaw0V-4DeL9l72-9dL2qB39of\"><span class=\"XLloXe AP7Wnd\">위키백과</span></a></span></div></div></div></div></div><div class=\"vbShOe kCrYT\"><div class=\"AVsepf\"><div class=\"BNeawe s3v9rd AP7Wnd\"><span><span class=\"BNeawe s3v9rd AP7Wnd\">개발자</span></span>: <span><span class=\"BNeawe tAd8D AP7Wnd\">파이썬 소프트웨어 재단</span></span></div></div><div class=\"AVsepf\"><div class=\"BNeawe s3v9rd AP7Wnd\"><span><span class=\"BNeawe s3v9rd AP7Wnd\">발표일</span></span>: <span><span class=\"BNeawe tAd8D AP7Wnd\"><span class=\"BNeawe\"><a href=\"/search?hl=ko&amp;gl=KR&amp;ie=UTF-8&amp;q=1991%EB%85%84&amp;stick=H4sIAAAAAAAAAOPgE-LQz9U3MK0yjFfi1U_XNzRMMjdPMUsyM9cSKy620i9PTUpLTC4ptnq9Yc7biXPezN2ziJXd0NLS8HVrCwAzoKC8PQAAAA&amp;sa=X&amp;ved=2ahUKEwijt76qjZv5AhXUKaYKHfk7C-IQmxN6BAgLEBE\"><span class=\"XLloXe AP7Wnd\">1991년</span></a></span> 2월 20일</span></span></div></div><div class=\"AVsepf\"><div class=\"BNeawe s3v9rd AP7Wnd\"><span><span class=\"BNeawe s3v9rd AP7Wnd\">최근 버전</span></span>: <span><span class=\"BNeawe tAd8D AP7Wnd\">3.10.5</span></span></div></div><div class=\"AVsepf\"><div class=\"BNeawe s3v9rd AP7Wnd\"><span><span class=\"BNeawe s3v9rd AP7Wnd\">파일 확장자</span></span>: <span><span class=\"BNeawe tAd8D AP7Wnd\">py,.pyc,.pyd,.pyo</span></span></div></div><div class=\"AVsepf u2x1Od hwc\"><div class=\"BNeawe s3v9rd AP7Wnd\"><span><span class=\"BNeawe s3v9rd AP7Wnd\">패러다임</span></span>: <span><span class=\"BNeawe tAd8D AP7Wnd\">프로그래밍 패러다임: 객체 지향 프로그래밍, 명령형 프로그래밍, 함수형 프로그래밍, 절차적 프로그래밍, 반영</span></span></div></div></div><hr></div><div class=\"duf-h\"><div class=\"fLtXsc iIWm4b\" aria-expanded=\"false\" id=\"tsuid2\" style=\"text-align:center\" role=\"button\" tabindex=\"0\"><div class=\"Lym8W\"><div class=\"AeQQub hwc\"></div><div class=\"YCU7eb hwc\"></div><div class=\"IyYaEd hwx\"></div><div class=\"ECUHQe hwx\"></div></div></div></div></div></div></div><div><div class=\"Gx5Zad fP1Qef xpd EtOod pkphOe\"><div class=\"egMi0 kCrYT\"><a href=\"/url?q=https://docs.python.org/ko/3/tutorial/index.html&amp;sa=U&amp;ved=2ahUKEwijt76qjZv5AhXUKaYKHfk7C-IQFnoECAcQAg&amp;usg=AOvVaw1OTWFCEetyo9yuRW_pnlfw\"><h3 class=\"zBAuLc l97dzf\"><div class=\"BNeawe vvjwJb AP7Wnd\">파이썬 자습서 &#8212; Python 3.10.5 문서</div></h3><div class=\"BNeawe UPmit AP7Wnd\">docs.python.org &#8250; tutorial</div></a></div><div class=\"kCrYT\"><div><div class=\"BNeawe s3v9rd AP7Wnd\"><div><div class=\"v9i61e\"><div class=\"BNeawe s3v9rd AP7Wnd\">파이썬 자습서¶. 파이썬은 배우기 쉽고, 강력한 프로그래밍 언어입니다. 효율적인 자료 구조들과 객체 지향 프로그래밍에 대해 간단하고도 효과적인 접근법을 제공&#160;...</div></div><div><div class=\"BNeawe s3v9rd AP7Wnd\"><span class=\"BNeawe\"><a href=\"/url?q=https://docs.python.org/ko/3/tutorial/interpreter.html&amp;sa=U&amp;ved=2ahUKEwijt76qjZv5AhXUKaYKHfk7C-IQ0gJ6BAgHEAU&amp;usg=AOvVaw0Y_eS_af6CixyWNbCrSlwL\"><span class=\"XLloXe AP7Wnd\">2. 파이썬 인터프리터 사용하기</span></a></span> · <span class=\"BNeawe\"><a href=\"/url?q=https://docs.python.org/ko/3/tutorial/controlflow.html&amp;sa=U&amp;ved=2ahUKEwijt76qjZv5AhXUKaYKHfk7C-IQ0gJ6BAgHEAY&amp;usg=AOvVaw0JIxYClAR_97l7oWv1zGlT\"><span class=\"XLloXe AP7Wnd\">4. 기타 제어 흐름 도구</span></a></span> · <span class=\"BNeawe\"><a href=\"/url?q=https://docs.python.org/ko/3/tutorial/datastructures.html&amp;sa=U&amp;ved=2ahUKEwijt76qjZv5AhXUKaYKHfk7C-IQ0gJ6BAgHEAc&amp;usg=AOvVaw14NigcO2dqnJwd2sB-TAZ4\"><span class=\"XLloXe AP7Wnd\">5. 자료 구조</span></a></span> · <span class=\"BNeawe\"><a href=\"/url?q=https://docs.python.org/ko/3/tutorial/modules.html&amp;sa=U&amp;ved=2ahUKEwijt76qjZv5AhXUKaYKHfk7C-IQ0gJ6BAgHEAg&amp;usg=AOvVaw15WqbRcrxrz8XA-MZftvM_\"><span class=\"XLloXe AP7Wnd\">6. 모듈</span></a></span></div></div></div></div></div></div></div></div><div><div class=\"Gx5Zad fP1Qef xpd EtOod pkphOe\"><div class=\"egMi0 kCrYT\"><a href=\"/url?q=https://namu.wiki/w/Python&amp;sa=U&amp;ved=2ahUKEwijt76qjZv5AhXUKaYKHfk7C-IQFnoECAkQAg&amp;usg=AOvVaw0gg7_9pvSqA7iM9y2oRkrS\"><h3 class=\"zBAuLc l97dzf\"><div class=\"BNeawe vvjwJb AP7Wnd\">Python - 나무위키:대문</div></h3><div class=\"BNeawe UPmit AP7Wnd\">namu.wiki &#8250; Python</div></a></div><div class=\"kCrYT\"><div><div class=\"BNeawe s3v9rd AP7Wnd\"><div><div class=\"v9i61e\"><div class=\"BNeawe s3v9rd AP7Wnd\"><span class=\"r0bn4c rQMQod\">6일 전</span><span class=\"r0bn4c rQMQod\"> · </span>파이썬은 파이썬 소프트웨어 재단에서 만들고 관리하는 언어로서 이를 각 운영체제에서 돌리기 위한 표준 런타임도 같은 단체에서 제작한다. 그러나 성능,&#160;...</div></div><div class=\"v9i61e\"><div class=\"BNeawe s3v9rd AP7Wnd\"><span class=\"BNeawe\"><a href=\"/url?q=https://namu.wiki/w/Python/%25EB%25AC%25B8%25EB%25B2%2595&amp;sa=U&amp;ved=2ahUKEwijt76qjZv5AhXUKaYKHfk7C-IQ0gJ6BAgJEAY&amp;usg=AOvVaw3Mx1z-UpFJSu2tjJjDrYEI\"><span class=\"XLloXe AP7Wnd\">Python/문법</span></a></span> · <span class=\"BNeawe\"><a href=\"/url?q=https://namu.wiki/w/%25ED%258C%258C%25EC%259D%25B4%25EC%2584%25A0&amp;sa=U&amp;ved=2ahUKEwijt76qjZv5AhXUKaYKHfk7C-IQ0gJ6BAgJEAc&amp;usg=AOvVaw0PCZEnHT9I8R5QNBzywvu2\"><span class=\"XLloXe AP7Wnd\">파이선</span></a></span> · <span class=\"BNeawe\"><a href=\"/url?q=https://namu.wiki/w/%25EC%259D%25B8%25ED%2584%25B0%25ED%2594%2584%25EB%25A6%25AC%25ED%2584%25B0&amp;sa=U&amp;ved=2ahUKEwijt76qjZv5AhXUKaYKHfk7C-IQ0gJ6BAgJEAg&amp;usg=AOvVaw0VHYCyZ6ftqL-Hzuxu_3ZE\"><span class=\"XLloXe AP7Wnd\">인터프리터</span></a></span> · <span class=\"BNeawe\"><a href=\"/url?q=https://namu.wiki/w/Dropbox&amp;sa=U&amp;ved=2ahUKEwijt76qjZv5AhXUKaYKHfk7C-IQ0gJ6BAgJEAk&amp;usg=AOvVaw007nZT2L7hLwimMgMvwSBc\"><span class=\"XLloXe AP7Wnd\">Dropbox</span></a></span></div></div><div><div class=\"BNeawe s3v9rd AP7Wnd\">개발 단체: <span class=\"r0bn4c rQMQod\">파이썬 소프트웨어 재단 (PSF)</span><br>최신 버전: <span class=\"r0bn4c rQMQod\">3.10.5 (2022년 6월 6일 출시)</span><br>라이선스: <span class=\"r0bn4c rQMQod\">PSF 라이선스</span></div></div></div></div></div></div></div></div><div><div class=\"Gx5Zad fP1Qef xpd EtOod pkphOe\"><div class=\"egMi0 kCrYT\"><a href=\"/url?q=https://wikidocs.net/43&amp;sa=U&amp;ved=2ahUKEwijt76qjZv5AhXUKaYKHfk7C-IQFnoECAEQAg&amp;usg=AOvVaw0yacQNYPlBrOYBjIZlbDNx\"><h3 class=\"zBAuLc l97dzf\"><div class=\"BNeawe vvjwJb AP7Wnd\">1. 파이썬 시작하기 - 왕초보를 위한 Python - 위키독스</div></h3><div class=\"BNeawe UPmit AP7Wnd\">wikidocs.net &#8250; ...</div></a></div><div class=\"kCrYT\"><div><div class=\"BNeawe s3v9rd AP7Wnd\"><div><div class=\"v9i61e\"><div class=\"BNeawe s3v9rd AP7Wnd\">우리가 앞으로 배울 파이썬 언어는, 배우기 쉬우면서도 프로그램을 빨리 개발할 수 있고, 기능도 뛰어나답니다. 이 강좌는 프로그래밍을 처음 하는 분들을 위해서 파이썬을&#160;...</div></div><div><div class=\"BNeawe s3v9rd AP7Wnd\"><span class=\"BNeawe\"><a href=\"/url?q=https://wikidocs.net/51&amp;sa=U&amp;ved=2ahUKEwijt76qjZv5AhXUKaYKHfk7C-IQ0gJ6BAgBEAU&amp;usg=AOvVaw1Uza5hA6EekER_X0hdbJOm\"><span class=\"XLloXe AP7Wnd\">1.1 파이썬 맛보기</span></a></span> · <span class=\"BNeawe\"><a href=\"/url?q=https://wikidocs.net/54&amp;sa=U&amp;ved=2ahUKEwijt76qjZv5AhXUKaYKHfk7C-IQ0gJ6BAgBEAY&amp;usg=AOvVaw2iEX_SlM_4QSQDvXsVgnK3\"><span class=\"XLloXe AP7Wnd\">1.6 파이썬 인터프리터</span></a></span> · <span class=\"BNeawe\"><a href=\"/url?q=https://wikidocs.net/44&amp;sa=U&amp;ved=2ahUKEwijt76qjZv5AhXUKaYKHfk7C-IQ0gJ6BAgBEAc&amp;usg=AOvVaw2RaCiH8noZZwN_Udl3Ahug\"><span class=\"XLloXe AP7Wnd\">1.5 파이썬 설치와 실행</span></a></span> · <span class=\"BNeawe\"><a href=\"/url?q=https://wikidocs.net/52&amp;sa=U&amp;ved=2ahUKEwijt76qjZv5AhXUKaYKHfk7C-IQ0gJ6BAgBEAg&amp;usg=AOvVaw2pl59OK990FifZDCoyZw4x\"><span class=\"XLloXe AP7Wnd\">1.2 변수</span></a></span></div></div></div></div></div></div></div></div><div><div class=\"Gx5Zad xpd EtOod pkphOe\"><div class=\"kCrYT\"><div class=\"q4vBJc\"></div><span><h2 class=\"zBAuLc l97dzf\"><div class=\"BNeawe deIvCb AP7Wnd\"><span class=\"FCUp0c rQMQod\">주요 뉴스</span></div></h2></span></div><div class=\"Q0HXG\"></div><div class=\"X7NTVe\"><a class=\"tHmfQe\" href=\"/url?q=https://yozm.wishket.com/magazine/detail/1608/&amp;sa=U&amp;ved=2ahUKEwijt76qjZv5AhXUKaYKHfk7C-IQqOcBegQIABAC&amp;usg=AOvVaw0J3sM-4njdGd2q7qbVZ1dX\"><div class=\"am3QBf\"><div><span><h3 class=\"zBAuLc l97dzf\"><div class=\"BNeawe deIvCb AP7Wnd\"><span class=\"rQMQod Xb5VRe\">“파이썬은 느리다”에 대한 반론 | 요즘IT</span></div></h3></span><span><div class=\"BNeawe tAd8D AP7Wnd\"><span class=\"rQMQod aJyiOc\">요즘IT</span> · <span class=\"r0bn4c rQMQod\">1일 전</span></div></span></div></div></a></div></div></div><div><div class=\"Gx5Zad fP1Qef xpd EtOod pkphOe\"><div class=\"egMi0 kCrYT\"><a href=\"/url?q=https://ko.wikipedia.org/wiki/%25ED%258C%258C%25EC%259D%25B4%25EC%258D%25AC&amp;sa=U&amp;ved=2ahUKEwijt76qjZv5AhXUKaYKHfk7C-IQFnoECAgQAg&amp;usg=AOvVaw1lrGKUDCxNONut2s2B_wIA\"><h3 class=\"zBAuLc l97dzf\"><div class=\"BNeawe vvjwJb AP7Wnd\">파이썬 - 위키백과, 우리 모두의 백과사전</div></h3><div class=\"BNeawe UPmit AP7Wnd\">ko.wikipedia.org &#8250; wiki &#8250; 파이썬</div></a></div><div class=\"kCrYT\"><div><div class=\"BNeawe s3v9rd AP7Wnd\"><div><div class=\"v9i61e\"><div class=\"BNeawe s3v9rd AP7Wnd\">파이썬(영어: Python)은 1991년 네덜란드계 프로그래머인 귀도 반 로섬이 발표한 고급 프로그래밍 언어로, 플랫폼에 독립적이며 인터프리터식, 객체지향적,&#160;...</div></div><div><div class=\"BNeawe s3v9rd AP7Wnd\">최근 버전 출시일: <span class=\"r0bn4c rQMQod\">2022년 6월 6일</span><br>라이선스: <span class=\"r0bn4c rQMQod\">파이썬 소프트웨어 재단 라이선스</span><br>웹사이트: <span class=\"r0bn4c rQMQod\">www.python.org</span><br>개발자: <span class=\"BNeawe\"><a href=\"/url?q=http://ko.wikipedia.org/wiki/%25ED%258C%258C%25EC%259D%25B4%25EC%258D%25AC_%25EC%2586%258C%25ED%2594%2584%25ED%258A%25B8%25EC%259B%25A8%25EC%2596%25B4_%25EC%259E%25AC%25EB%258B%25A8&amp;sa=U&amp;ved=2ahUKEwijt76qjZv5AhXUKaYKHfk7C-IQs2Z6BAgIEAk&amp;usg=AOvVaw0MHbq68eWCeQxrMRi-rPPU\"><span class=\"XLloXe AP7Wnd\">파이썬 소프트웨어 재단</span></a></span></div></div></div></div></div></div></div></div><div><div class=\"Gx5Zad fP1Qef xpd EtOod pkphOe\"><div class=\"egMi0 kCrYT\"><a href=\"/url?q=https://library.gabia.com/contents/9256/&amp;sa=U&amp;ved=2ahUKEwijt76qjZv5AhXUKaYKHfk7C-IQFnoECAMQAg&amp;usg=AOvVaw2sp4QEVTDvhRg93NgeL_Eq\"><h3 class=\"zBAuLc l97dzf\"><div class=\"BNeawe vvjwJb AP7Wnd\">파이썬(Python) 바로 알기 &#8211; 특징, 장점, 활용 사례 | 가비아 라이브러리</div></h3><div class=\"BNeawe UPmit AP7Wnd\">library.gabia.com &#8250; contents</div></a></div><div class=\"kCrYT\"><div><div class=\"BNeawe s3v9rd AP7Wnd\"><div><div><div class=\"BNeawe s3v9rd AP7Wnd\">Python(이하 파이썬)은 직관적이고 간결한 문법으로, 프로그래머들은 물론 비전공자들 사이에서도 최근 가장 주목받는 언어입니다. 간단한 유틸리티 제작을 넘어 웹&#160;...</div></div></div></div></div></div></div></div><div><div class=\"Gx5Zad fP1Qef xpd EtOod pkphOe\"><div class=\"egMi0 kCrYT\"><a href=\"/url?q=https://school.programmers.co.kr/learn/courses/2/lessons/48&amp;sa=U&amp;ved=2ahUKEwijt76qjZv5AhXUKaYKHfk7C-IQFnoECAYQAg&amp;usg=AOvVaw2NAzL5i1SxQq9TzKNGWukX\"><h3 class=\"zBAuLc l97dzf\"><div class=\"BNeawe vvjwJb AP7Wnd\">Python 설치 - 파이썬 입문 - 프로그래머스 스쿨</div></h3><div class=\"BNeawe UPmit AP7Wnd\">school.programmers.co.kr &#8250; learn &#8250; courses &#8250; lessons</div></a></div><div class=\"kCrYT\"><div><div class=\"BNeawe s3v9rd AP7Wnd\"><div><div><div class=\"BNeawe s3v9rd AP7Wnd\">Windows · 윈도우키 + R을 눌러서 나오는 창에 powershell이라고 치고, 확인을 눌러서 powershell실행 · powershell화면에서 python이라고 입력해서 오류가 나오지 않으면&#160;...</div></div></div></div></div></div></div></div><div><div class=\"Gx5Zad fP1Qef xpd EtOod pkphOe\"><div class=\"egMi0 kCrYT\"><a href=\"/url?q=https://codingapple.com/course/python-basic/&amp;sa=U&amp;ved=2ahUKEwijt76qjZv5AhXUKaYKHfk7C-IQFnoECAIQAg&amp;usg=AOvVaw2MT1ttES62Kp_aXUxLdlW4\"><h3 class=\"zBAuLc l97dzf\"><div class=\"BNeawe vvjwJb AP7Wnd\">빠르게 정리하는 파이썬 기초 문법 - 코딩애플 온라인 강좌</div></h3><div class=\"BNeawe UPmit AP7Wnd\">codingapple.com &#8250; course &#8250; python-basic</div></a></div><div class=\"kCrYT\"><div><div class=\"BNeawe s3v9rd AP7Wnd\"><div><div><div class=\"BNeawe s3v9rd AP7Wnd\">누구보다 빠르게 배우는 파이썬 기초 문법강의를 준비했습니다. 빠르게 30분만에 취미 개발자들을 위한 기초 파이썬 문법 내용을 짧게 정리해드립니다.</div></div></div></div></div></div></div></div><div><div class=\"Gx5Zad fP1Qef xpd EtOod pkphOe\"><div class=\"egMi0 kCrYT\"><a href=\"/url?q=https://www.youtube.com/watch%3Fv%3DKL1MIuBfWe0&amp;sa=U&amp;ved=2ahUKEwijt76qjZv5AhXUKaYKHfk7C-IQtwJ6BAgKEAE&amp;usg=AOvVaw37CsTmzUGJ8wUXN66aSukJ\"><h3 class=\"zBAuLc l97dzf\"><div class=\"BNeawe vvjwJb AP7Wnd\">최신 파이썬 코딩 무료 강의 - 5시간만 투자하면 개발자가 됩니다</div></h3><div class=\"BNeawe UPmit AP7Wnd\">www.youtube.com &#8250; watch</div></a></div><div class=\"kCrYT\"><a href=\"/url?q=https://www.youtube.com/watch%3Fv%3DKL1MIuBfWe0&amp;sa=U&amp;ved=2ahUKEwijt76qjZv5AhXUKaYKHfk7C-IQuAJ6BAgKEAI&amp;usg=AOvVaw12XpBkORIKbrTOLLeKGqlE\"><div class=\"lcJF1d Q6Xouf G6SP0b eeoFaf\"><div style=\"width:120px;height:67px;position:static\"><img class=\"h1hFNe\" alt=\"파이썬 동영상\" src=\"data:image/gif;base64,R0lGODlhAQABAIAAAP///////yH5BAEKAAEALAAAAAABAAEAAAICTAEAOw==\" style=\"width:120px;height:67px\" id=\"dimg_13\" data-deferred=\"1\"></div><div class=\"S9HcI oz9fhd\"></div><div class=\"S9HcI UhWgBb\" style=\"background-size:36px\"></div></div></a><div><div class=\"BNeawe s3v9rd AP7Wnd\"><div><div><div class=\"BNeawe s3v9rd AP7Wnd\"><span class=\"r0bn4c rQMQod\">2022. 1. 14.</span><span class=\"r0bn4c rQMQod\"> · </span>파이썬 코딩 무료 기초 강의입니다. 파이썬 분야 베스트셀러 1위 \\'점프 투 파이썬\\'의 내용을 중심으로 강의가 진행되며 ...<br>기간: <span class=\"r0bn4c rQMQod\">4:46:24</span><br>게시: <span class=\"r0bn4c rQMQod\">2022. 1. 14.</span></div></div></div></div></div><div class=\"rl7ilb\"></div></div></div></div><div><div class=\"Gx5Zad fP1Qef xpd EtOod pkphOe\"><div class=\"egMi0 kCrYT\"><a href=\"/url?q=https://www.edwith.org/pythonforeverybody&amp;sa=U&amp;ved=2ahUKEwijt76qjZv5AhXUKaYKHfk7C-IQFnoECAQQAg&amp;usg=AOvVaw3YTA2MgbwGWQE9dpmSvCyx\"><h3 class=\"zBAuLc l97dzf\"><div class=\"BNeawe vvjwJb AP7Wnd\">모두를 위한 프로그래밍 : 파이썬 강좌소개 - edwith</div></h3><div class=\"BNeawe UPmit AP7Wnd\">www.edwith.org &#8250; pythonforeverybody</div></a></div><div class=\"kCrYT\"><div><div class=\"BNeawe s3v9rd AP7Wnd\"><div><div><div class=\"BNeawe s3v9rd AP7Wnd\">커넥트재단은 \\'커넥트 번역 서포터즈\\'와 함께 Python for Everybody 강의를 번역하여 제공합니다. 퀴즈를 제외한 모든 강의의 저작권은 Charles Severance 교수님에게&#160;...</div></div></div></div></div></div></div></div><div><div class=\"Gx5Zad xpd EtOod pkphOe\"><div class=\"K8tyEc\"><div class=\"mEUgP\"><span><div class=\"BNeawe\">관련 검색어</div></span></div></div><div class=\"x54gtf\"></div><div><div><div class=\"xpx\"><div class=\"duf-h\"><div class=\"fLtXsc iIWm4b\" aria-expanded=\"true\" id=\"tsuid1\" role=\"button\" tabindex=\"0\" data-ved=\"2ahUKEwijt76qjZv5AhXUKaYKHfk7C-IQ3aYDegQIBRAC\"><div class=\"NtmAdb\"><div class=\"Q6Xouf G6SP0b\"><div style=\"width:40px;height:40px;position:static\"><img class=\"h1hFNe\" alt=\"\" src=\"data:image/gif;base64,R0lGODlhAQABAIAAAP///////yH5BAEKAAEALAAAAAABAAEAAAICTAEAOw==\" style=\"width:40px;height:60px\" id=\"dimg_1\" data-deferred=\"1\"></div></div></div><div class=\"Lt3Tzc\">파이썬 책</div><div class=\"Lym8W xCgLUe\"><div class=\"AeQQub hwc\"></div><div class=\"YCU7eb hwc\"></div><div class=\"IyYaEd hwx\"></div><div class=\"ECUHQe hwx\"></div></div></div></div><div><div style=\"padding-bottom:12px\" class=\"hwc\"><div class=\"AzWLW\"><div class=\"Gx5Zad xpd EtOod pkphOe\"><div class=\"FybcKc\"><div><div><div class=\"Xdlr0d\"><div class=\"idg8be\"><a class=\"BVG0Nb\" href=\"/search?hl=ko&amp;gl=KR&amp;ie=UTF-8&amp;q=Do+it!+%EC%A0%90%ED%94%84+%ED%88%AC+%ED%8C%8C%EC%9D%B4%EC%8D%AC&amp;stick=H4sIAAAAAAAAAOOQUeLVT9c3NEwuLkqryiovMeJ929PzZu6WN71rFN5sbI3ihHNPMaKqhPEzDNKLs4xKLGD8rOzKKpMiY7NTjDxgvnFVcWV8ObJ0pZF5RQaMn22QV1ReaFAF4-eWlVRZJqVnQ7UbFVia5KSbZ_9iRHVYAwvjIlZpl3yFzBJFhTcLJryd0qLwtmONAlzRLTZJBq2pVVyScW6-7z22f99wh7Fz3_55Suc8F_AAAOvZbEL2AAAA&amp;sa=X&amp;ved=2ahUKEwijt76qjZv5AhXUKaYKHfk7C-IQs9oBegQIBRAF\"><div><div style=\"width:112px\"><div class=\"l7d08\" style=\"width:112px;height:168px\"><img class=\"h1hFNe\" alt=\"\" src=\"data:image/gif;base64,R0lGODlhAQABAIAAAP///////yH5BAEKAAEALAAAAAABAAEAAAICTAEAOw==\" style=\"max-width:112px;max-height:168px\" id=\"dimg_3\" data-deferred=\"1\"></div><div class=\"RWuggc kCrYT\"><div><div class=\"BNeawe s3v9rd AP7Wnd\">Do it! 점프 투 파이...</div></div></div></div></div></a><a class=\"BVG0Nb\" href=\"/search?hl=ko&amp;gl=KR&amp;ie=UTF-8&amp;q=%ED%8C%8C%EC%9D%B4%EC%8D%AC+%EC%BD%94%EB%94%A9%EC%9D%98+%EA%B8%B0%EC%88%A0&amp;stick=H4sIAAAAAAAAAOOQUeLVT9c3NMwwSC_OMiqxMOJ929PzZu6WN71rFN5sbI3ihHNPMUJUJhcXpVVllZfA-DCdMH5WdmWVSZGx2SlGHjDfuKq4Mr4cWbrSyLwiA8bPNsgrKi80qILxc8tKqiyT0rOh2o0KLE1y0s2zfzGiOqyBhXERqxSS0N4pr6esfDN3hsKrHRvedCy4xSbJoDW1iksyzs33vcf27xvuMHbu2z9P6ZznAh4ATZRb2fUAAAA&amp;sa=X&amp;ved=2ahUKEwijt76qjZv5AhXUKaYKHfk7C-IQs9oBegQIBRAG\"><div><div style=\"width:112px\"><div class=\"l7d08\" style=\"width:112px;height:168px\"><img class=\"h1hFNe\" alt=\"\" src=\"data:image/gif;base64,R0lGODlhAQABAIAAAP///////yH5BAEKAAEALAAAAAABAAEAAAICTAEAOw==\" style=\"max-width:112px;max-height:168px\" id=\"dimg_5\" data-deferred=\"1\"></div><div class=\"RWuggc kCrYT\"><div><div class=\"BNeawe s3v9rd AP7Wnd\">파이썬 코딩의 기...</div></div></div></div></div></a><a class=\"BVG0Nb\" href=\"/search?hl=ko&amp;gl=KR&amp;ie=UTF-8&amp;q=%ED%8C%8C%EC%9D%B4%EC%8D%AC+%ED%81%B4%EB%A6%B0+%EC%BD%94%EB%93%9C&amp;stick=H4sIAAAAAAAAAOOQUeLVT9c3NMzKrqwyKTI2M-J929PzZu6WN71rFN5sbI3ihHNPMUJUJhcXpVVllZfA-BkG6cVZRiUWMD7MpFOMPGC-cVVxZXw5snSlkXlFBoyfbZBXVF5oUAXj55aVVFkmpWdDtRsVWJrkpJtn_2JEdVgDC-MiVnGE0NvGLa-XbVB4s3fK68lzbrFJMmhNreKSjHPzfe-x_fuGO4yd-_bPUzrnuYAHAO26xQHyAAAA&amp;sa=X&amp;ved=2ahUKEwijt76qjZv5AhXUKaYKHfk7C-IQs9oBegQIBRAH\"><div><div style=\"width:112px\"><div class=\"l7d08\" style=\"width:112px;height:168px\"><img class=\"h1hFNe\" alt=\"\" src=\"data:image/gif;base64,R0lGODlhAQABAIAAAP///////yH5BAEKAAEALAAAAAABAAEAAAICTAEAOw==\" style=\"max-width:112px;max-height:168px\" id=\"dimg_7\" data-deferred=\"1\"></div><div class=\"RWuggc kCrYT\"><div><div class=\"BNeawe s3v9rd AP7Wnd\">파이썬 클린 코드</div></div></div></div></div></a><a class=\"BVG0Nb\" href=\"/search?hl=ko&amp;gl=KR&amp;ie=UTF-8&amp;q=%EC%A0%90%ED%94%84+%ED%88%AC+%ED%8C%8C%EC%9D%B4%EC%8D%AC&amp;stick=H4sIAAAAAAAAAOOQUeLRT9c3NDSuKq6ML7cw4n3b0_Nm7pY3vWsU3mxsjeKEc08x8oIVJhcXpVVllZfA-BkG6cVZRiUWMH5WdmWVSZGx2SlGFIORpCuNzCsyYPxsg7yi8kKDKhg_t6ykyjIpPRuq3ajA0iQn3Tz7FyOqwxpYGBexirxZMOHtlBaFtx1rFOCyt9gkGbSmVnFJxrn5vvfY_n3DHcbOffvnKZ3zXMADAD2COljuAAAA&amp;sa=X&amp;ved=2ahUKEwijt76qjZv5AhXUKaYKHfk7C-IQs9oBegQIBRAI\"><div><div style=\"width:112px\"><div class=\"l7d08\" style=\"width:112px;height:168px\"><img class=\"h1hFNe\" alt=\"\" src=\"data:image/gif;base64,R0lGODlhAQABAIAAAP///////yH5BAEKAAEALAAAAAABAAEAAAICTAEAOw==\" style=\"max-width:112px;max-height:168px\" id=\"dimg_9\" data-deferred=\"1\"></div><div class=\"RWuggc kCrYT\"><div><div class=\"BNeawe s3v9rd AP7Wnd\">점프 투 파이썬</div></div></div></div></div></a><div class=\"mHhylf\"><div class=\"WZ5GJf\"><a class=\"qN9Ked\" href=\"/search?hl=ko&amp;gl=KR&amp;ie=UTF-8&amp;q=%ED%8C%8C%EC%9D%B4%EC%8D%AC+%EC%B1%85&amp;stick=H4sIAAAAAAAAAOOQMeJ929PzZu6WN71rFN5sbI3ihHNPMfLqp-sbGiYXF6VVZZWXwPgZBunFWUYlFjB-VnZllUmRsdkpRh4w37iquDK-HFm60si8IgPGzzbIKyovNKiC8XPLSqosk9KzodqNCixNctLNs38xojqsgYVxESuq0C02SQatqVVcknFuvu89tn_fcIexc9_-eUrnPBfwAACETFxg2QAAAA&amp;sa=X&amp;ved=2ahUKEwijt76qjZv5AhXUKaYKHfk7C-IQzO0BegQIBRAJ\"><button class=\"DXk5Me Qi9Fd\" tabindex=\"-1\"><span class=\"hWHuJ\"><img class=\"Dk7jOe\" alt=\"\" src=\"data:image/gif;base64,R0lGODlhAQABAIAAAP///////yH5BAEKAAEALAAAAAABAAEAAAICTAEAOw==\" style=\"max-width:24px;max-height:24px\" id=\"dimg_11\" data-deferred=\"1\"></span></button><div class=\"BNeawe ji5jpf tAd8D AP7Wnd\">결과 더보기</div></a></div></div></div></div></div></div></div></div></div><div><div class=\"P1NWSe\"><div class=\"wOMIed nkPlDb\"><span class=\"JhFlyf VQFmSd\"><a class=\"f4J0H MHODM\" href=\"/search?hl=ko&amp;gl=KR&amp;ie=UTF-8&amp;q=%ED%8C%8C%EC%9D%B4%EC%8D%AC+%EC%B1%85&amp;sa=X&amp;ved=2ahUKEwijt76qjZv5AhXUKaYKHfk7C-IQ4qYDegQIBRAK\">파이썬 책</a></span></div></div></div></div></div></div></div></div><div class=\"x54gtf\"></div><div><div class=\"gGQDvd iIWm4b\"><a class=\"Q71vJc\" href=\"/search?hl=ko&amp;gl=KR&amp;ie=UTF-8&amp;q=%ED%8C%8C%EC%9D%B4%EC%8D%AC+%EB%8B%A4%EC%9A%B4%EB%A1%9C%EB%93%9C&amp;sa=X&amp;ved=2ahUKEwijt76qjZv5AhXUKaYKHfk7C-IQ1QJ6BAgFEAw\"><accordion-entry-search-icon><span class=\"ieB2Dd\"><img class=\"OEaqif\" alt=\"\" src=\"data:image/gif;base64,R0lGODlhAQABAIAAAP///////yH5BAEKAAEALAAAAAABAAEAAAICTAEAOw==\" style=\"max-width:20px;max-height:20px\" id=\"dimg_17\" data-deferred=\"1\"></span></accordion-entry-search-icon><div class=\"kjGX2\"><span><div class=\"BNeawe s3v9rd AP7Wnd lRVwie\">파이썬 다운로드</div></span></div></a></div></div><div class=\"x54gtf\"></div><div><div class=\"gGQDvd iIWm4b\"><a class=\"Q71vJc\" href=\"/search?hl=ko&amp;gl=KR&amp;ie=UTF-8&amp;q=%ED%8C%8C%EC%9D%B4%EC%8D%AC+//+%EC%97%B0%EC%82%B0%EC%9E%90&amp;sa=X&amp;ved=2ahUKEwijt76qjZv5AhXUKaYKHfk7C-IQ1QJ6BAgFEA4\"><accordion-entry-search-icon><span class=\"ieB2Dd\"><img class=\"OEaqif\" alt=\"\" src=\"data:image/gif;base64,R0lGODlhAQABAIAAAP///////yH5BAEKAAEALAAAAAABAAEAAAICTAEAOw==\" style=\"max-width:20px;max-height:20px\" id=\"dimg_21\" data-deferred=\"1\"></span></accordion-entry-search-icon><div class=\"kjGX2\"><span><div class=\"BNeawe s3v9rd AP7Wnd lRVwie\">파이썬 // 연산자</div></span></div></a></div></div><div class=\"x54gtf\"></div><div><div class=\"gGQDvd iIWm4b\"><a class=\"Q71vJc\" href=\"/search?hl=ko&amp;gl=KR&amp;ie=UTF-8&amp;q=%ED%8C%8C%EC%9D%B4%EC%8D%AC+%EC%84%A4%EC%B9%98&amp;sa=X&amp;ved=2ahUKEwijt76qjZv5AhXUKaYKHfk7C-IQ1QJ6BAgFEBA\"><accordion-entry-search-icon><span class=\"ieB2Dd\"><img class=\"OEaqif\" alt=\"\" src=\"data:image/gif;base64,R0lGODlhAQABAIAAAP///////yH5BAEKAAEALAAAAAABAAEAAAICTAEAOw==\" style=\"max-width:20px;max-height:20px\" id=\"dimg_27\" data-deferred=\"1\"></span></accordion-entry-search-icon><div class=\"kjGX2\"><span><div class=\"BNeawe s3v9rd AP7Wnd lRVwie\">파이썬 설치</div></span></div></a></div></div><div class=\"x54gtf\"></div><div><div class=\"gGQDvd iIWm4b\"><a class=\"Q71vJc\" href=\"/search?hl=ko&amp;gl=KR&amp;ie=UTF-8&amp;q=%ED%8C%8C%EC%9D%B4%EC%8D%AC+%EC%BD%94%EB%93%9C&amp;sa=X&amp;ved=2ahUKEwijt76qjZv5AhXUKaYKHfk7C-IQ1QJ6BAgFEBI\"><accordion-entry-search-icon><span class=\"ieB2Dd\"><img class=\"OEaqif\" alt=\"\" src=\"data:image/gif;base64,R0lGODlhAQABAIAAAP///////yH5BAEKAAEALAAAAAABAAEAAAICTAEAOw==\" style=\"max-width:20px;max-height:20px\" id=\"dimg_29\" data-deferred=\"1\"></span></accordion-entry-search-icon><div class=\"kjGX2\"><span><div class=\"BNeawe s3v9rd AP7Wnd lRVwie\">파이썬 코드</div></span></div></a></div></div><div class=\"x54gtf\"></div><div><div class=\"gGQDvd iIWm4b\"><a class=\"Q71vJc\" href=\"/search?hl=ko&amp;gl=KR&amp;ie=UTF-8&amp;q=%ED%8C%8C%EC%9D%B4%EC%8D%AC+%EB%8F%85%ED%95%99&amp;sa=X&amp;ved=2ahUKEwijt76qjZv5AhXUKaYKHfk7C-IQ1QJ6BAgFEBQ\"><accordion-entry-search-icon><span class=\"ieB2Dd\"><img class=\"OEaqif\" alt=\"\" src=\"data:image/gif;base64,R0lGODlhAQABAIAAAP///////yH5BAEKAAEALAAAAAABAAEAAAICTAEAOw==\" style=\"max-width:20px;max-height:20px\" id=\"dimg_33\" data-deferred=\"1\"></span></accordion-entry-search-icon><div class=\"kjGX2\"><span><div class=\"BNeawe s3v9rd AP7Wnd lRVwie\">파이썬 독학</div></span></div></a></div></div><div class=\"x54gtf\"></div><div><div class=\"gGQDvd iIWm4b\"><a class=\"Q71vJc\" href=\"/search?hl=ko&amp;gl=KR&amp;ie=UTF-8&amp;q=%ED%8C%8C%EC%9D%B4%EC%8D%AC+%EC%8B%A4%ED%96%89&amp;sa=X&amp;ved=2ahUKEwijt76qjZv5AhXUKaYKHfk7C-IQ1QJ6BAgFEBY\"><accordion-entry-search-icon><span class=\"ieB2Dd\"><img class=\"OEaqif\" alt=\"\" src=\"data:image/gif;base64,R0lGODlhAQABAIAAAP///////yH5BAEKAAEALAAAAAABAAEAAAICTAEAOw==\" style=\"max-width:20px;max-height:20px\" id=\"dimg_35\" data-deferred=\"1\"></span></accordion-entry-search-icon><div class=\"kjGX2\"><span><div class=\"BNeawe s3v9rd AP7Wnd lRVwie\">파이썬 실행</div></span></div></a></div></div><div class=\"x54gtf\"></div><div><div class=\"gGQDvd iIWm4b\"><a class=\"Q71vJc\" href=\"/search?hl=ko&amp;gl=KR&amp;ie=UTF-8&amp;q=%ED%8C%8C%EC%9D%B4%EC%8D%AC+%EC%BD%94%EB%94%A9&amp;sa=X&amp;ved=2ahUKEwijt76qjZv5AhXUKaYKHfk7C-IQ1QJ6BAgFEBg\"><accordion-entry-search-icon><span class=\"ieB2Dd\"><img class=\"OEaqif\" alt=\"\" src=\"data:image/gif;base64,R0lGODlhAQABAIAAAP///////yH5BAEKAAEALAAAAAABAAEAAAICTAEAOw==\" style=\"max-width:20px;max-height:20px\" id=\"dimg_37\" data-deferred=\"1\"></span></accordion-entry-search-icon><div class=\"kjGX2\"><span><div class=\"BNeawe s3v9rd AP7Wnd lRVwie\">파이썬 코딩</div></span></div></a></div></div><div class=\"x54gtf\"></div><div><div class=\"gGQDvd iIWm4b\"><a class=\"Q71vJc\" href=\"/search?hl=ko&amp;gl=KR&amp;ie=UTF-8&amp;q=%ED%8C%8C%EC%9D%B4%EC%8D%AC+%EA%B0%95%EC%A2%8C&amp;sa=X&amp;ved=2ahUKEwijt76qjZv5AhXUKaYKHfk7C-IQ1QJ6BAgFEBo\"><accordion-entry-search-icon><span class=\"ieB2Dd\"><img class=\"OEaqif\" alt=\"\" src=\"data:image/gif;base64,R0lGODlhAQABAIAAAP///////yH5BAEKAAEALAAAAAABAAEAAAICTAEAOw==\" style=\"max-width:20px;max-height:20px\" id=\"dimg_39\" data-deferred=\"1\"></span></accordion-entry-search-icon><div class=\"kjGX2\"><span><div class=\"BNeawe s3v9rd AP7Wnd lRVwie\">파이썬 강좌</div></span></div></a></div></div></div></div><footer> <div>  <div class=\"Gx5Zad xpd EtOod pkphOe BmP5tf\"><div class=\"nMymef MUxGbd lyLwlc\"><a class=\"nBDE1b G5eFlf\" href=\"/search?q=%ED%8C%8C%EC%9D%B4%EC%8D%AC&amp;hl=ko&amp;gl=KR&amp;ie=UTF-8&amp;ei=ikDiYqPKF9TTmAX596yQDg&amp;start=10&amp;sa=N\" aria-label=\"다음 페이지\">다음 &gt;</a></div></div> </div>  <div id=\"EOlPnc\"><div class=\"Srfpq\"><div><span class=\"EYqSq unknown_loc\"></span><span class=\"dfB0uf\">대한민국</span></div><span>IP 주소 기반</span><span>&nbsp;-&nbsp;</span><a href=\"/url?q=https://support.google.com/websearch%3Fp%3Dws_settings_location%26hl%3Dko&amp;sa=U&amp;ved=0ahUKEwijt76qjZv5AhXUKaYKHfk7C-IQty4IjQE&amp;usg=AOvVaw17ogjWRK5GSPPEaSolXahb\">자세히 알아보기</a></div><div><a href=\"/url?q=https://accounts.google.com/ServiceLogin%3Fcontinue%3Dhttps://www.google.com/search%253Fq%253D%2525ED%25258C%25258C%2525EC%25259D%2525B4%2525EC%25258D%2525AC%2526hl%253Dko%2526gl%253DKR%26hl%3Dko&amp;sa=U&amp;ved=0ahUKEwijt76qjZv5AhXUKaYKHfk7C-IQxs8CCI4B&amp;usg=AOvVaw2L2piINNcKDiai3KSL1nRq\">로그인</a></div><div><a class=\"xeDNfc\" href=\"https://www.google.com/preferences?hl=ko&amp;fg=1&amp;sa=X&amp;ved=0ahUKEwijt76qjZv5AhXUKaYKHfk7C-IQ5fUCCI8B\">설정</a><a class=\"xeDNfc\" href=\"https://policies.google.com/privacy?hl=ko&amp;fg=1\">개인정보처리방침</a><a class=\"xeDNfc\" href=\"https://policies.google.com/terms?hl=ko&amp;fg=1\">약관</a></div></div> </footer><script nonce=\"IrUxpkpPW-5tuhdmUGNaIw\">(function(){var hl=\\'ko\\';(function(){\\nvar f=this||self,g=function(a){return a};\\nvar h,k=function(){if(void 0===h){var a=null,b=f.trustedTypes;if(b&&b.createPolicy){try{a=b.createPolicy(\"goog#html\",{createHTML:g,createScript:g,createScriptURL:g})}catch(c){f.console&&f.console.error(c.message)}h=a}else h=a}return h};var p=function(a,b){this.h=a===l&&b||\"\";this.g=m},q=function(a){return a instanceof p&&a.constructor===p&&a.g===m?a.h:\"type_error:Const\"},m={},l={};var t=function(a,b){this.g=b===r?a:\"\"};t.prototype.toString=function(){return this.g+\"\"};var u=function(a){return a instanceof t&&a.constructor===t?a.g:\"type_error:TrustedResourceUrl\"},y=function(){var a={},b=q(new p(l,\"/complete/search\"));if(!v.test(b))throw Error(\"a`\"+b);var c=b.replace(w,function(e,d){if(!Object.prototype.hasOwnProperty.call(a,d))throw Error(\"b`\"+d+\"`\"+b+\"`\"+JSON.stringify(a));e=a[d];return e instanceof p?q(e):encodeURIComponent(String(e))});return x(c)},w=/%{(\\\\w+)}/g,v=RegExp(\"^((https:)?//[0-9a-z.:[\\\\\\\\]-]+/|/[^/\\\\\\\\\\\\\\\\]|[^:/\\\\\\\\\\\\\\\\%]+/|[^:/\\\\\\\\\\\\\\\\%]*[?#]|about:blank#)\",\"i\"),z=/^([^?#]*)(\\\\?[^#]*)?(#[\\\\s\\\\S]*)?/,r={},x=function(a){var b=k();a=b?b.createScriptURL(a):a;return new t(a,r)},A=function(a,b,c){if(null==c)return b;if(\"string\"===typeof c)return c?a+encodeURIComponent(c):\"\";for(var e in c)if(Object.prototype.hasOwnProperty.call(c,e)){var d=c[e];d=Array.isArray(d)?d:[d];for(var n=0;n<d.length;n++){var P=d[n];null!=P&&(b||(b=a),b+=(b.length>a.length?\"&\":\"\")+encodeURIComponent(e)+\"=\"+encodeURIComponent(String(P)))}}return b};var B={},C=function(a,b){this.g=b===B?a:\"\"};C.prototype.toString=function(){return this.g.toString()};var D=function(a){var b=k();a=b?b.createHTML(a):a;return new C(a,B)};function E(a,b){if(void 0!==a.tagName){if(\"script\"===a.tagName.toLowerCase())throw Error(\"c\");if(\"style\"===a.tagName.toLowerCase())throw Error(\"d\");}a.innerHTML=b instanceof C&&b.constructor===C?b.g:\"type_error:SafeHtml\"};var F=document.querySelector(\".l\"),G=document.querySelector(\"#sf\"),H=G.querySelector(\".sbc\"),I=G.querySelector(\"[type=text]\"),J=G.querySelector(\"[type=submit]\"),K=G.querySelector(\".sc\"),L=G.querySelector(\".x\"),M=I.value,N=[],O=-1,Q=M,R,S,T;M||(L&&(L.style.display=\"none\"),U(!1));function U(a){if(H.classList.contains(\"esbc\")){var b=H.classList.contains(\"chsbc\"),c=H.classList.contains(\"rtlsbc\");a&&(K.style.display=\"block\",b?(G.style.borderRadius=\"20px 20px 0 0\",K.style.borderBottom=\"1px solid #DFE1E5\",J.style.borderRadius=c?\"20px 0 0 0\":\"0 20px 0 0\"):H.style.borderRadius=c?\"0 8px 0 0\":\"8px 0 0 0\");a||(K.style.display=\"none\",b?(G.style.borderRadius=\"20px\",K.style.borderBottom=\"none\",J.style.borderRadius=c?\"20px 0 0 20px\":\"0 20px 20px 0\"):H.style.borderRadius=c?\"0 8px 8px 0\":\"8px 0 0 8px\")}}function V(){G.querySelector(\"[name=oq]\").value=Q;G.querySelector(\"[name=aqs]\").value=\"heirloom-srp.\"+(0<=O?O:\"\")+\".\"+(0<N.length?\"0l\"+N.length:\"\")}\\nfunction W(){R=null;if(S){var a={client:\"heirloom-srp\",hl:hl,json:\"t\",callback:\"hS\",q:S};\"undefined\"!==typeof ds&&ds&&(a.ds=ds);var b=document;var c=\"SCRIPT\";\"application/xhtml+xml\"===b.contentType&&(c=c.toLowerCase());c=b.createElement(c);b=y();b=z.exec(u(b).toString());var e=b[3]||\"\";a=x(b[1]+A(\"?\",b[2]||\"\",a)+A(\"#\",e));c.src=u(a);var d,n;(d=(a=null==(n=(d=(c.ownerDocument&&c.ownerDocument.defaultView||window).document).querySelector)?void 0:n.call(d,\"script[nonce]\"))?a.nonce||a.getAttribute(\"nonce\")||\\n\"\":\"\")&&c.setAttribute(\"nonce\",d);document.body.appendChild(c);S=null;R=setTimeout(W,500)}}function X(){for(;K.firstChild;)K.removeChild(K.firstChild);N=[];O=-1;U(!1)}function Y(){var a=K.querySelector(\".scs\");a&&(a.className=\"\");0<=O?(a=K.childNodes[O],a.className=\"scs\",M=a.textContent):M=Q;I.value=M}I.addEventListener(\"focus\",function(){F&&(F.style.display=\"none\")},!1);I.addEventListener(\"blur\",function(){X();F&&(F.style.display=\"\")},!1);I.addEventListener(\"keyup\",function(a){M=I.value;T=!1;13===a.which?V():27===a.which?(X(),F&&(F.style.display=\"\"),M=Q,I.value=M):40===a.which?(O++,O>=N.length&&(O=-1),Y()):38===a.which?(O--,-1>O&&(O=N.length-1),Y()):(a=M)?(L&&(L.style.display=\"\"),S=a,R||W(),Q=a):(L&&(L.style.display=\"none\"),U(!1),X(),Q=\"\",T=!0)},!1);J.addEventListener(\"click\",V,!1);L.addEventListener(\"click\",function(){I.value=\"\";L.style.display=\"none\";U(!1)},!1);H.addEventListener(\"click\",function(){I.focus()},!1);window.hS=function(a){if(!T){X();0===a[1].length&&U(!1);for(var b=0;b<a[1].length;b++){var c=a[1][b][0],e=document.createElement(\"div\");E(e,D(c));e.addEventListener(\"mousedown\",function(d){d.preventDefault();return!1},!1);c=c.replace(/<\\\\/?b>/g,\"\");e.addEventListener(\"click\",function(d){return function(){O=d;V();Y();X();G.submit()}}(b),!1);e.addEventListener(\"mouseover\",function(d){return function(){O!==d&&(O=d,Y())}}(b),!1);K.appendChild(e);U(!0);N.push(c)}}};}).call(this);})();(function(){\\nfunction b(a){for(a=a.target||a.srcElement;a&&\"A\"!==a.nodeName;)a=a.parentElement;a&&(a.href||\"\").match(/\\\\/search.*[?&]tbm=isch/)&&(a.href+=\"&biw=\"+document.documentElement.clientWidth,a.href+=\"&bih=\"+document.documentElement.clientHeight)}document.addEventListener(\"click\",b,!1);document.addEventListener(\"touchStart\",b,!1);}).call(this);</script></div><!-- cctlcm 5 cctlcm --><textarea class=\"csi\" name=\"csi\" style=\"display:none\"></textarea><script nonce=\"IrUxpkpPW-5tuhdmUGNaIw\">(function(){var e=\\'ikDiYqPKF9TTmAX596yQDg\\';var sn=\\'web\\';var timl=false;(function(){\\nfunction y(a){if(!a||z(a))return 0;if(!a.getBoundingClientRect)return 1;var c=function(b){return b.getBoundingClientRect()};return A(a,c)?0:K(a,c)}function A(a,c){var b;a:{for(b=a;b&&null!==b;b=b.parentElement)if(\"hidden\"===b.style.overflow)break a;b=null}if(!b)return!1;a=c(a);c=c(b);return a.bottom<c.top||a.top>=c.bottom||a.right<c.left||a.left>=c.right}\\nfunction z(a){return\"none\"===a.style.display?!0:document.defaultView&&document.defaultView.getComputedStyle?(a=document.defaultView.getComputedStyle(a),!!a&&(\"hidden\"===a.visibility||\"0px\"===a.height&&\"0px\"===a.width)):!1}\\nfunction K(a,c){var b=c(a);a=b.left+window.pageXOffset;c=b.top+window.pageYOffset;var f=b.width;b=b.height;var g=0;if(0>=b&&0>=f)return g;var p=window.innerHeight||document.documentElement.clientHeight;0>c+b?g=2:c>=p&&(g=4);if(0>a+f||a>=(window.innerWidth||document.documentElement.clientWidth))g|=8;g||(g=1,c+b>p&&(g|=4));return g};var L=e,M=sn,N=\"undefined\"===typeof de?!0:!1!==de,O=[];function P(a,c,b){a=\"/gen_204?atyp=csi&s=\"+(M||\"web\")+\"&t=\"+a+(\"&lite=1&ei=\"+L+\"&conn=\"+(window.navigator&&window.navigator.connection?window.navigator.connection.type:-1)+c);c=\"&rt=\";for(var f in b)a+=\"\"+c+f+\".\"+b[f],c=\",\";return a}function Q(a){a={prt:a};window.wsrt&&(a.wsrt=window.wsrt);return a}function R(a){window.ping?window.ping(a):(new Image).src=a}\\n(function(){for(var a=(new Date).getTime()-window.start,c=Q(a),b=0,f=0,g=0,p=document.getElementsByTagName(\"img\"),q=N?\"&biw=\"+window.innerWidth+\"&bih=\"+window.innerHeight:\"\",S=function(h,r){h.onload=function(){f=(new Date).getTime()-window.start;r&&++u==g&&(b=f,B());h.onload=null}},B=function(){q+=\"&ima=\"+g;c.aft=b;R(P(\"aft\",q,c))},u=0,T=0,d=void 0;d=p[T++];){var t=y(d),n=!!(t&1);n&&++g;var l=d.hasAttribute(\"data-ilite\"),v=d.hasAttribute(\"data-deferred\")||l,C=d.getAttribute(\"data-src\")||d.getAttribute(\"data-lzysrc\"),D=!v&&C;O.push([t,v,D,google.ldi&&d.id&&google.ldi[d.id]||l&&C]);l=(t=d.complete&&(l||!v&&!(n&&D)))&&Number(d.getAttribute(\"data-iml\"))||0;t&&l?(n&&++u,l&&(d=l-window.start,n&&(b=Math.max(b,d)),f=Math.max(f,d))):S(d,n)}b||(b=a);f||(f=b);u==g&&B();google.rglh&&google.rglh();window.addEventListener(\"load\",function(){window.setTimeout(function(){c.ol=(new Date).getTime()-window.start;timl&&(c.iml=f);var h=window.performance&&window.performance.timing;h&&(c.rqst=h.responseEnd-h.requestStart,c.rspt=h.responseEnd-\\nh.responseStart);for(var r=h=0,E=0,F=0,G=0,H=0,U=0,k;k=O[U++];){var m=k[0],w=k[1],I=k[2];k=k[3];var V=0==m,x=m&8,J=m&4;(m=1==m||2==m||x&&!J)&&!x&&(w&&!k||++E,I&&++H);w&&(m&&k&&++h,J&&!k&&++r);V||x?I||++G:w||++F}q+=\"&ime=\"+E+\"&imel=\"+H+(\"&imex=\"+F+\"&imeh=\"+G)+(\"&imea=\"+h+\"&imeb=\"+r);R(P(\"all\",q,c))},0)},!1)})();}).call(this);})();</script><script nonce=\"IrUxpkpPW-5tuhdmUGNaIw\">\\nfunction _setImagesSrc(e,d){function f(b){b.onerror=function(){b.style.display=\"none\"};b.src=d}for(var g=0,a=void 0;a=e[g++];){var c=document.getElementById(a)||document.querySelector(\\'img[data-iid=\"\\'+a+\\'\"]\\');c?(a=void 0,(null==(a=google.c)?0:a.setup)&&google.c.setup(c),f(c)):(google.iir=google.iir||{},google.iir[a]=d)}}\"undefined\"==typeof window.google&&(window.google={});</script><script nonce=\"IrUxpkpPW-5tuhdmUGNaIw\">(function(){var s=\\'data:image/png;base64,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\\\\x3d\\';var i=[\\'dimg_15\\'];_setImagesSrc(i,s);})();</script><script nonce=\"IrUxpkpPW-5tuhdmUGNaIw\">(function(){var s=\\'data:image/png;base64,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\\\\x3d\\';var i=[\\'dimg_19\\'];_setImagesSrc(i,s);})();</script><script nonce=\"IrUxpkpPW-5tuhdmUGNaIw\">(function(){var s=\\'data:image/png;base64,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\\\\x3d\\';var i=[\\'dimg_23\\'];_setImagesSrc(i,s);})();</script><script nonce=\"IrUxpkpPW-5tuhdmUGNaIw\">(function(){var s=\\'data:image/jpeg;base64,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\\\\x3d\\';var i=[\\'dimg_25\\'];_setImagesSrc(i,s);})();</script><script nonce=\"IrUxpkpPW-5tuhdmUGNaIw\">(function(){var s=\\'data:image/png;base64,iVBORw0KGgoAAAANSUhEUgAAABgAAAAYAgMAAACdGdVrAAAADFBMVEVMaXFChfRChfRChfT0tCPZAAAAA3RSTlMAgFJEkGxNAAAAL0lEQVR4AWPADxgdwBT3BTDF9AUiuhdC6WNK/v///y+UggrClSA07EWVglmEFwAA5eYSExeCwigAAAAASUVORK5CYII\\\\x3d\\';var i=[\\'dimg_31\\',\\'dimg_11\\'];_setImagesSrc(i,s);})();</script><script nonce=\"IrUxpkpPW-5tuhdmUGNaIw\">(function(){var s=\\'data:image/jpeg;base64,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\\\\x3d\\';var i=[\\'dimg_13\\'];_setImagesSrc(i,s);})();</script><script nonce=\"IrUxpkpPW-5tuhdmUGNaIw\">(function(){var s=\\'data:image/jpeg;base64,/9j/4AAQSkZJRgABAQAAAQABAAD/2wCEAAkGBwgHBgkIBwgKCgkLDRYPDQwMDRsUFRAWIB0iIiAdHx8kKDQsJCYxJx8fLT0tMTU3Ojo6Iys/RD84QzQ5OjcBCgoKDQwNGg8PGjclHyU3Nzc3Nzc3Nzc3Nzc3Nzc3Nzc3Nzc3Nzc3Nzc3Nzc3Nzc3Nzc3Nzc3Nzc3Nzc3Nzc3N//AABEIADwAKAMBIgACEQEDEQH/xAAbAAACAwEBAQAAAAAAAAAAAAAAAwQFBgIHAf/EADEQAAIBAwQAAgcIAwAAAAAAAAECAwAEEQUSITFBURMiNHFygZEGMkJhc6Gx8RQlQ//EABkBAQACAwAAAAAAAAAAAAAAAAEDBAACBf/EAB4RAAIDAQACAwAAAAAAAAAAAAABAhESIQNBBBMx/9oADAMBAAIRAxEAPwD2/djtSK4luIYVDTSLGpIUFztBJ6HPjWb+3VzdWsNk9nNHHIHc4kGQ2FJ6wal/aksNKtjKAXFzCW2jIznmsksx0PiSnPBeg56r7VfBqtu6DCyY6Bx3ini+tj/0A94otDmVXRJopazxN92RD86KQogTpp+qxxPdR7gmWQk8LnI+8px5jun6lFDc6fN6RElVULrkZAYDg+8VWzaIclogY3Maxh4nxhQ27ABz4+RHVczWl7BHKzzLMjI3LLhsYJPPfyJNazlmN1YJd4J032UfEa6u7qG0VTKGJc7URFyzHBOAPcDXOm+yj4jUbV4UuHt5I54VntpCwV5NoOVIwSOR5/KoJ32joeHLS0ToJIrmFZYuUbnkYPkcg9EdUVF0aOO3s0tkuFnkBZ3ZTnLFiT+5ooV10ZJW6/DV0i/9huf0m/g0xC20bhlvPGBUfUU32U5fHEbED5VaOcZK8e6i0hJrNwhhl9LKzHC+jXlgfE5GcDHeOu6T/tJFtpIp2kgbDGWNlMbZkbBxksRgrxnrjPdWlpEJrEITj19wOAcEHIPI8xTxbIAd8krDx3SEDv8ALioG+luMbiijvLG/Mbrd3sygiPJh9YvywIzgHGTkgDgNgHjNFXkdjBGc/wCNEree0E/WisuhwmaOq7VWlW1l9U7Sh5HuqxoqcpmOh1CG0hSNg7SMSQqqT9T4VDu9K1LVr0TRRMseBt3EgD8xnitulrbxuXSGNXP4gozTq1inGVosfclFRSM8ug3E/N5c4B/CmT/VFaGijEQfyfK/Z//Z\\';var i=[\\'dimg_1\\'];_setImagesSrc(i,s);})();</script><script nonce=\"IrUxpkpPW-5tuhdmUGNaIw\">(function(){var s=\\'data:image/jpeg;base64,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\\\\x3d\\\\x3d\\';var i=[\\'dimg_3\\'];_setImagesSrc(i,s);})();</script><script nonce=\"IrUxpkpPW-5tuhdmUGNaIw\">(function(){var s=\\'data:image/jpeg;base64,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\\\\x3d\\\\x3d\\';var i=[\\'dimg_5\\'];_setImagesSrc(i,s);})();</script><script nonce=\"IrUxpkpPW-5tuhdmUGNaIw\">(function(){var s=\\'data:image/png;base64,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\\';var i=[\\'dimg_7\\'];_setImagesSrc(i,s);})();</script><script nonce=\"IrUxpkpPW-5tuhdmUGNaIw\">(function(){var s=\\'data:image/jpeg;base64,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\\';var i=[\\'dimg_9\\'];_setImagesSrc(i,s);})();</script><script nonce=\"IrUxpkpPW-5tuhdmUGNaIw\">(function(){var s=\\'data:image/png;base64,iVBORw0KGgoAAAANSUhEUgAAABQAAAAUCAYAAACNiR0NAAABAUlEQVR4AWMYesChoYElLjkzPj4lY3d8csZjIL4MxPNjUzPcSTYsISFLAqj5NBD/h+LPQPwbiT87NCuLh2gDgRr2QzXuT0jNMoBYksARn5zuHJ+UcR0kB6RXE2VYXHJGOlTDZmzyIJcB5e+D1CSkZDgQNBAaZv+jU1JkcKpJygiGeZ0I76a/Byq8jU9NZFqaCNTA48SE33/iDcw8TIyBt0GKQTFN0Msp6f2EIyUpo57YSIlLSrMhIg0WCIBcCfXSdlzJBsheTHQ6jEnOUgEFOLaEDbMIlhZBOYrorAdJk+nroVnvPsSgdGdoOF7HZyhZ2XPoGQoqjbCpIbt0AiejIQMArVLI7k/DXFkAAAAASUVORK5CYII\\\\x3d\\';var i=[\\'dimg_17\\',\\'dimg_21\\',\\'dimg_27\\',\\'dimg_29\\',\\'dimg_33\\',\\'dimg_35\\',\\'dimg_37\\',\\'dimg_39\\'];_setImagesSrc(i,s);})();</script><script nonce=\"IrUxpkpPW-5tuhdmUGNaIw\">(function(){var e=\\'ikDiYqPKF9TTmAX596yQDg\\';(function(){\\nvar a=e;2===(window.performance&&window.performance.navigation&&window.performance.navigation.type)&&window.ping(\"/gen_204?ct=backbutton&ei=\"+a);}).call(this);})();(function(){\\nvar b=[function(){google.tick&&google.tick(\"load\",\"dcl\")}];google.dclc=function(a){b.length?b.push(a):a()};function c(){for(var a=b.shift();a;)a(),a=b.shift()}window.addEventListener?(document.addEventListener(\"DOMContentLoaded\",c,!1),window.addEventListener(\"load\",c,!1)):window.attachEvent&&window.attachEvent(\"onload\",c);}).call(this);\\nwindow.jsl=window.jsl||{};window.jsl.dh=function(a,b,f){try{var g=document.getElementById(a);if(g)g.innerHTML=b,f&&f();else{var c={id:a,script:String(!!f),milestone:String(google.jslm||0)};google.jsla&&(c.async=google.jsla);var h=a.indexOf(\"_\"),d=0<h?a.substring(0,h):\"\",k=document.createElement(\"div\");k.innerHTML=b;var e=k.children[0];if(e&&(c.tag=e.tagName,c[\"class\"]=String(e.className||null),c.name=String(e.getAttribute(\"jsname\")),d)){a=[];var l=document.querySelectorAll(\\'[id^=\"\\'+d+\\'_\"]\\');for(b=0;b<l.length;++b)a.push(l[b].id);c.ids=a.join(\",\")}google.ml(Error(d?\"Missing ID with prefix \"+d:\"Missing ID\"),!1,c)}}catch(m){google.ml(m,!0,{\"jsl.dh\":!0})}};(function(){var x=false;\\ngoogle.jslm=x?2:1;})();(function(){(function(){google.csct={};google.csct.ps=\\'AOvVaw1lwioe38JFAjTQHMRYy2i3\\\\x26ust\\\\x3d1659081226428626\\';})();})();(function(){(function(){google.csct.rd=true;})();})();(function(){(function(){google.csct.rl=true;})();})();(function(){\\nwindow.xp=function(b){function f(k,g,h){return\"xp\"+(\"x\"==g?\"c\":\"x\")+h}for(var c=/\\\\bxp(x|c)(\\\\d?)\\\\b/,a=b;a;){var e=a.className,d=e.match(c);if(d){d=\"c\"==d[1];a.className=e.replace(c,f);b&&b.setAttribute(\"aria-expanded\",d);if(d)for(b=a.getElementsByTagName(\"img\"),c=0;c<b.length;++c)if(a=b[c],e=a.getAttribute(\"data-ll\"))a.src=e,a.removeAttribute(\"data-ll\");break}a=a.parentElement}};})();(function(){(function(){var id=\\'tsuid2\\';var lve=false;(function(){\\n\\n\\nvar e=\"undefined\"!=typeof navigator&&!/Opera/.test(navigator.userAgent)&&/WebKit/.test(navigator.userAgent),f={A:1,INPUT:1,TEXTAREA:1,SELECT:1,BUTTON:1},g={Enter:13,\" \":32},h={A:13,BUTTON:0,CHECKBOX:32,COMBOBOX:13,FILE:0,GRIDCELL:13,LINK:13,LISTBOX:13,MENU:0,MENUBAR:0,MENUITEM:0,MENUITEMCHECKBOX:0,MENUITEMRADIO:0,OPTION:0,RADIO:32,RADIOGROUP:32,RESET:0,SUBMIT:0,SWITCH:32,TAB:0,TREE:13,TREEITEM:13},k={CHECKBOX:!0,FILE:!0,OPTION:!0,RADIO:!0},l={COLOR:!0,DATE:!0,DATETIME:!0,\"DATETIME-LOCAL\":!0,EMAIL:!0,MONTH:!0,NUMBER:!0,PASSWORD:!0,RANGE:!0,SEARCH:!0,TEL:!0,TEXT:!0,TEXTAREA:!0,TIME:!0,URL:!0,WEEK:!0};document.getElementById(id).onclick=function(){window.xp(this);lve&&window.logVe(this)};document.getElementById(id).onkeydown=function(d){var c=d.which||d.keyCode;!c&&d.key&&(c=g[d.key]);e&&3==c&&(c=13);if(13!=c&&32!=c)c=!1;else{var a=d.target||d.srcElement;!a.getAttribute&&a.parentNode&&(a=a.parentNode);var b;if(!(b=\"keydown\"!=d.type)){if(b=\"getAttribute\"in a)b=!((a.getAttribute(\"type\")||a.tagName).toUpperCase()in l);b=!(b&&!(\"BUTTON\"==a.tagName.toUpperCase()||a.type&&\"FILE\"==a.type.toUpperCase())&&!a.isContentEditable)}(b=b||d.ctrlKey||d.shiftKey||d.altKey||d.metaKey||(a.getAttribute(\"type\")||\\na.tagName).toUpperCase()in k&&32==c)||((b=a.tagName in f)||(b=a.getAttributeNode(\"tabindex\"),b=null!=b&&b.specified),b=!(b&&!a.disabled));if(b)c=!1;else{b=(a.getAttribute(\"role\")||a.type||a.tagName).toUpperCase();var m=!(b in h)&&13==c;a=\"INPUT\"!=a.tagName.toUpperCase()||!!a.type;c=(0==h[b]%c||m)&&a}}c&&(d.preventDefault(),window.xp(this),lve&&window.logVe(this))};}).call(this);})();})();(function(){(function(){\\nwindow.logVe=function(a){a&&a.attributes[\"data-ved\"]&&window.ping(\"/gen_204?ved=\"+a.attributes[\"data-ved\"].value)};}).call(this);})();(function(){(function(){var id=\\'tsuid1\\';var lve=true;(function(){\\n\\n\\nvar e=\"undefined\"!=typeof navigator&&!/Opera/.test(navigator.userAgent)&&/WebKit/.test(navigator.userAgent),f={A:1,INPUT:1,TEXTAREA:1,SELECT:1,BUTTON:1},g={Enter:13,\" \":32},h={A:13,BUTTON:0,CHECKBOX:32,COMBOBOX:13,FILE:0,GRIDCELL:13,LINK:13,LISTBOX:13,MENU:0,MENUBAR:0,MENUITEM:0,MENUITEMCHECKBOX:0,MENUITEMRADIO:0,OPTION:0,RADIO:32,RADIOGROUP:32,RESET:0,SUBMIT:0,SWITCH:32,TAB:0,TREE:13,TREEITEM:13},k={CHECKBOX:!0,FILE:!0,OPTION:!0,RADIO:!0},l={COLOR:!0,DATE:!0,DATETIME:!0,\"DATETIME-LOCAL\":!0,EMAIL:!0,MONTH:!0,NUMBER:!0,PASSWORD:!0,RANGE:!0,SEARCH:!0,TEL:!0,TEXT:!0,TEXTAREA:!0,TIME:!0,URL:!0,WEEK:!0};document.getElementById(id).onclick=function(){window.xp(this);lve&&window.logVe(this)};document.getElementById(id).onkeydown=function(d){var c=d.which||d.keyCode;!c&&d.key&&(c=g[d.key]);e&&3==c&&(c=13);if(13!=c&&32!=c)c=!1;else{var a=d.target||d.srcElement;!a.getAttribute&&a.parentNode&&(a=a.parentNode);var b;if(!(b=\"keydown\"!=d.type)){if(b=\"getAttribute\"in a)b=!((a.getAttribute(\"type\")||a.tagName).toUpperCase()in l);b=!(b&&!(\"BUTTON\"==a.tagName.toUpperCase()||a.type&&\"FILE\"==a.type.toUpperCase())&&!a.isContentEditable)}(b=b||d.ctrlKey||d.shiftKey||d.altKey||d.metaKey||(a.getAttribute(\"type\")||\\na.tagName).toUpperCase()in k&&32==c)||((b=a.tagName in f)||(b=a.getAttributeNode(\"tabindex\"),b=null!=b&&b.specified),b=!(b&&!a.disabled));if(b)c=!1;else{b=(a.getAttribute(\"role\")||a.type||a.tagName).toUpperCase();var m=!(b in h)&&13==c;a=\"INPUT\"!=a.tagName.toUpperCase()||!!a.type;c=(0==h[b]%c||m)&&a}}c&&(d.preventDefault(),window.xp(this),lve&&window.logVe(this))};}).call(this);})();})();google.drty&&google.drty(undefined,true);</script></body></html>'"
      ]
     },
     "execution_count": 19,
     "metadata": {},
     "output_type": "execute_result"
    }
   ],
   "source": [
    "requests.get(url).text"
   ]
  },
  {
   "cell_type": "markdown",
   "id": "d4d993a8",
   "metadata": {},
   "source": [
    "## API 키를 사용하지 않고 데이터 가져오기\n",
    "### 국제 우주 정거장의 정보 가져오기(iss-now)"
   ]
  },
  {
   "cell_type": "code",
   "execution_count": 24,
   "id": "ac2fb593",
   "metadata": {},
   "outputs": [],
   "source": [
    "import requests\n",
    "import json\n",
    "\n",
    "url = 'http://api.open-notify.org/iss-now.json' # http는 보안과 관련\n",
    "result = requests.get(url).text\n"
   ]
  },
  {
   "cell_type": "markdown",
   "id": "a26b62c2",
   "metadata": {},
   "source": [
    "* 국제 우주정거장의 위치 정보를 10초마다 갱신하는 코드"
   ]
  },
  {
   "cell_type": "code",
   "execution_count": 28,
   "id": "c75c207b",
   "metadata": {},
   "outputs": [],
   "source": [
    "dict1 = json.loads(result)"
   ]
  },
  {
   "cell_type": "code",
   "execution_count": 37,
   "id": "1dd0af16",
   "metadata": {},
   "outputs": [
    {
     "name": "stdout",
     "output_type": "stream",
     "text": [
      "{'timestamp': 1658995027, 'message': 'success', 'iss_position': {'latitude': '44.3780', 'longitude': '118.3330'}}\n"
     ]
    }
   ],
   "source": [
    "print(dict1)"
   ]
  },
  {
   "cell_type": "code",
   "execution_count": 29,
   "id": "2166e8e7",
   "metadata": {},
   "outputs": [
    {
     "data": {
      "text/plain": [
       "dict_keys(['timestamp', 'message', 'iss_position'])"
      ]
     },
     "execution_count": 29,
     "metadata": {},
     "output_type": "execute_result"
    }
   ],
   "source": [
    "dict1.keys()"
   ]
  },
  {
   "cell_type": "code",
   "execution_count": 30,
   "id": "8ad89fff",
   "metadata": {},
   "outputs": [
    {
     "data": {
      "text/plain": [
       "{'latitude': '44.3780', 'longitude': '118.3330'}"
      ]
     },
     "execution_count": 30,
     "metadata": {},
     "output_type": "execute_result"
    }
   ],
   "source": [
    "dict1.get('iss_position')"
   ]
  },
  {
   "cell_type": "code",
   "execution_count": 34,
   "id": "ce07d5c3",
   "metadata": {},
   "outputs": [],
   "source": [
    "lat = float(dict1.get('iss_position').get('latitude'))"
   ]
  },
  {
   "cell_type": "code",
   "execution_count": 33,
   "id": "e594ff7f",
   "metadata": {},
   "outputs": [],
   "source": [
    "lon = float(dict1.get('iss_position').get('longitude'))"
   ]
  },
  {
   "cell_type": "code",
   "execution_count": 35,
   "id": "cff22f80",
   "metadata": {},
   "outputs": [
    {
     "data": {
      "text/plain": [
       "(44.378, 118.333)"
      ]
     },
     "execution_count": 35,
     "metadata": {},
     "output_type": "execute_result"
    }
   ],
   "source": [
    "lat, lon"
   ]
  },
  {
   "cell_type": "code",
   "execution_count": 36,
   "id": "7b64cdf0",
   "metadata": {},
   "outputs": [
    {
     "data": {
      "text/plain": [
       "44.378"
      ]
     },
     "execution_count": 36,
     "metadata": {},
     "output_type": "execute_result"
    }
   ],
   "source": [
    "#방법2\n",
    "float(dict1['iss_position']['latitude'])"
   ]
  },
  {
   "cell_type": "code",
   "execution_count": null,
   "id": "74503078",
   "metadata": {},
   "outputs": [],
   "source": [
    "# 유닉스 시간, 1970년 부터 초로 표시"
   ]
  },
  {
   "cell_type": "code",
   "execution_count": 39,
   "id": "18521e03",
   "metadata": {},
   "outputs": [
    {
     "name": "stdout",
     "output_type": "stream",
     "text": [
      "위도:  50.1644\n",
      "경도:  173.3438\n",
      "위도:  49.9918\n",
      "경도:  174.3270\n",
      "위도:  49.8191\n",
      "경도:  175.2561\n",
      "위도:  49.6291\n",
      "경도:  176.2241\n",
      "위도:  49.4400\n",
      "경도:  177.1386\n"
     ]
    }
   ],
   "source": [
    "import requests\n",
    "import json\n",
    "import time\n",
    "\n",
    "url = 'http://api.open-notify.org/iss-now.json'\n",
    "\n",
    "for k in range(5):\n",
    "    result = requests.get(url).text\n",
    "    dict1 = json.loads(result)\n",
    "    print(\"위도: \",dict1['iss_position']['latitude'])\n",
    "    print(\"경도: \",dict1['iss_position']['longitude'])\n",
    "    time.sleep(10)"
   ]
  },
  {
   "cell_type": "markdown",
   "id": "5be21047",
   "metadata": {},
   "source": [
    "### agify api "
   ]
  },
  {
   "cell_type": "code",
   "execution_count": 46,
   "id": "556f8835",
   "metadata": {},
   "outputs": [
    {
     "data": {
      "text/plain": [
       "48"
      ]
     },
     "execution_count": 46,
     "metadata": {},
     "output_type": "execute_result"
    }
   ],
   "source": [
    "import requests\n",
    "\n",
    "url = 'https://api.agify.io/?name=sky'\n",
    "result = requests.get(url).json() # 바로 딕트로 바꿔줌\n",
    "result.get('age')"
   ]
  },
  {
   "cell_type": "markdown",
   "id": "08fc7a96",
   "metadata": {},
   "source": [
    "### lotto  api"
   ]
  },
  {
   "cell_type": "code",
   "execution_count": 81,
   "id": "518befeb",
   "metadata": {},
   "outputs": [
    {
     "name": "stdout",
     "output_type": "stream",
     "text": [
      "{'totSellamnt': 101960162000, 'returnValue': 'success', 'drwNoDate': '2022-06-25', 'firstWinamnt': 2108962250, 'drwtNo6': 45, 'drwtNo4': 24, 'firstPrzwnerCo': 12, 'drwtNo5': 29, 'bnusNo': 16, 'firstAccumamnt': 25307547000, 'drwNo': 1021, 'drwtNo2': 15, 'drwtNo3': 17, 'drwtNo1': 12}\n"
     ]
    }
   ],
   "source": [
    "import requests\n",
    "url = 'https://www.dhlottery.co.kr/common.do?method=getLottoNumber&drwNo=1021' #common.do 페이지 별로, 폴더에서 다음과같은 파라미터를 가진 정보를 가져와,method와 drwNo 파라미터 2개로 받음 연결은 &\n",
    "result = requests.get(url).json()\n",
    "print(result)"
   ]
  },
  {
   "cell_type": "code",
   "execution_count": 82,
   "id": "c963e5d3",
   "metadata": {},
   "outputs": [
    {
     "name": "stdout",
     "output_type": "stream",
     "text": [
      "[12, 15, 17, 24, 29, 45]\n"
     ]
    }
   ],
   "source": [
    "# 당첨번호 6개를 리스트에 담기\n",
    "num = [result.get(f'drwtNo{i}') for i in range(1,7)]\n",
    "print(num)"
   ]
  },
  {
   "cell_type": "markdown",
   "id": "4851a87a",
   "metadata": {},
   "source": [
    "## key를 사용하여 데이터를 요청하는 경우\n",
    "- 대부분의 api server 에서 요구하는 방식\n",
    "- 공공 데이터 포털\n",
    "- 네이버 개발자 센터, 카카오 개발자 그룹, etc\n"
   ]
  },
  {
   "cell_type": "markdown",
   "id": "c89fadf8",
   "metadata": {},
   "source": [
    "* TMDB API 기본 사용법과 키 발급 받는 방법\n",
    " - https://www.themoviedb.org/signup?language=ko"
   ]
  },
  {
   "cell_type": "code",
   "execution_count": null,
   "id": "7b68876b",
   "metadata": {},
   "outputs": [],
   "source": [
    "## 공공데이터 포털"
   ]
  },
  {
   "cell_type": "code",
   "execution_count": null,
   "id": "22038014",
   "metadata": {},
   "outputs": [],
   "source": []
  },
  {
   "cell_type": "markdown",
   "id": "2420a7b3",
   "metadata": {},
   "source": [
    "\n",
    "### 응답 데이터의 형식 및 처리\n",
    "    - html, json, xml\n",
    "\n",
    "#### JSON 형식의 데이터 처리\n",
    "\n",
    "* 파이썬 딕셔너리를 Json으로 변환: json.dump()\n",
    "* Json을 파이썬 딕셔너리로 변환: json.load()"
   ]
  },
  {
   "cell_type": "markdown",
   "id": "812c2221",
   "metadata": {},
   "source": [
    "2020년 3월 서울 지하철역 유동인구 정보를 분석하고 지도에 표시하려고 합니다.\n",
    "google map platform(https://developers.google.com/maps/documentation/geocoding/overview)에서 제공하는 api를 사용하여 \"동대문역\"의 지리 정보를 얻어 json 변수에 할당하였습니다."
   ]
  },
  {
   "cell_type": "raw",
   "id": "35ae4e58",
   "metadata": {},
   "source": [
    "json = {'results': [{'address_components': [{'long_name': '２８８', 'short_name': '２８８', 'types': ['premise']}, {'long_name': '종로', 'short_name': '종로', 'types': ['political', 'sublocality', 'sublocality_level_4']}, {'long_name': '종로6가', 'short_name': '종로6가', 'types': ['political', 'sublocality', 'sublocality_level_2']}, {'long_name': '종로구', 'short_name': '종로구', 'types': ['political', 'sublocality', 'sublocality_level_1']}, {'long_name': '서울특별시', 'short_name': '서울특별시', 'types': ['administrative_area_level_1', 'political']}, {'long_name': '대한민국', 'short_name': 'KR', 'types': ['country', 'political']}, {'long_name': '110-126', 'short_name': '110-126', 'types': ['postal_code']}], 'formatted_address': '대한민국 서울특별시 종로구 종로6가 종로 288', 'geometry': {'location': {'lat': 37.5711389, 'lng': 127.0095452}, 'location_type': 'ROOFTOP', 'viewport': {'northeast': {'lat': 37.5724878802915, 'lng': 127.0108941802915}, 'southwest': {'lat': 37.5697899197085, 'lng': 127.0081962197085}}}, 'place_id': 'ChIJm6x0HTujfDURbf9iX8DtJ2A', 'types': ['establishment', 'point_of_interest', 'tourist_attraction']}], 'status': 'OK'}"
   ]
  },
  {
   "cell_type": "code",
   "execution_count": 55,
   "id": "a562e2cb",
   "metadata": {},
   "outputs": [],
   "source": [
    "json = {'results': [{'address_components': [{'long_name': '２８８', 'short_name': '２８８', 'types': ['premise']}, {'long_name': '종로', 'short_name': '종로', 'types': ['political', 'sublocality', 'sublocality_level_4']}, {'long_name': '종로6가', 'short_name': '종로6가', 'types': ['political', 'sublocality', 'sublocality_level_2']}, {'long_name': '종로구', 'short_name': '종로구', 'types': ['political', 'sublocality', 'sublocality_level_1']}, {'long_name': '서울특별시', 'short_name': '서울특별시', 'types': ['administrative_area_level_1', 'political']}, {'long_name': '대한민국', 'short_name': 'KR', 'types': ['country', 'political']}, {'long_name': '110-126', 'short_name': '110-126', 'types': ['postal_code']}], 'formatted_address': '대한민국 서울특별시 종로구 종로6가 종로 288', 'geometry': {'location': {'lat': 37.5711389, 'lng': 127.0095452}, 'location_type': 'ROOFTOP', 'viewport': {'northeast': {'lat': 37.5724878802915, 'lng': 127.0108941802915}, 'southwest': {'lat': 37.5697899197085, 'lng': 127.0081962197085}}}, 'place_id': 'ChIJm6x0HTujfDURbf9iX8DtJ2A', 'types': ['establishment', 'point_of_interest', 'tourist_attraction']}], 'status': 'OK'}"
   ]
  },
  {
   "cell_type": "markdown",
   "id": "5d228817",
   "metadata": {},
   "source": [
    "__(1)동대문역의 주소('대한민국 서울특별시 종로구 종로6가 종로 288')를 추출하여, long_addr 변수에 저장하세요.__"
   ]
  },
  {
   "cell_type": "code",
   "execution_count": 63,
   "id": "2b81bec3",
   "metadata": {
    "scrolled": true
   },
   "outputs": [
    {
     "name": "stdout",
     "output_type": "stream",
     "text": [
      "대한민국 서울특별시 종로구 종로6가 종로 288\n"
     ]
    }
   ],
   "source": [
    "long_addr = json['results'][0]['formatted_address']\n",
    "print(long_addr)"
   ]
  },
  {
   "cell_type": "markdown",
   "id": "377c4487",
   "metadata": {},
   "source": [
    "__(2) 동대문역의 위도(37.5711389), 경도(127.0095452) 정보를 추출하여, lat, lng변수에 저장하세요.__"
   ]
  },
  {
   "cell_type": "code",
   "execution_count": 85,
   "id": "0e63e0fa",
   "metadata": {},
   "outputs": [
    {
     "name": "stdout",
     "output_type": "stream",
     "text": [
      "37.5711389 127.0095452\n"
     ]
    }
   ],
   "source": [
    "lat = json['results'][0]['geometry']['location']['lat']\n",
    "lng = json['results'][0]['geometry']['location']['lng']\n",
    "print(lat, lng)"
   ]
  },
  {
   "cell_type": "markdown",
   "id": "d26b0ba8",
   "metadata": {},
   "source": [
    "* (참고) xml 형식의 데이터 처리\n",
    "* XML 언어의 특징\n",
    "- XML(eXtensible Markup Language): 데이터 저장 및 전달을 위해 만든 다목적 마크업 언어\n",
    "- 태그를 이용해서 문서나 데이터를 구조화하는 언어\n",
    "- HTML은 태그가 미리 정해져 있지만, XML은 자신이 태그를 정해서 사용 가능\n",
    "- XML의 규칙\n",
    "- 1. 태그는 <문자열>로 시작해서 </문자열>로 끝남(요소)\n",
    "- 2. 태그를 중첩해서 사용할 때는 시작하는 순서와 끝나는 순서가 서로 일치해야 함\n",
    "- 3. 태그의 속성은 <태그명 속성이름=＂속성값“>으로 표현함\n"
   ]
  },
  {
   "cell_type": "code",
   "execution_count": null,
   "id": "bfcb1855",
   "metadata": {},
   "outputs": [],
   "source": [
    "xml_data = \"\"\"<?xml version=\"1.0\" encoding=\"UTF-8\" ?>\n",
    "<사용자정보>\n",
    "    <이름>홍길동</이름>\n",
    "    <나이>25</나이>\n",
    "    <거주지>서울</거주지>\n",
    "    <신체정보>\n",
    "        <키 unit=\"cm\">175.4</키>\n",
    "        <몸무게 unit=\"kg\">71.2</몸무게>\n",
    "    </신체정보>\n",
    "    <취미>등산</취미>\n",
    "    <취미>자전거타기</취미>\n",
    "    <취미>독서</취미>\n",
    "</사용자정보> \n",
    "\"\"\"\n",
    "print(xml_data)"
   ]
  },
  {
   "cell_type": "markdown",
   "id": "ec5d97c5",
   "metadata": {},
   "source": [
    "* XML형식의 데이터에서 데이터 추출하기: 파이썬 딕셔너리로 전환"
   ]
  },
  {
   "cell_type": "code",
   "execution_count": 87,
   "id": "4c0a2f3f",
   "metadata": {},
   "outputs": [
    {
     "name": "stdout",
     "output_type": "stream",
     "text": [
      "Collecting xmltodict\n",
      "  Downloading xmltodict-0.13.0-py2.py3-none-any.whl (10.0 kB)\n",
      "Installing collected packages: xmltodict\n",
      "Successfully installed xmltodict-0.13.0\n"
     ]
    },
    {
     "name": "stderr",
     "output_type": "stream",
     "text": [
      "WARNING: You are using pip version 22.0.4; however, version 22.2.1 is available.\n",
      "You should consider upgrading via the 'C:\\Users\\SSAFY\\AppData\\Local\\Programs\\Python\\Python39\\python.exe -m pip install --upgrade pip' command.\n"
     ]
    }
   ],
   "source": [
    "!pip install xmltodict"
   ]
  },
  {
   "cell_type": "code",
   "execution_count": 88,
   "id": "34cec599",
   "metadata": {},
   "outputs": [],
   "source": [
    "import xmltodict"
   ]
  },
  {
   "cell_type": "code",
   "execution_count": 98,
   "id": "844a9ee2",
   "metadata": {},
   "outputs": [
    {
     "name": "stdout",
     "output_type": "stream",
     "text": [
      "{'note': {'date': '2021-03-07',\n",
      "          'from': 'Khan',\n",
      "          'msg': \"Let's meet this weekend!\",\n",
      "          'time': '15:23',\n",
      "          'to': 'Sara'}}\n",
      "<class 'dict'>\n"
     ]
    }
   ],
   "source": [
    "import xmltodict\n",
    "import json\n",
    "from pprint import pprint\n",
    "\n",
    "dictionary = xmltodict.parse(\"\"\"<note>\n",
    "  <date>2021-03-07</date>\n",
    "  <time>15:23</time>\n",
    "  <to>Sara</to>\n",
    "  <from>Khan</from>\n",
    "  <msg>Let's meet this weekend!</msg>\n",
    "</note>\"\"\")\n",
    "pprint(dictionary)\n",
    "print(type(dictionary))"
   ]
  },
  {
   "cell_type": "code",
   "execution_count": null,
   "id": "7c431908",
   "metadata": {},
   "outputs": [],
   "source": []
  },
  {
   "cell_type": "code",
   "execution_count": 92,
   "id": "eb89d3d1",
   "metadata": {},
   "outputs": [
    {
     "name": "stdout",
     "output_type": "stream",
     "text": [
      "{\"note\": {\"date\": \"2021-03-07\", \"time\": \"15:23\", \"to\": \"Sara\", \"from\": \"Khan\", \"msg\": \"Let's meet this weekend!\"}}\n"
     ]
    }
   ],
   "source": [
    "json_object = json.dumps(dictionary)\n",
    "print(json_object)"
   ]
  },
  {
   "cell_type": "code",
   "execution_count": 93,
   "id": "48d54101",
   "metadata": {},
   "outputs": [
    {
     "data": {
      "text/plain": [
       "{'note': {'date': '2021-03-07',\n",
       "  'time': '15:23',\n",
       "  'to': 'Sara',\n",
       "  'from': 'Khan',\n",
       "  'msg': \"Let's meet this weekend!\"}}"
      ]
     },
     "execution_count": 93,
     "metadata": {},
     "output_type": "execute_result"
    }
   ],
   "source": [
    "json.loads(json_object)"
   ]
  },
  {
   "cell_type": "code",
   "execution_count": null,
   "id": "ff6c9a44",
   "metadata": {},
   "outputs": [],
   "source": []
  }
 ],
 "metadata": {
  "kernelspec": {
   "display_name": "Python 3 (ipykernel)",
   "language": "python",
   "name": "python3"
  },
  "language_info": {
   "codemirror_mode": {
    "name": "ipython",
    "version": 3
   },
   "file_extension": ".py",
   "mimetype": "text/x-python",
   "name": "python",
   "nbconvert_exporter": "python",
   "pygments_lexer": "ipython3",
   "version": "3.9.13"
  },
  "toc": {
   "base_numbering": 1,
   "nav_menu": {},
   "number_sections": true,
   "sideBar": true,
   "skip_h1_title": false,
   "title_cell": "Table of Contents",
   "title_sidebar": "Contents",
   "toc_cell": false,
   "toc_position": {},
   "toc_section_display": true,
   "toc_window_display": false
  }
 },
 "nbformat": 4,
 "nbformat_minor": 5
}
