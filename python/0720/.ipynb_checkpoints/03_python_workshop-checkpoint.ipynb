{
 "cells": [
  {
   "cell_type": "markdown",
   "id": "73caffe2",
   "metadata": {},
   "source": [
    "## 1. 세로로 출력하기\n",
    "자연수 number를 입력 받아, 1부터 number까지의 수를 세로로 한줄씩 출력하시오."
   ]
  },
  {
   "cell_type": "code",
   "execution_count": 2,
   "id": "678a6f86",
   "metadata": {},
   "outputs": [
    {
     "name": "stdout",
     "output_type": "stream",
     "text": [
      "10\n",
      "1\n",
      "2\n",
      "3\n",
      "4\n",
      "5\n",
      "6\n",
      "7\n",
      "8\n",
      "9\n",
      "10\n"
     ]
    }
   ],
   "source": [
    "num = int(input())\n",
    "for i in range(1,num + 1):\n",
    "    print(i)"
   ]
  },
  {
   "cell_type": "markdown",
   "id": "71f7080c",
   "metadata": {},
   "source": [
    "## 2. 가로로 출력하기\n",
    "자연수 number를 입력 받아, 1부터 number까지의 수를 가로로 한칸씩 띄어 출력하시오."
   ]
  },
  {
   "cell_type": "code",
   "execution_count": 3,
   "id": "16fae0f3",
   "metadata": {},
   "outputs": [
    {
     "name": "stdout",
     "output_type": "stream",
     "text": [
      "10\n",
      "1 2 3 4 5 6 7 8 9 10 "
     ]
    }
   ],
   "source": [
    "number = int(input())\n",
    "for i in range(1, number+1):\n",
    "    print(i,end=' ')"
   ]
  },
  {
   "cell_type": "markdown",
   "id": "9f4a6752",
   "metadata": {},
   "source": [
    "## 3. 거꾸로 세로로 출력하기\n",
    "자연수 number를 입력 받아, number부터 0까지의 수를 세로로 한줄씩 출력하시오."
   ]
  },
  {
   "cell_type": "code",
   "execution_count": 4,
   "id": "f56b3158",
   "metadata": {},
   "outputs": [
    {
     "name": "stdout",
     "output_type": "stream",
     "text": [
      "5\n",
      "5\n",
      "4\n",
      "3\n",
      "2\n",
      "1\n",
      "0\n"
     ]
    }
   ],
   "source": [
    "number = int(input())\n",
    "for i in range(number,-1,-1):\n",
    "    print(i)"
   ]
  },
  {
   "cell_type": "markdown",
   "id": "b0db10f4",
   "metadata": {},
   "source": [
    "## 4. 거꾸로 출력해 보아요 (SWEA #1545)\n",
    "자연수 number를 입력 받아, number부터 0까지의 수를 가로로 한칸씩 띄어 출력하시오."
   ]
  },
  {
   "cell_type": "code",
   "execution_count": 5,
   "id": "efcf8eff",
   "metadata": {},
   "outputs": [
    {
     "name": "stdout",
     "output_type": "stream",
     "text": [
      "5\n",
      "5 4 3 2 1 0 "
     ]
    }
   ],
   "source": [
    "number = int(input())\n",
    "for i in range(number, -1, -1):\n",
    "    print(i, end=' ')"
   ]
  },
  {
   "cell_type": "markdown",
   "id": "5878d309",
   "metadata": {},
   "source": [
    "## 5. N줄 덧셈 (SWEA #2025)\n",
    "입력으로 자연수 number가 주어질 때, 1부터 주어진 자연수 number까지를 모두 더한\n",
    "값을 출력하시오. 단, 주어지는 숫자는 10000을 넘지 않는다. 예를 들어, 주어진 숫자가\n",
    "10일 경우 1 + 2 + 3 + 4 + 5 + 6 + 7 + 8 + 9 + 10 = 55이므로, 출력해야 할 값은 55이다"
   ]
  },
  {
   "cell_type": "code",
   "execution_count": 7,
   "id": "cd9a2409",
   "metadata": {},
   "outputs": [
    {
     "name": "stdout",
     "output_type": "stream",
     "text": [
      "10\n",
      "55\n"
     ]
    }
   ],
   "source": [
    "number = int(input())\n",
    "sum_total = 0\n",
    "for i in range(1, number + 1):\n",
    "    sum_total += i\n",
    "print(sum_total)"
   ]
  },
  {
   "cell_type": "markdown",
   "id": "1f983874",
   "metadata": {},
   "source": [
    "## 6. 삼각형 출력하기\n",
    "자연수 number를 입력 받아, 아래와 같이 높이가 number인 삼각형을 출력하시오."
   ]
  },
  {
   "cell_type": "code",
   "execution_count": 23,
   "id": "d0e40a38",
   "metadata": {},
   "outputs": [
    {
     "name": "stdout",
     "output_type": "stream",
     "text": [
      "7\n",
      "      *\n",
      "     **\n",
      "    ***\n",
      "   ****\n",
      "  *****\n",
      " ******\n",
      "*******\n"
     ]
    },
    {
     "data": {
      "text/plain": [
       "\"for i in range(1, number+1):\\n    star = '*' * i\\n    print(f'{star:>{number}}')\""
      ]
     },
     "execution_count": 23,
     "metadata": {},
     "output_type": "execute_result"
    }
   ],
   "source": [
    "number = int(input())\n",
    "for i in range(1, number+1):\n",
    "    space = ' ' * (number - i)\n",
    "    star = '*' * i\n",
    "    print(space, end = '')\n",
    "    print(star, end = '')\n",
    "    print()\n",
    "\n",
    "\n",
    "'''for i in range(1, number+1):\n",
    "    star = '*' * i\n",
    "    print(f'{star:>{number}}')'''"
   ]
  },
  {
   "cell_type": "markdown",
   "id": "fed845f2",
   "metadata": {},
   "source": [
    "## 7. 중간값 찾기 (SWEA #2063 변형)\n",
    "중간값은 통계 집단의 수치를 크기 순으로 배열 했을 때 전체의 중앙에 위치하는 수치를\n",
    "뜻한다. 리스트 numbers에 입력된 숫자에서 중간값을 출력하라<br>numbers = [\n",
    "85, 72, 38, 80, 69, 65, 68, 96, 22, 49, 67,\n",
    "51, 61, 63, 87, 66, 24, 80, 83, 71, 60, 64,\n",
    "52, 90, 60, 49, 31, 23, 99, 94, 11, 25, 24,\n",
    "]"
   ]
  },
  {
   "cell_type": "code",
   "execution_count": 20,
   "id": "853c42b4",
   "metadata": {},
   "outputs": [
    {
     "name": "stdout",
     "output_type": "stream",
     "text": [
      "64\n"
     ]
    }
   ],
   "source": [
    "numbers = [\n",
    "85, 72, 38, 80, 69, 65, 68, 96, 22, 49, 67,\n",
    "51, 61, 63, 87, 66, 24, 80, 83, 71, 60, 64,\n",
    "52, 90, 60, 49, 31, 23, 99, 94, 11, 25, 24\n",
    "]\n",
    "numbers = sorted(numbers)\n",
    "numbers_count = len(numbers)\n",
    "midpoint = numbers_count // 2 + 1\n",
    "print(numbers[midpoint-1])"
   ]
  }
 ],
 "metadata": {
  "kernelspec": {
   "display_name": "Python 3 (ipykernel)",
   "language": "python",
   "name": "python3"
  },
  "language_info": {
   "codemirror_mode": {
    "name": "ipython",
    "version": 3
   },
   "file_extension": ".py",
   "mimetype": "text/x-python",
   "name": "python",
   "nbconvert_exporter": "python",
   "pygments_lexer": "ipython3",
   "version": "3.9.13"
  }
 },
 "nbformat": 4,
 "nbformat_minor": 5
}
