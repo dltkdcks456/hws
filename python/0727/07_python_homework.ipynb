{
 "cells": [
  {
   "cell_type": "markdown",
   "id": "9492e68c",
   "metadata": {},
   "source": [
    "# Python 07. 객체 지향 프로그래밍"
   ]
  },
  {
   "cell_type": "markdown",
   "id": "3f9d6dbc",
   "metadata": {},
   "source": [
    "## 1. Type Class\n",
    "Python은 객체 지향 프로그래밍 언어이다. Python에서 기본적으로 정의되어 있는\n",
    "클래스를 최소 5가지 이상 작성하시오."
   ]
  },
  {
   "cell_type": "code",
   "execution_count": 1,
   "id": "8aacd173",
   "metadata": {},
   "outputs": [
    {
     "data": {
      "text/plain": [
       "'str, int, list, tuple, map, zip, set, dict'"
      ]
     },
     "execution_count": 1,
     "metadata": {},
     "output_type": "execute_result"
    }
   ],
   "source": [
    "'str, int, list, tuple, map, zip, set, dict, range, float, bool'"
   ]
  },
  {
   "cell_type": "markdown",
   "id": "fc51ee78",
   "metadata": {},
   "source": [
    "## 2. Magic Method\n",
    "아래에 제시된 매직 메서드들이 각각 어떠한 역할을 하는지 간단하게 작성하시오."
   ]
  },
  {
   "cell_type": "markdown",
   "id": "a99ab382",
   "metadata": {},
   "source": [
    "1. __init__: 어떤 클래스의 인스턴스가 생성될 때 파이썬 인터프리터에 의해 자동으로 호출되는 메소드.(생성자)\n",
    "2. __del__: 인스턴스를 삭제할 때 수행되는 메소드(소멸자)\n",
    "3. __str__: 인스턴스가 print()할 때 보여지는 값(인스턴스의 문자열 버전)\n",
    "4. __repr__: 인스턴스 자체가 반환할 값"
   ]
  },
  {
   "cell_type": "markdown",
   "id": "d76290dd",
   "metadata": {},
   "source": [
    "## 3. Instance Method\n",
    ".sort() 와 같이 문자열, 리스트, 딕셔너리 등을 조작 할 때 사용하였던 것들은 클래스에\n",
    "정의된 메서드들이었다. 이처럼 문자열, 리스트, 딕셔너리 등을 조작하는 메서드를 최소\n",
    "3가지 이상 그 역할과 함께 작성하시오."
   ]
  },
  {
   "cell_type": "markdown",
   "id": "965f45ed",
   "metadata": {},
   "source": [
    "list<br>\n",
    "1) .sort(): 리스트 오름차순 정렬<br>\n",
    "2) .reverse(): 리스트 역정렬<br>\n",
    "3) .append():원소 추가<br>\n",
    "dict<br>\n",
    "1).get() : 해당 key의 value값 가져오기<br>\n",
    "2).pop() : 해당 키, 값 제거하여 반환<br>\n",
    "3).update() : 해당 딕셔너리 키, 값 수정 및 추가<br>\n",
    "str<br>\n",
    "1).upper(): 대문자 변환<br>\n",
    "2).lower(): 소문자 변환<br>\n",
    "3).find(): 해당 문자 위치 인덱스 반환, 없으면 -1 반환<br>\n"
   ]
  },
  {
   "cell_type": "markdown",
   "id": "a874e02c",
   "metadata": {},
   "source": [
    "## 4. 오류의 종류\n",
    "아래에 제시된 오류들이 각각 어떠한 경우에 발생하는지 간단하게 작성하시오."
   ]
  },
  {
   "cell_type": "markdown",
   "id": "9653fc02",
   "metadata": {},
   "source": [
    "ZeroDivisionError: 0으로 나눌 경우 발생<br>\n",
    "NameError: 존재하지 않은 변수를 입력했을 경우<br>\n",
    "TypeError: 요구되는 Type으로 입력되지 않을 경우<br>\n",
    "IndexError: 인덱스를 벗어났거나 존재하지 않는 경우<br>\n",
    "KeyError: 해당 키가 존재하지 않는 경우<br>\n",
    "ModuleNotFoundError: 모듈을 찾을 수 없는 경우, 잘못 입력<br>\n",
    "ImportError: Module은 있으나 존재하지 않는 클래스/함수를 가져오는 경우<br>"
   ]
  }
 ],
 "metadata": {
  "kernelspec": {
   "display_name": "Python 3 (ipykernel)",
   "language": "python",
   "name": "python3"
  },
  "language_info": {
   "codemirror_mode": {
    "name": "ipython",
    "version": 3
   },
   "file_extension": ".py",
   "mimetype": "text/x-python",
   "name": "python",
   "nbconvert_exporter": "python",
   "pygments_lexer": "ipython3",
   "version": "3.9.13"
  }
 },
 "nbformat": 4,
 "nbformat_minor": 5
}
