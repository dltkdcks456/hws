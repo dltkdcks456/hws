{
 "cells": [
  {
   "cell_type": "markdown",
   "id": "39aab8f0",
   "metadata": {},
   "source": [
    "# 클래스 - Team Sky 축구 게임"
   ]
  },
  {
   "cell_type": "markdown",
   "id": "2d6269cf",
   "metadata": {},
   "source": [
    "* 축구단 Team Sky를 구성할 각각의 선수를 프로그래밍하기"
   ]
  },
  {
   "cell_type": "markdown",
   "id": "0da76629",
   "metadata": {},
   "source": [
    "![image-2.png](image1.png)"
   ]
  },
  {
   "cell_type": "markdown",
   "id": "652cb353",
   "metadata": {},
   "source": [
    "* 클래스 선언"
   ]
  },
  {
   "cell_type": "code",
   "execution_count": 1,
   "id": "dafb3de0",
   "metadata": {},
   "outputs": [],
   "source": [
    "class player:\n",
    "    pass"
   ]
  },
  {
   "cell_type": "code",
   "execution_count": 2,
   "id": "fa35efc6",
   "metadata": {},
   "outputs": [],
   "source": [
    "player1 = player()"
   ]
  },
  {
   "cell_type": "code",
   "execution_count": 3,
   "id": "92c25068",
   "metadata": {},
   "outputs": [
    {
     "data": {
      "text/plain": [
       "<__main__.player at 0x1a83a0f9790>"
      ]
     },
     "execution_count": 3,
     "metadata": {},
     "output_type": "execute_result"
    }
   ],
   "source": [
    "player1"
   ]
  },
  {
   "cell_type": "markdown",
   "id": "6466d7d3",
   "metadata": {},
   "source": [
    "* team sky 선수가 가져야 하는 속성과 기능\n",
    "\n",
    "- 1. 모든 선수가 가져야 하는 속성: 팀이름, 이름, 등번호\n",
    "- 2. 모든 선수가 가져야 하는 기능: 드리블, 패스 기능\n",
    "- 3. 각각의 선수가 가져야 하는 기능: 역할별 기능( 공격하기, 공 배분하기, 수비하기, 슛 막기....)\n"
   ]
  },
  {
   "cell_type": "code",
   "execution_count": 20,
   "id": "a01cc4ba",
   "metadata": {},
   "outputs": [],
   "source": [
    "# 클래스 재선언\n",
    "\n",
    "class player:\n",
    "    team_name = 'team_sky'\n",
    "    \n",
    "    def __init__(self, name, number, role):\n",
    "        self.name = name\n",
    "        self.number = number\n",
    "        self.role = role\n",
    "        \n",
    "    def drible(self):\n",
    "        print('{}번 선수가 드리블합니다'.format(self.number))\n",
    "        \n",
    "    def pass_ball(self):\n",
    "        print(f'{self.number}번 {self.name}선수가 공을 패스합니다.')"
   ]
  },
  {
   "cell_type": "code",
   "execution_count": 21,
   "id": "b83a1389",
   "metadata": {},
   "outputs": [],
   "source": [
    "player1 = player('이상찬',7,'미드필더')"
   ]
  },
  {
   "cell_type": "code",
   "execution_count": 22,
   "id": "b36262a9",
   "metadata": {},
   "outputs": [
    {
     "data": {
      "text/plain": [
       "'이상찬'"
      ]
     },
     "execution_count": 22,
     "metadata": {},
     "output_type": "execute_result"
    }
   ],
   "source": [
    "player1.name"
   ]
  },
  {
   "cell_type": "code",
   "execution_count": 23,
   "id": "b7d0d656",
   "metadata": {},
   "outputs": [
    {
     "name": "stdout",
     "output_type": "stream",
     "text": [
      "7번 선수가 드리블합니다\n"
     ]
    }
   ],
   "source": [
    "player1.drible()"
   ]
  },
  {
   "cell_type": "code",
   "execution_count": 24,
   "id": "d1207d0f",
   "metadata": {},
   "outputs": [],
   "source": [
    "player2 = player('이상찬', 17, '골키퍼')"
   ]
  },
  {
   "cell_type": "code",
   "execution_count": 25,
   "id": "0094a77c",
   "metadata": {},
   "outputs": [
    {
     "name": "stdout",
     "output_type": "stream",
     "text": [
      "17번 선수가 드리블합니다\n"
     ]
    }
   ],
   "source": [
    "player2.drible()"
   ]
  },
  {
   "cell_type": "code",
   "execution_count": 26,
   "id": "f7d0b91a",
   "metadata": {},
   "outputs": [
    {
     "data": {
      "text/plain": [
       "'team_sky'"
      ]
     },
     "execution_count": 26,
     "metadata": {},
     "output_type": "execute_result"
    }
   ],
   "source": [
    "player1.team_name"
   ]
  },
  {
   "cell_type": "code",
   "execution_count": 27,
   "id": "58923aa3",
   "metadata": {},
   "outputs": [
    {
     "name": "stdout",
     "output_type": "stream",
     "text": [
      "17번 이상찬선수가 공을 패스합니다.\n"
     ]
    }
   ],
   "source": [
    "player2.pass_ball()"
   ]
  },
  {
   "cell_type": "code",
   "execution_count": 28,
   "id": "08d9d3ae",
   "metadata": {},
   "outputs": [],
   "source": [
    "# quiz] team_sky에 player3를 생성하라\n",
    "# team 이름도 바꿀 수 있다."
   ]
  },
  {
   "cell_type": "code",
   "execution_count": 29,
   "id": "357170e1",
   "metadata": {},
   "outputs": [],
   "source": [
    "player3 = player('양은진', 25, '공격수')"
   ]
  },
  {
   "cell_type": "code",
   "execution_count": 33,
   "id": "ec499531",
   "metadata": {},
   "outputs": [
    {
     "name": "stdout",
     "output_type": "stream",
     "text": [
      "양은진\n"
     ]
    }
   ],
   "source": [
    "print(player3.name)"
   ]
  },
  {
   "cell_type": "code",
   "execution_count": 31,
   "id": "e6f87458",
   "metadata": {},
   "outputs": [
    {
     "name": "stdout",
     "output_type": "stream",
     "text": [
      "25번 선수가 드리블합니다\n"
     ]
    }
   ],
   "source": [
    "player3.drible()"
   ]
  },
  {
   "cell_type": "code",
   "execution_count": 32,
   "id": "24d24462",
   "metadata": {},
   "outputs": [
    {
     "name": "stdout",
     "output_type": "stream",
     "text": [
      "25번 양은진선수가 공을 패스합니다.\n"
     ]
    }
   ],
   "source": [
    "player3.pass_ball()"
   ]
  },
  {
   "cell_type": "code",
   "execution_count": 34,
   "id": "8acb42cc",
   "metadata": {},
   "outputs": [],
   "source": [
    "# 클래스의 상속"
   ]
  },
  {
   "cell_type": "code",
   "execution_count": 35,
   "id": "4a358d8a",
   "metadata": {},
   "outputs": [],
   "source": [
    "# 선수 중 공격수 객체와 수비수 객체를 분리한다.\n",
    "# 공격수와 수비수는 모두 team_sky의 선수이지만, 각각의 역할에 따라 고유의 기능이 있다."
   ]
  },
  {
   "cell_type": "code",
   "execution_count": 62,
   "id": "ad027c0a",
   "metadata": {},
   "outputs": [],
   "source": [
    "class forward_player(player):\n",
    "    def make_shooting(self):\n",
    "        print(f'{self.team_name}팀 {self.number}번 {self.name}선수가 슛을 쏩니다 ')"
   ]
  },
  {
   "cell_type": "code",
   "execution_count": 63,
   "id": "8f457abc",
   "metadata": {},
   "outputs": [],
   "source": [
    "player3 = forward_player('양은진', 3, '스트라이커')"
   ]
  },
  {
   "cell_type": "code",
   "execution_count": 64,
   "id": "cb1667f1",
   "metadata": {},
   "outputs": [
    {
     "data": {
      "text/plain": [
       "'양은진'"
      ]
     },
     "execution_count": 64,
     "metadata": {},
     "output_type": "execute_result"
    }
   ],
   "source": [
    "player3.name"
   ]
  },
  {
   "cell_type": "code",
   "execution_count": 65,
   "id": "f45b3700",
   "metadata": {},
   "outputs": [
    {
     "data": {
      "text/plain": [
       "3"
      ]
     },
     "execution_count": 65,
     "metadata": {},
     "output_type": "execute_result"
    }
   ],
   "source": [
    "player3.number"
   ]
  },
  {
   "cell_type": "code",
   "execution_count": 66,
   "id": "8fb52d7e",
   "metadata": {},
   "outputs": [
    {
     "name": "stdout",
     "output_type": "stream",
     "text": [
      "3번 선수가 드리블합니다\n"
     ]
    }
   ],
   "source": [
    "player3.drible()"
   ]
  },
  {
   "cell_type": "code",
   "execution_count": 67,
   "id": "8091b706",
   "metadata": {},
   "outputs": [
    {
     "name": "stdout",
     "output_type": "stream",
     "text": [
      "3번 양은진선수가 공을 패스합니다.\n"
     ]
    }
   ],
   "source": [
    "player3.pass_ball()"
   ]
  },
  {
   "cell_type": "code",
   "execution_count": 68,
   "id": "f91939f2",
   "metadata": {},
   "outputs": [
    {
     "name": "stdout",
     "output_type": "stream",
     "text": [
      "team_sky팀 3번 양은진선수가 슛을 쏩니다 \n"
     ]
    }
   ],
   "source": [
    "player3.make_shooting()"
   ]
  },
  {
   "cell_type": "code",
   "execution_count": 69,
   "id": "c286e54a",
   "metadata": {},
   "outputs": [],
   "source": [
    "# quiz] 수비수 클래스(defender_player)를 player를 상속받아 선언하시오.\n",
    "# 수비수 클래스는 상대방의 공격을 막아내는 고유의 기능, 메소드를 갖는다."
   ]
  },
  {
   "cell_type": "code",
   "execution_count": 85,
   "id": "54c099d1",
   "metadata": {},
   "outputs": [],
   "source": [
    "class defender_player(player):\n",
    "    def tackle(self):\n",
    "        print(f'{self.team_name}팀 {self.number}번 {self.name}선수가 태클을 합니다 ')"
   ]
  },
  {
   "cell_type": "code",
   "execution_count": 79,
   "id": "d0ce38e2",
   "metadata": {},
   "outputs": [],
   "source": [
    "player2 = defender_player('이상찬', 17, '골키퍼')"
   ]
  },
  {
   "cell_type": "code",
   "execution_count": 80,
   "id": "bbad73b1",
   "metadata": {},
   "outputs": [
    {
     "data": {
      "text/plain": [
       "'이상찬'"
      ]
     },
     "execution_count": 80,
     "metadata": {},
     "output_type": "execute_result"
    }
   ],
   "source": [
    "player2.name"
   ]
  },
  {
   "cell_type": "code",
   "execution_count": 81,
   "id": "438c957b",
   "metadata": {},
   "outputs": [
    {
     "data": {
      "text/plain": [
       "'team_sky'"
      ]
     },
     "execution_count": 81,
     "metadata": {},
     "output_type": "execute_result"
    }
   ],
   "source": [
    "player2.team_name"
   ]
  },
  {
   "cell_type": "code",
   "execution_count": 83,
   "id": "7af3f52f",
   "metadata": {},
   "outputs": [
    {
     "name": "stdout",
     "output_type": "stream",
     "text": [
      "team_sky팀 17번 이상찬선수가 태클을 합니다 \n"
     ]
    }
   ],
   "source": [
    "player2.tackle()"
   ]
  },
  {
   "cell_type": "code",
   "execution_count": 84,
   "id": "bbd305c6",
   "metadata": {},
   "outputs": [],
   "source": [
    "# 클래스 오버라이딩 - 상속과 관련, 상속을 하되 고쳐 쓴다."
   ]
  },
  {
   "cell_type": "code",
   "execution_count": 86,
   "id": "c7af1ed3",
   "metadata": {},
   "outputs": [],
   "source": [
    "class goalkeeper_player(defender_player):\n",
    "    def tackle(self):\n",
    "        print(f'{self.team_name}팀 {self.number}번 {self.name}선수가 상대방의 볼을 잡았습니다.')"
   ]
  },
  {
   "cell_type": "code",
   "execution_count": 87,
   "id": "33734af0",
   "metadata": {},
   "outputs": [],
   "source": [
    "player1 = goalkeeper_player('김도원', 17, '골키퍼')"
   ]
  },
  {
   "cell_type": "code",
   "execution_count": 88,
   "id": "fe870d28",
   "metadata": {},
   "outputs": [
    {
     "data": {
      "text/plain": [
       "'김도원'"
      ]
     },
     "execution_count": 88,
     "metadata": {},
     "output_type": "execute_result"
    }
   ],
   "source": [
    "player1.name"
   ]
  },
  {
   "cell_type": "code",
   "execution_count": 89,
   "id": "ee52c264",
   "metadata": {},
   "outputs": [
    {
     "data": {
      "text/plain": [
       "'team_sky'"
      ]
     },
     "execution_count": 89,
     "metadata": {},
     "output_type": "execute_result"
    }
   ],
   "source": [
    "player1.team_name"
   ]
  },
  {
   "cell_type": "code",
   "execution_count": 90,
   "id": "c148d284",
   "metadata": {},
   "outputs": [
    {
     "name": "stdout",
     "output_type": "stream",
     "text": [
      "team_sky팀 17번 김도원선수가 상대방의 볼을 잡았습니다.\n"
     ]
    }
   ],
   "source": [
    "player1.tackle()"
   ]
  },
  {
   "cell_type": "code",
   "execution_count": 91,
   "id": "1e91b8f1",
   "metadata": {},
   "outputs": [
    {
     "name": "stdout",
     "output_type": "stream",
     "text": [
      "17번 선수가 드리블합니다\n"
     ]
    }
   ],
   "source": [
    "player1.drible()"
   ]
  },
  {
   "cell_type": "code",
   "execution_count": null,
   "id": "5082e3e4",
   "metadata": {},
   "outputs": [],
   "source": []
  }
 ],
 "metadata": {
  "kernelspec": {
   "display_name": "Python 3 (ipykernel)",
   "language": "python",
   "name": "python3"
  },
  "language_info": {
   "codemirror_mode": {
    "name": "ipython",
    "version": 3
   },
   "file_extension": ".py",
   "mimetype": "text/x-python",
   "name": "python",
   "nbconvert_exporter": "python",
   "pygments_lexer": "ipython3",
   "version": "3.9.13"
  }
 },
 "nbformat": 4,
 "nbformat_minor": 5
}
