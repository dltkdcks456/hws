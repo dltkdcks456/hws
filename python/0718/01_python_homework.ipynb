{
 "cells": [
  {
   "cell_type": "markdown",
   "id": "ce82953e",
   "metadata": {},
   "source": [
    "# Python 01. 기초문법과 변수 데이터 타입"
   ]
  },
  {
   "cell_type": "markdown",
   "id": "deabe62b",
   "metadata": {},
   "source": [
    "## 1. Python 예약어\n",
    "python에서 사용할 수 없는 식별자(예약어)를 찾아 작성하시오"
   ]
  },
  {
   "cell_type": "code",
   "execution_count": 5,
   "id": "97e35949",
   "metadata": {},
   "outputs": [
    {
     "name": "stdout",
     "output_type": "stream",
     "text": [
      "['False', 'None', 'True', '__peg_parser__', 'and', 'as', 'assert', 'async', 'await', 'break', 'class', 'continue', 'def', 'del', 'elif', 'else', 'except', 'finally', 'for', 'from', 'global', 'if', 'import', 'in', 'is', 'lambda', 'nonlocal', 'not', 'or', 'pass', 'raise', 'return', 'try', 'while', 'with', 'yield']\n"
     ]
    }
   ],
   "source": [
    "import keyword\n",
    "print(keyword.kwlist)"
   ]
  },
  {
   "cell_type": "markdown",
   "id": "23260302",
   "metadata": {},
   "source": [
    "## 2. 실수 비교\n",
    "python은 부동소수점 방식을 이용하여 실수(float)를 표현하는 과정에서, 나타내고자 하는\n",
    "값과의 오차가 발생하여 원하는 대로 연산 또는 비교가 되지 않을 때가 있다. \n",
    "이를 참고하여, 아래와 같은 두 실수 값을 올바르게 비교하기 위한 코드를 작성하시오.\n",
    "<br>num1 = 0.1 * 3<br>\n",
    "num2 = 0.3 "
   ]
  },
  {
   "cell_type": "code",
   "execution_count": 4,
   "id": "49b69d92",
   "metadata": {},
   "outputs": [
    {
     "name": "stdout",
     "output_type": "stream",
     "text": [
      "True\n"
     ]
    }
   ],
   "source": [
    "import math\n",
    "num1 = 0.1 * 3\n",
    "num2 = 0.3\n",
    "print(math.isclose(num1,num2))"
   ]
  },
  {
   "cell_type": "markdown",
   "id": "e43c9bd6",
   "metadata": {},
   "source": [
    "## 3. 이스케이프 시퀀스\n",
    "(1) 줄 바꿈, (2) 탭, (3) 백슬래시를 의미하는 이스케이프 시퀀스를 작성하시오."
   ]
  },
  {
   "cell_type": "code",
   "execution_count": 11,
   "id": "7cd10bd3",
   "metadata": {},
   "outputs": [
    {
     "name": "stdout",
     "output_type": "stream",
     "text": [
      "(1) '\\n'\n",
      "(2) '\\t'\n",
      "(3) '\\\\'\n"
     ]
    }
   ],
   "source": [
    "print(f'(1) \\'\\\\n\\'')\n",
    "print(f'(2) \\'\\\\t\\'')\n",
    "print(f'(3) \\'\\\\\\\\\\'')"
   ]
  },
  {
   "cell_type": "markdown",
   "id": "39b2ef8d",
   "metadata": {},
   "source": [
    "## 4. String Interpolation\n",
    "`안녕, 철수야` 를 string interpolation을 사용하여 출력하시오."
   ]
  },
  {
   "cell_type": "code",
   "execution_count": 12,
   "id": "d27712b6",
   "metadata": {},
   "outputs": [
    {
     "name": "stdout",
     "output_type": "stream",
     "text": [
      "안녕, 철수야\n"
     ]
    }
   ],
   "source": [
    "name = '철수'\n",
    "print(f'안녕, {name}야')"
   ]
  },
  {
   "cell_type": "markdown",
   "id": "814def0f",
   "metadata": {},
   "source": [
    "## 5. 형 변환\n",
    "다음 중, 실행 시 오류가 발생하는 코드를 고르시오."
   ]
  },
  {
   "cell_type": "code",
   "execution_count": 21,
   "id": "93642f77",
   "metadata": {},
   "outputs": [
    {
     "name": "stdout",
     "output_type": "stream",
     "text": [
      "int('3.5')가 오류 발생하는 코드이다.\n"
     ]
    }
   ],
   "source": [
    "print(\"int(\\'3.5\\')가 오류 발생하는 코드이다.\")"
   ]
  },
  {
   "cell_type": "markdown",
   "id": "5ba4e847",
   "metadata": {},
   "source": [
    "## 6. 네모 출력\n",
    "두 개의 정수 n과 m이 주어졌을 때, 가로의 길이가 n, 세로의 길이가 m인\n",
    "직사각형 형태를 별(*) 문자를 이용하여 출력하시오. 단, 반복문은 사용할 수 없다"
   ]
  },
  {
   "cell_type": "code",
   "execution_count": 22,
   "id": "98322fef",
   "metadata": {},
   "outputs": [
    {
     "name": "stdout",
     "output_type": "stream",
     "text": [
      "*****\n",
      "*****\n",
      "*****\n",
      "*****\n",
      "*****\n",
      "*****\n",
      "*****\n",
      "*****\n",
      "*****\n",
      "\n"
     ]
    }
   ],
   "source": [
    "n = 5\n",
    "m = 9\n",
    "star_rec = ('*' * 5 + '\\n') * m\n",
    "print(star_rec)"
   ]
  },
  {
   "cell_type": "markdown",
   "id": "5617bb78",
   "metadata": {},
   "source": [
    "## 7. 이스케이프 시퀀스 응용\n",
    "print() 함수를 한 번만 사용하여 다음 문장을 출력하시오"
   ]
  },
  {
   "cell_type": "code",
   "execution_count": 31,
   "id": "43eaeb9c",
   "metadata": {},
   "outputs": [
    {
     "name": "stdout",
     "output_type": "stream",
     "text": [
      "\"파일은 c:\\Windows\\Users\\내문서\\Python에 저장이 되었습니다.\"\n",
      "나는 생각했다. 'cd를 써서 git bash로 들어가 봐야지'\n"
     ]
    }
   ],
   "source": [
    "print('\\\"파일은 c:\\\\Windows\\\\Users\\\\내문서\\\\Python에 저장이 되었습니다.\\\"\\n'\"나는 생각했다. \\'cd를 써서 git bash로 들어가 봐야지\\'\")"
   ]
  },
  {
   "cell_type": "markdown",
   "id": "63885709",
   "metadata": {},
   "source": [
    "## 8. 근의 공식\n",
    "다음은 이차 방정식의 근을 찾는 수식이다. 이를 파이썬 코드로 작성하시오.<br>± 는 + , - 로 나눠서 따로 작성하시오"
   ]
  },
  {
   "cell_type": "code",
   "execution_count": 34,
   "id": "c4054d1c",
   "metadata": {},
   "outputs": [
    {
     "name": "stdout",
     "output_type": "stream",
     "text": [
      "4\n",
      "6\n",
      "2\n",
      "-1.0 -0.5\n"
     ]
    }
   ],
   "source": [
    "a = float(input())\n",
    "b = float(input())\n",
    "c = float(input())\n",
    "x1 = (-b - (b**2 - 4 * a * c)**(1/2))/(2*a)\n",
    "x2 = (-b + (b**2 - 4 * a * c)**(1/2))/(2*a)\n",
    "print(x1, x2)"
   ]
  }
 ],
 "metadata": {
  "kernelspec": {
   "display_name": "Python 3 (ipykernel)",
   "language": "python",
   "name": "python3"
  },
  "language_info": {
   "codemirror_mode": {
    "name": "ipython",
    "version": 3
   },
   "file_extension": ".py",
   "mimetype": "text/x-python",
   "name": "python",
   "nbconvert_exporter": "python",
   "pygments_lexer": "ipython3",
   "version": "3.9.13"
  }
 },
 "nbformat": 4,
 "nbformat_minor": 5
}
