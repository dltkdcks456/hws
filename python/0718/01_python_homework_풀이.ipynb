{
 "cells": [
  {
   "cell_type": "markdown",
   "id": "e62202fa",
   "metadata": {},
   "source": [
    "# Python 01. 기초문법과 변수 데이터 타입"
   ]
  },
  {
   "cell_type": "markdown",
   "id": "5527a737",
   "metadata": {},
   "source": [
    "## 1. Python 예약어\n",
    "python에서 사용할 수 없는 식별자(예약어)를 찾아 작성하시오."
   ]
  },
  {
   "cell_type": "code",
   "execution_count": 4,
   "id": "76666d5a",
   "metadata": {},
   "outputs": [
    {
     "name": "stdout",
     "output_type": "stream",
     "text": [
      "['False', 'None', 'True', '__peg_parser__', 'and', 'as', 'assert', 'async', 'await', 'break', 'class', 'continue', 'def', 'del', 'elif', 'else', 'except', 'finally', 'for', 'from', 'global', 'if', 'import', 'in', 'is', 'lambda', 'nonlocal', 'not', 'or', 'pass', 'raise', 'return', 'try', 'while', 'with', 'yield']\n"
     ]
    }
   ],
   "source": [
    "import keyword\n",
    "print(keyword.kwlist) #메모리에 담겨있는 값이 출력이 됨. 주피터의 특징"
   ]
  },
  {
   "cell_type": "markdown",
   "id": "6dd65880",
   "metadata": {},
   "source": [
    "## 2. 실수 비교\n",
    "python은 부동소수점 방식을 이용하여 실수(float)를 표현하는 과정에서, 나타내고자 하는\n",
    "값과의 오차가 발생하여 원하는 대로 연산 또는 비교가 되지 않을 때가 있다. \n",
    "이를 참고하여, 아래와 같은 두 실수 값을 올바르게 비교하기 위한 코드를 작성하시오."
   ]
  },
  {
   "cell_type": "code",
   "execution_count": 11,
   "id": "4f48b505",
   "metadata": {},
   "outputs": [
    {
     "data": {
      "text/plain": [
       "True"
      ]
     },
     "execution_count": 11,
     "metadata": {},
     "output_type": "execute_result"
    }
   ],
   "source": [
    "num1 = 0.1 * 3\n",
    "num2 = 0.3\n",
    "import math\n",
    "math.isclose(num1, num2) #semantic Error라 부름(의미적 오류), Syntatic Error(문법적 오류)\n",
    "#나중에 협업 할 때 sementic Error가 종종 나기 때문에, 서로의 코드를 봐줘야함"
   ]
  },
  {
   "cell_type": "markdown",
   "id": "3c3ecd04",
   "metadata": {},
   "source": [
    "## 2. 실수 비교\n",
    "python은 부동소수점 방식을 이용하여 실수(float)를 표현하는 과정에서, 나타내고자 하는\n",
    "값과의 오차가 발생하여 원하는 대로 연산 또는 비교가 되지 않을 때가 있다. \n",
    "이를 참고하여, 아래와 같은 두 실수 값을 올바르게 비교하기 위한 코드를 작성하시오."
   ]
  },
  {
   "cell_type": "code",
   "execution_count": null,
   "id": "43e233d3",
   "metadata": {},
   "outputs": [],
   "source": [
    "'\\n'\n",
    "'\\t'\n",
    "'\\\\'"
   ]
  },
  {
   "cell_type": "code",
   "execution_count": 10,
   "id": "5ba506a0",
   "metadata": {},
   "outputs": [
    {
     "name": "stdout",
     "output_type": "stream",
     "text": [
      "\n",
      "\n",
      "\t\n",
      "\\\n"
     ]
    }
   ],
   "source": [
    "print('줄바꿈입니다\\n줄바꿈입니다')\n",
    "print('탭입니다\\t탭입니다')\n",
    "print('\\\\')"
   ]
  },
  {
   "cell_type": "markdown",
   "id": "aa69aee5",
   "metadata": {},
   "source": [
    "## 4. String Interpolation\n",
    "안녕, 철수야 를 string interpolation을 사용하여 출력하시오"
   ]
  },
  {
   "cell_type": "code",
   "execution_count": 13,
   "id": "4ef7957b",
   "metadata": {},
   "outputs": [
    {
     "name": "stdout",
     "output_type": "stream",
     "text": [
      "안녕, 철수야.\n"
     ]
    }
   ],
   "source": [
    "# 방법1. 문자열 method string format 활용\n",
    "name = '철수'\n",
    "print(\"안녕, {}야.\".format(name)) # .은 소속을 의미 그 앞 문자열의 메소드  string format이다."
   ]
  },
  {
   "cell_type": "code",
   "execution_count": 14,
   "id": "8d5d5738",
   "metadata": {},
   "outputs": [
    {
     "name": "stdout",
     "output_type": "stream",
     "text": [
      "안녕, 철수야\n"
     ]
    }
   ],
   "source": [
    "# 방법2. fstring\n",
    "name = \"철수\"\n",
    "print(f\"안녕, {name}야\")"
   ]
  },
  {
   "cell_type": "markdown",
   "id": "c0312984",
   "metadata": {},
   "source": [
    "## 5. 형 변환\n",
    "다음 중, 실행 시 오류가 발생하는 코드를 고르시오."
   ]
  },
  {
   "cell_type": "code",
   "execution_count": 15,
   "id": "c8b870b3",
   "metadata": {},
   "outputs": [],
   "source": [
    "# invalid character은 파이썬이 인식하지 못하는 기호가 사용되었을 때"
   ]
  },
  {
   "cell_type": "code",
   "execution_count": 16,
   "id": "38382b43",
   "metadata": {},
   "outputs": [
    {
     "data": {
      "text/plain": [
       "30"
      ]
     },
     "execution_count": 16,
     "metadata": {},
     "output_type": "execute_result"
    }
   ],
   "source": [
    "int('   30     ')"
   ]
  },
  {
   "cell_type": "code",
   "execution_count": 17,
   "id": "ecef2826",
   "metadata": {},
   "outputs": [],
   "source": [
    "# boolean의 본질은 어떤 값이든 참, 거짓으로 표현됨. 있다/없다\n",
    "#정수 0\n",
    "#실수 0.0\n",
    "#문자열 ''\n",
    "#리스트 []\n",
    "#bool(' ') space는 정확히 하나의 문자이므로 True로 결과가 나온다."
   ]
  },
  {
   "cell_type": "markdown",
   "id": "184cc3d7",
   "metadata": {},
   "source": [
    "## 5. 형 변환\n",
    "다음 중, 실행 시 오류가 발생하는 코드를 고르시오."
   ]
  },
  {
   "cell_type": "code",
   "execution_count": 19,
   "id": "783b74e8",
   "metadata": {},
   "outputs": [
    {
     "name": "stdout",
     "output_type": "stream",
     "text": [
      "*****\n",
      "*****\n",
      "*****\n",
      "*****\n",
      "*****\n",
      "*****\n",
      "*****\n",
      "*****\n",
      "*****\n",
      "\n"
     ]
    }
   ],
   "source": [
    "n = 5\n",
    "m = 9\n",
    "print(('*' * n + '\\n')*m)\n",
    "# +: 연결, *: 반복"
   ]
  },
  {
   "cell_type": "markdown",
   "id": "7181e28f",
   "metadata": {},
   "source": [
    "GIt 안에 Git이 만들어질 수 있음. 내부에 포함된 깃을 삭제하는 게 좋음\n",
    "git.init은 남용하지 않을 것!!!!!\n",
    "\n",
    "쥬피터 노트북은 어디서든 사용할 수 있음."
   ]
  },
  {
   "cell_type": "markdown",
   "id": "59a2d3c0",
   "metadata": {},
   "source": [
    "## 7. 이스케이프 시퀀스 응용\n",
    "print() 함수를 한 번만 사용하여 다음 문장을 출력하시오\n",
    "(문자열 출력에 활용하기 위해서)"
   ]
  },
  {
   "cell_type": "code",
   "execution_count": 24,
   "id": "152e8a9e",
   "metadata": {},
   "outputs": [
    {
     "name": "stdout",
     "output_type": "stream",
     "text": [
      "\"파일은 c:\\Windows\\Users\\내문서\\Python에 저장이 되었습니다.\" \n",
      "나는 생각했다. 'cd를 써서 git bash로 들어가 봐야지'\n"
     ]
    }
   ],
   "source": [
    "print('\"파일은 c:\\\\Windows\\\\Users\\\\내문서\\\\Python에 저장이 되었습니다.\" \\n나는 생각했다. \\'cd를 써서 git bash로 들어가 봐야지\\'')"
   ]
  },
  {
   "cell_type": "markdown",
   "id": "059a323d",
   "metadata": {},
   "source": [
    "## 8. 근의 공식\n",
    "다음은 이차 방정식의 근을 찾는 수식이다. 이를 파이썬 코드로 작성하시오."
   ]
  },
  {
   "cell_type": "markdown",
   "id": "d64930b5",
   "metadata": {},
   "source": [
    "![image.png](./images/image1.png)"
   ]
  },
  {
   "cell_type": "markdown",
   "id": "856dc8fd",
   "metadata": {},
   "source": [
    "`± `는 `+` , `-` 로 나눠서 따로 작성하시오."
   ]
  },
  {
   "cell_type": "code",
   "execution_count": 4,
   "id": "ad835d9c",
   "metadata": {},
   "outputs": [
    {
     "ename": "SyntaxError",
     "evalue": "invalid syntax (2571458840.py, line 1)",
     "output_type": "error",
     "traceback": [
      "\u001b[1;36m  Input \u001b[1;32mIn [4]\u001b[1;36m\u001b[0m\n\u001b[1;33m    <img src=\".\\images\\image1.png\" width='200' height='100'/>\u001b[0m\n\u001b[1;37m    ^\u001b[0m\n\u001b[1;31mSyntaxError\u001b[0m\u001b[1;31m:\u001b[0m invalid syntax\n"
     ]
    }
   ],
   "source": [
    "<img src=\".\\images\\image1.png\" width='200' height='100'/>\n",
    "#<: 태그, 끝나는 태그는 슬래쉬있어야한다."
   ]
  },
  {
   "cell_type": "markdown",
   "id": "f9d9cd5b",
   "metadata": {},
   "source": [
    "(-b + ((b**2)-(4*a*c))**(1/2))/(2*a)\n",
    "(-b -((b**2)-(4*a*c))**(1/2))/(2*a)"
   ]
  },
  {
   "cell_type": "markdown",
   "id": "8a980199",
   "metadata": {},
   "source": [
    "## 4. 문자형의 입력과 출력\n",
    "입력 받은 문자를 출력하는 프로그램을 작성하시오.\n",
    "(힌트 : input() 함수를 활용하여 데이터를 입력받을 수 있다.) "
   ]
  },
  {
   "cell_type": "code",
   "execution_count": 29,
   "id": "249501a3",
   "metadata": {},
   "outputs": [
    {
     "name": "stdout",
     "output_type": "stream",
     "text": [
      "2 * 3의 결과를 입력하세요\n",
      "6\n"
     ]
    },
    {
     "data": {
      "text/plain": [
       "'6'"
      ]
     },
     "execution_count": 29,
     "metadata": {},
     "output_type": "execute_result"
    }
   ],
   "source": [
    "input('2 * 3의 결과를 입력하세요\\n')"
   ]
  },
  {
   "cell_type": "markdown",
   "id": "85e81e42",
   "metadata": {},
   "source": [
    "Input\n",
    "1. 어떠한 입력도 문자열로 인식한다. ex)\"' 답 '\", '\" 답 \"'\n",
    "2. Input(' 가이드 작성 ') -> 무조건 문자열로 인식"
   ]
  },
  {
   "cell_type": "code",
   "execution_count": 31,
   "id": "f18cb3d0",
   "metadata": {},
   "outputs": [],
   "source": [
    "#Out은 파이썬 메모리에 저장된 내용이 출력!"
   ]
  },
  {
   "cell_type": "code",
   "execution_count": 32,
   "id": "9f5485a9",
   "metadata": {},
   "outputs": [],
   "source": [
    "#키보드 인터럽트는 커널을 죽인다. 즉 ■을 누르면 된다."
   ]
  },
  {
   "cell_type": "markdown",
   "id": "4daa9d88",
   "metadata": {},
   "source": [
    "literal: 문자 그대로\n",
    "자료형이 literal이다: 절대 바꿀 수 없는 것. 메모리에 바꿀 수 없는 것. 3의 의미"
   ]
  }
 ],
 "metadata": {
  "kernelspec": {
   "display_name": "Python 3 (ipykernel)",
   "language": "python",
   "name": "python3"
  },
  "language_info": {
   "codemirror_mode": {
    "name": "ipython",
    "version": 3
   },
   "file_extension": ".py",
   "mimetype": "text/x-python",
   "name": "python",
   "nbconvert_exporter": "python",
   "pygments_lexer": "ipython3",
   "version": "3.9.13"
  },
  "toc": {
   "base_numbering": 1,
   "nav_menu": {},
   "number_sections": true,
   "sideBar": true,
   "skip_h1_title": false,
   "title_cell": "Table of Contents",
   "title_sidebar": "Contents",
   "toc_cell": false,
   "toc_position": {},
   "toc_section_display": true,
   "toc_window_display": false
  }
 },
 "nbformat": 4,
 "nbformat_minor": 5
}
