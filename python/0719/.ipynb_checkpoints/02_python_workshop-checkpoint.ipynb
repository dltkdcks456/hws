{
 "cells": [
  {
   "cell_type": "markdown",
   "id": "d099d27a",
   "metadata": {},
   "source": [
    "# Python 02. 데이터 타입 및 형 변환"
   ]
  },
  {
   "cell_type": "markdown",
   "id": "c181e055",
   "metadata": {},
   "source": [
    "## 1. 숫자의 입력과 출력\n",
    "입력 받은 데이터를 숫자로 변환하고 덧셈해서 출력하는 프로그램을 작성하시오.\n",
    "(힌트 : input() 함수를 활용하여 데이터를 입력받을 수 있다.)"
   ]
  },
  {
   "cell_type": "code",
   "execution_count": 1,
   "id": "d6c8e8be",
   "metadata": {},
   "outputs": [
    {
     "name": "stdout",
     "output_type": "stream",
     "text": [
      "6374\n",
      "8729\n",
      "15103\n"
     ]
    }
   ],
   "source": [
    "a = int(input())\n",
    "b = int(input())\n",
    "print(a + b)"
   ]
  },
  {
   "cell_type": "markdown",
   "id": "9910ffaa",
   "metadata": {},
   "source": [
    "## 2. Dictionary를 활용하여 평균 구하기\n",
    "좋아하는 점심메뉴를 이용하여 key는 메뉴, value는 가격인 dictionary를 만들고,\n",
    "점심메뉴의 평균 값을 출력하시오."
   ]
  },
  {
   "cell_type": "code",
   "execution_count": 3,
   "id": "8b38f954",
   "metadata": {},
   "outputs": [
    {
     "name": "stdout",
     "output_type": "stream",
     "text": [
      "6625.0\n"
     ]
    }
   ],
   "source": [
    "lunch_menu = {'부대찌개' : 8000, \"된장찌개\" : 6000, \"해물칼국수\" : 5500, \"오므라이스\" : 7000}\n",
    "total_sum = sum(lunch_menu.values())\n",
    "num_menu = len(lunch_menu.values())\n",
    "average_lunch_menu = total_sum / num_menu\n",
    "print(average_lunch_menu)"
   ]
  }
 ],
 "metadata": {
  "kernelspec": {
   "display_name": "Python 3 (ipykernel)",
   "language": "python",
   "name": "python3"
  },
  "language_info": {
   "codemirror_mode": {
    "name": "ipython",
    "version": 3
   },
   "file_extension": ".py",
   "mimetype": "text/x-python",
   "name": "python",
   "nbconvert_exporter": "python",
   "pygments_lexer": "ipython3",
   "version": "3.9.13"
  }
 },
 "nbformat": 4,
 "nbformat_minor": 5
}
