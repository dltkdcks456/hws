{
 "cells": [
  {
   "cell_type": "markdown",
   "id": "19b34677",
   "metadata": {},
   "source": [
    "# Python 02. 기초문법과 데이터 타입 및 형 변환"
   ]
  },
  {
   "cell_type": "markdown",
   "id": "62b60339",
   "metadata": {},
   "source": [
    "## 1. Mutable & Immutable\n",
    "주어진 컨테이너들을 각각 변경 가능한 것(mutable)과\n",
    "변경 불가능한 것(immutable)으로 분류하시오.\n",
    "String, List, Tuple, Range, Set, Dictionary"
   ]
  },
  {
   "cell_type": "code",
   "execution_count": 3,
   "id": "89694041",
   "metadata": {},
   "outputs": [
    {
     "name": "stdout",
     "output_type": "stream",
     "text": [
      "변경 가능한 것(mutable): List, Set, Dictionary\n",
      "변경 불가능한 것(immutable): String, Tuple, Range\n"
     ]
    }
   ],
   "source": [
    "print(f'''변경 가능한 것(mutable): List, Set, Dictionary\n",
    "변경 불가능한 것(immutable): String, Tuple, Range''')"
   ]
  },
  {
   "cell_type": "markdown",
   "id": "f2279f8d",
   "metadata": {},
   "source": [
    "## 2. Dictionary 만들기\n",
    "반 학생들의 정보를 이용하여 key는 이름, value는 나이인 dictionary를 만드시오.\n",
    "내 자리를 기준으로 앞, 뒤, 좌, 우에 앉아 있는 학생의 정보를 참고하시오."
   ]
  },
  {
   "cell_type": "code",
   "execution_count": 4,
   "id": "3b6b484c",
   "metadata": {},
   "outputs": [
    {
     "name": "stdout",
     "output_type": "stream",
     "text": [
      "{'이상찬': 31, '이미현': 26, '박준표': 30, '황호선': 31}\n"
     ]
    }
   ],
   "source": [
    "student = {\"이상찬\" : 31, \"이미현\" : 26, \"박준표\" : 30, \"황호선\" : 31}\n",
    "print(student)"
   ]
  },
  {
   "cell_type": "markdown",
   "id": "019e479c",
   "metadata": {},
   "source": [
    "## 3. 평균 구하기\n",
    "주어진 list에 담긴 숫자들의 평균값을 출력하시오.\n",
    "<br>scores = [80, 89, 99, 83] # => 87.75"
   ]
  },
  {
   "cell_type": "code",
   "execution_count": 6,
   "id": "6f653c48",
   "metadata": {},
   "outputs": [
    {
     "name": "stdout",
     "output_type": "stream",
     "text": [
      "87.75\n"
     ]
    }
   ],
   "source": [
    "scores = [80, 89, 99, 83]\n",
    "total_sum = sum(scores)\n",
    "num_sum = len(scores)\n",
    "average_scores = total_sum / num_sum\n",
    "print(average_scores)"
   ]
  }
 ],
 "metadata": {
  "kernelspec": {
   "display_name": "Python 3 (ipykernel)",
   "language": "python",
   "name": "python3"
  },
  "language_info": {
   "codemirror_mode": {
    "name": "ipython",
    "version": 3
   },
   "file_extension": ".py",
   "mimetype": "text/x-python",
   "name": "python",
   "nbconvert_exporter": "python",
   "pygments_lexer": "ipython3",
   "version": "3.9.13"
  }
 },
 "nbformat": 4,
 "nbformat_minor": 5
}
