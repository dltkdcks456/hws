{
 "cells": [
  {
   "cell_type": "markdown",
   "id": "7abbd5a6",
   "metadata": {},
   "source": [
    "# Web 01. HTML & CSS"
   ]
  },
  {
   "cell_type": "markdown",
   "id": "c2b78004",
   "metadata": {},
   "source": [
    "## 1. `<img>` tag\n",
    "<그림1>과 같은 폴더 구조가 있다. resume.html에서 코드를 작성 중일 때,\n",
    "image 폴더 안의 my_ssafy.png를 보여주는 `<img>` tag를 작성하시오.\n",
    "단, 이미지가 제대로 출력되지 않을 때는 ssafy 문자열이 출력 되도록 작성하시오."
   ]
  },
  {
   "cell_type": "markdown",
   "id": "ba2697aa",
   "metadata": {},
   "source": [
    "<img src=\"C:\\Users\\SSAFY_SangChan\\Desktop\\03_web\\0801\\HWS\\01_web_workshop\\ssafy\\image\\my_ssafy.png\" alt=\"ssafy\">"
   ]
  },
  {
   "cell_type": "markdown",
   "id": "6b0c2d48",
   "metadata": {},
   "source": [
    "## 2. 파일 경로\n",
    "위와 같이 경로를 (a)로 작성 할 시, github에 업로드 하거나 전체 폴더의 위치가\n",
    "변경 되었을 때 이미지를 불러 올 수 없게 된다.\n",
    "이를 해결 하려면 이미지 경로를 (b)로 바꾸어 작성하면 된다.\n",
    "(a)와 (b)에 들어갈 경로를 작성하시오."
   ]
  },
  {
   "cell_type": "markdown",
   "id": "7e146004",
   "metadata": {},
   "source": [
    "**(a): 절대경로 - C:\\Users\\SSAFY_SangChan\\Desktop\\03_web\\0801\\HWS\\01_web_workshop\\ssafy\\image\\my_ssafy.png<br>\n",
    "(b): 상대경로 - ../image/my_ssafy.png**"
   ]
  },
  {
   "cell_type": "markdown",
   "id": "5d2c759f",
   "metadata": {},
   "source": [
    "## 3. Hyper Link (1, 2번 문제 연계)\n",
    "출력된 my_ssafy.png 이미지를 클릭하면 ssafy.com으로 이동하도록 코드를 수정하시오. "
   ]
  },
  {
   "cell_type": "code",
   "execution_count": null,
   "id": "2165ecaf",
   "metadata": {},
   "outputs": [],
   "source": [
    "<a href=\"https://www.ssafy.com\">\n",
    "  <img src=\"../image/my_ssafy.png\" alt=\"ssafy\">\n",
    "</a>"
   ]
  },
  {
   "cell_type": "markdown",
   "id": "9db70243",
   "metadata": {},
   "source": [
    "## 4. 선택자\n",
    "1) 아래의 코드를 작성하고 결과를 확인 하시오."
   ]
  },
  {
   "cell_type": "code",
   "execution_count": null,
   "id": "fd9d8d6f",
   "metadata": {},
   "outputs": [],
   "source": [
    "<!DOCTYPE html>\n",
    "<html lang=\"en\">\n",
    "<head>\n",
    "    <meta charset=\"UTF-8\">\n",
    "    <meta http-equiv=\"X-UA-Compatible\" content=\"IE=edge\">\n",
    "    <meta name=\"viewport\" content=\"width=device-width, initial-scale=1.0\">\n",
    "    <title>Document</title>\n",
    "    <style>\n",
    "        #ssafy > p:nth-child(2){\n",
    "        color: red;\n",
    "        }\n",
    "        #ssafy > p:nth-of-type(2){\n",
    "            color: blue;\n",
    "            }\n",
    "    </style>\n",
    "</head>\n",
    "<body>\n",
    "    <div id=\"ssafy\">\n",
    "        <h2>어떻게 선택 될까?</h2>\n",
    "        <p>첫번째 단락</p>\n",
    "        <p>두번째 단락</p>\n",
    "        <p>세번째 단락</p>\n",
    "        <p>네번째 단락</p>\n",
    "      </div>\n",
    "</body>\n",
    "</html>\n"
   ]
  },
  {
   "cell_type": "markdown",
   "id": "7f3308f2",
   "metadata": {},
   "source": [
    "1) 첫번재 단락의 문장이 빨갛게 변한다.<br>\n",
    "2) 두번째 단락의 문장이 파랗게 변한다."
   ]
  },
  {
   "cell_type": "markdown",
   "id": "faa61442",
   "metadata": {},
   "source": [
    "3) nth-child(n): 부모안의 모든 요소 중 n번째<br>\n",
    "     nth-of-type(n): 부모안의 특정 요소 중 n번째"
   ]
  }
 ],
 "metadata": {
  "kernelspec": {
   "display_name": "Python 3 (ipykernel)",
   "language": "python",
   "name": "python3"
  },
  "language_info": {
   "codemirror_mode": {
    "name": "ipython",
    "version": 3
   },
   "file_extension": ".py",
   "mimetype": "text/x-python",
   "name": "python",
   "nbconvert_exporter": "python",
   "pygments_lexer": "ipython3",
   "version": "3.9.13"
  },
  "toc": {
   "base_numbering": 1,
   "nav_menu": {},
   "number_sections": true,
   "sideBar": true,
   "skip_h1_title": false,
   "title_cell": "Table of Contents",
   "title_sidebar": "Contents",
   "toc_cell": false,
   "toc_position": {},
   "toc_section_display": true,
   "toc_window_display": false
  }
 },
 "nbformat": 4,
 "nbformat_minor": 5
}
