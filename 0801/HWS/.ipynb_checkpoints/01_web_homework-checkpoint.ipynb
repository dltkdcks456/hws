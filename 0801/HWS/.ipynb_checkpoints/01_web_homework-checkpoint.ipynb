{
 "cells": [
  {
   "cell_type": "markdown",
   "id": "d8e67236",
   "metadata": {},
   "source": [
    "# Web 01. HTML & CSS"
   ]
  },
  {
   "cell_type": "markdown",
   "id": "b34615b2",
   "metadata": {},
   "source": [
    "## 1. HTML 정의\n",
    "아래의 보기 (1) ~ (4) 중에서, HTML의 본딧말을 고르시오."
   ]
  },
  {
   "cell_type": "markdown",
   "id": "9053385f",
   "metadata": {},
   "source": [
    "정답: (3) HTML: Hyper Text Markup Language"
   ]
  },
  {
   "cell_type": "markdown",
   "id": "29f0bc0c",
   "metadata": {},
   "source": [
    "## 2. HTML 개념\n",
    "각 문항을 읽고 맞으면 T, 틀리면 F를 작성 하시오.<br>\n",
    "1) 웹 표준을 만드는 곳은 Mozilla 재단이다. **F: W3C에서 웹 표준을 만들었다.<br>**\n",
    "2) 표(table) 을 만들 때에는 반드시 `<th>` 태그를 사용해야 한다. **F: `<th>`는 테이블의 헤더를 만드는 태그로 반드시 필요한 것은 아니다.<br>**\n",
    "3) 제목(Heading) 태그는 제목 이외에는 사용하지 않는 것이 좋다.<br> **T: 제목을 나타내는데에 주로 사용**\n",
    "4) 리스트를 나열하기 위해서는 `<ul>` 태그만 사용 할 수 있다. **F: `<ol>` 태그도 리스트 나열에 사용할 수 있다.<br>**\n",
    "5) HTML의 태그는 반드시 별도의 닫는 태그가 필요하다 **F: `<br>`과 같은 것들은 태그 불필요<br>**"
   ]
  },
  {
   "cell_type": "markdown",
   "id": "03658c08",
   "metadata": {},
   "source": [
    "## 3. CSS 정의\n",
    "아래의 보기 (1) ~ (4) 중에서, CSS의 본딧말을 고르시오.<br>\n",
    "(1) Creative Style Sheets<br>\n",
    "**(2) Cascading Style Sheet 2번이 정답입니다!!| <br>** \n",
    "(3) Computer Style Sheets<br>\n",
    "(4) Colorful Style Sheet<br>"
   ]
  },
  {
   "cell_type": "markdown",
   "id": "7169bcc7",
   "metadata": {},
   "source": [
    "## 4. CSS 개념\n",
    "각 문항을 읽고 맞으면 T, 틀리면 F를 작성 하시오.<br>\n",
    "1) HTML과 CSS는 각자 문법을 갖는 별개의 언어이다.**T: HTML은 구조를 CSS는 디자인을 담당한 언어이다**<br>\n",
    "2) 웹 브라우저는 내장 기본 스타일이 있어 CSS가 없어도 작동한다. **T: 작동은 하지만 디자인적으로 이쁘진 않다.**<br>\n",
    "3) 자식 요소 프로퍼티는 부모의 프로퍼티를 모두 상속 받는다.**T: 부모의 모든 프로퍼티를 가져온다.**<br>\n",
    "4) 디바이스마다 화면의 크기가 다른 것을 고려하여 상대 단위인 %를 사용한다.**F: pixel단위를 사용하여 화면 크기를 나타낸다.<br>\n",
    "5) id 값은 유일해야 하므로 중복되어서는 안된다 **T: 중복이 되면, 오류를 찾기 힘들고 수정이 어렵다.**<br>"
   ]
  },
  {
   "cell_type": "markdown",
   "id": "2f78bbe4",
   "metadata": {},
   "source": [
    "## 5. CSS 우선순위\n",
    "CSS는 우선 적용되는 순서가 존재 한다. 우선순위가 높은 순으로 나열 하시오"
   ]
  },
  {
   "cell_type": "markdown",
   "id": "aad5d888",
   "metadata": {},
   "source": [
    "#### 우선순위 높은 순\n",
    "!important > Inline Style > id선택자 > class 선택자 > 요소 선택자 > 소스 순서"
   ]
  }
 ],
 "metadata": {
  "kernelspec": {
   "display_name": "Python 3 (ipykernel)",
   "language": "python",
   "name": "python3"
  },
  "language_info": {
   "codemirror_mode": {
    "name": "ipython",
    "version": 3
   },
   "file_extension": ".py",
   "mimetype": "text/x-python",
   "name": "python",
   "nbconvert_exporter": "python",
   "pygments_lexer": "ipython3",
   "version": "3.9.13"
  }
 },
 "nbformat": 4,
 "nbformat_minor": 5
}
