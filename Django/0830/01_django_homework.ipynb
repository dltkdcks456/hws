{
 "cells": [
  {
   "cell_type": "markdown",
   "id": "4312a733",
   "metadata": {},
   "source": [
    "# Django Web Framework"
   ]
  },
  {
   "cell_type": "markdown",
   "id": "7a392cf6",
   "metadata": {},
   "source": [
    "## 1. MTV\n",
    "Django는 MTV 디자인 패턴으로 이루어진 Web Framework이다. 여기서 MTV는 무엇의\n",
    "약자이며, 각각 MVC 디자인 패턴과 어떻게 매칭이 되며 각 키워드가 Django에서 하는\n",
    "역할을 간략히 서술하시오."
   ]
  },
  {
   "cell_type": "markdown",
   "id": "a77adb0e",
   "metadata": {},
   "source": [
    "1.MTV(Model Template View)<br>\n",
    "2.MVC(Model - View - Controller) MTV(Model - Template - View)<br>\n",
    "3. Model: 데이터와 관련된 로직 관리<br>\n",
    "   Template: 레이아웃과 화면을 처리<br>\n",
    "   View: Model & Template과 관련된 로직을 처리<br>"
   ]
  },
  {
   "cell_type": "markdown",
   "id": "33197866",
   "metadata": {},
   "source": [
    "## 2. URL\n",
    "__(a)__는 Django에서 URL 자체를 변수처럼 사용해서 동적으로 주소를 만드는 것을\n",
    "의미한다. __(a)__는 무엇인지 작성하시오."
   ]
  },
  {
   "cell_type": "markdown",
   "id": "e6b206ab",
   "metadata": {},
   "source": [
    "Variable routing"
   ]
  },
  {
   "cell_type": "markdown",
   "id": "59907a57",
   "metadata": {},
   "source": [
    "## 3. Django template path\n",
    "Django 프로젝트는 render할 template 파일들을 찾을 때, 기본적으로 settings.py에\n",
    "등록된 각 앱 폴더 안의 __(a)__ 폴더 내부를 탐색한다. \n",
    "__(a)__에 들어갈 폴더 이름을 작성하시오"
   ]
  },
  {
   "cell_type": "markdown",
   "id": "0f6de68e",
   "metadata": {},
   "source": [
    "templates"
   ]
  }
 ],
 "metadata": {
  "kernelspec": {
   "display_name": "Python 3 (ipykernel)",
   "language": "python",
   "name": "python3"
  },
  "language_info": {
   "codemirror_mode": {
    "name": "ipython",
    "version": 3
   },
   "file_extension": ".py",
   "mimetype": "text/x-python",
   "name": "python",
   "nbconvert_exporter": "python",
   "pygments_lexer": "ipython3",
   "version": "3.9.13"
  }
 },
 "nbformat": 4,
 "nbformat_minor": 5
}
