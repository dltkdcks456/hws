{
 "cells": [
  {
   "cell_type": "markdown",
   "id": "9332a33f",
   "metadata": {},
   "source": [
    "# Django Web Framework"
   ]
  },
  {
   "cell_type": "markdown",
   "id": "c52c3a77",
   "metadata": {},
   "source": [
    "## 1. 한국어로 번역하기\n",
    "1-1. Django 프로젝트를 한국어로 제공하기 위해 번역이 필요하다. 이 설정을 위해\n",
    "settings.py에 어떤 변수를 어떤 값으로 할당해야 하는지 작성하시오."
   ]
  },
  {
   "cell_type": "markdown",
   "id": "2c3354ae",
   "metadata": {},
   "source": [
    "LANGUAGE_CODE = 'ko-kr'"
   ]
  },
  {
   "cell_type": "markdown",
   "id": "03f6f2df",
   "metadata": {},
   "source": [
    "1-2 추가로 settings.py에 ‘이 변수‘가 활성화인 상태여야 1-1번 변수를 설정할 수 있다고 한\n",
    "다. ‘이 변수’는 무엇인가?’"
   ]
  },
  {
   "cell_type": "markdown",
   "id": "7ccfca7d",
   "metadata": {},
   "source": [
    "USE_I18N"
   ]
  },
  {
   "cell_type": "markdown",
   "id": "0bc2058b",
   "metadata": {},
   "source": [
    "## 2. 경로 설정하기\n",
    "다음은 어떤 django 프로젝트의 urls.py의 모습이다. 주소 ’/ssafy’로 요청이 들어왔을 때 실\n",
    "행되는 함수가 pages 앱의 views.py 파일 안 ssafy 함수라면, 요청에 응답하기 위해\n",
    "빈칸 __(a)__에 추가되어야 할 코드를 작성하시오."
   ]
  },
  {
   "cell_type": "markdown",
   "id": "c9b072f4",
   "metadata": {},
   "source": [
    "'ssafy/', views.ssafy"
   ]
  },
  {
   "cell_type": "markdown",
   "id": "96eb5735",
   "metadata": {},
   "source": [
    "## 3. Django Template Language\n",
    "아래 링크를 참고하여 각 문제들을 해결하기 위한 코드를 작성하시오."
   ]
  },
  {
   "cell_type": "markdown",
   "id": "3daf6398",
   "metadata": {},
   "source": [
    "1) menus 리스트를 반복문으로 출력하시오."
   ]
  },
  {
   "cell_type": "markdown",
   "id": "34ca9ee4",
   "metadata": {},
   "source": [
    "(a): menu"
   ]
  },
  {
   "cell_type": "markdown",
   "id": "bf791c22",
   "metadata": {},
   "source": [
    "2) posts 리스트를 반목문을 활용하여 0번 글부터 출력하시오."
   ]
  },
  {
   "cell_type": "markdown",
   "id": "367b701e",
   "metadata": {},
   "source": [
    "(a): forloop.counter0"
   ]
  },
  {
   "cell_type": "markdown",
   "id": "9eed5db1",
   "metadata": {},
   "source": [
    "3) users 리스트가 비어있다면 현재 가입한 유저가 없습니다. 텍스트를 출력하시오."
   ]
  },
  {
   "cell_type": "markdown",
   "id": "9f82ce44",
   "metadata": {},
   "source": [
    "(a): empty"
   ]
  },
  {
   "cell_type": "markdown",
   "id": "2e83ebe1",
   "metadata": {},
   "source": [
    "4) 첫 번째 반복문일 때와 아닐 때를 조건문으로 분기처리 하시오."
   ]
  },
  {
   "cell_type": "markdown",
   "id": "08ad8da8",
   "metadata": {},
   "source": [
    "(a):if (b): else (c):endif"
   ]
  },
  {
   "cell_type": "markdown",
   "id": "6e448206",
   "metadata": {},
   "source": [
    "5) 출력된 결과가 주석과 같아지도록 하시오."
   ]
  },
  {
   "cell_type": "markdown",
   "id": "c9b4138b",
   "metadata": {},
   "source": [
    "(a): length (b): title"
   ]
  },
  {
   "cell_type": "markdown",
   "id": "758cb017",
   "metadata": {},
   "source": [
    "6) 변수 today에 datetime 객체가 들어있을 때 출력된 결과가 주석과 같아지도록\n",
    "작성하시오."
   ]
  },
  {
   "cell_type": "markdown",
   "id": "b0a81889",
   "metadata": {},
   "source": [
    "(a): Y년 m월 d일 (D) A h:i"
   ]
  },
  {
   "cell_type": "markdown",
   "id": "57593b8b",
   "metadata": {},
   "source": [
    "## 4. Form tag with Django\n",
    "다음은 form tag 에 관한 문제이다. 올바른 답을 작성하시오."
   ]
  },
  {
   "cell_type": "markdown",
   "id": "94139d43",
   "metadata": {},
   "source": [
    "1) 지문의 코드 중 form 태그의 속성인 action의 역할에 대해 설명하시오."
   ]
  },
  {
   "cell_type": "markdown",
   "id": "0edbc775",
   "metadata": {},
   "source": [
    "사용자에 의해 데이터가 입력되었을 때 해당 데이터가 이동할 경로를 설정해줌"
   ]
  },
  {
   "cell_type": "markdown",
   "id": "4c733f65",
   "metadata": {},
   "source": [
    "2) 지문의 코드 중 method가 가질 수 있는 속성 값을 작성하시오."
   ]
  },
  {
   "cell_type": "markdown",
   "id": "40be55aa",
   "metadata": {},
   "source": [
    "GET, POST"
   ]
  },
  {
   "cell_type": "markdown",
   "id": "2e232d50",
   "metadata": {},
   "source": [
    "3) input 태그에 각각 `안녕하세요`, `반갑습니다`, `파이팅` 문자열을 넣고\n",
    "submit 버튼을 눌렀을 때 이동하는 url 경로를 작성하시오."
   ]
  },
  {
   "cell_type": "markdown",
   "id": "899f0b58",
   "metadata": {},
   "source": [
    "/create/?title=안녕하세요&content=반갑습니다&my-site=파이팅"
   ]
  }
 ],
 "metadata": {
  "kernelspec": {
   "display_name": "Python 3 (ipykernel)",
   "language": "python",
   "name": "python3"
  },
  "language_info": {
   "codemirror_mode": {
    "name": "ipython",
    "version": 3
   },
   "file_extension": ".py",
   "mimetype": "text/x-python",
   "name": "python",
   "nbconvert_exporter": "python",
   "pygments_lexer": "ipython3",
   "version": "3.9.13"
  }
 },
 "nbformat": 4,
 "nbformat_minor": 5
}
